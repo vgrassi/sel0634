{
  "nbformat": 4,
  "nbformat_minor": 0,
  "metadata": {
    "colab": {
      "name": "sel0634_aula1.ipynb",
      "provenance": [],
      "collapsed_sections": [
        "no0NhYK5nngy",
        "N1kmjglHs_dS"
      ],
      "authorship_tag": "ABX9TyMAWnYJWjPbnshnmPJ1+Hvs",
      "include_colab_link": true
    },
    "kernelspec": {
      "name": "python3",
      "display_name": "Python 3"
    },
    "language_info": {
      "name": "python"
    }
  },
  "cells": [
    {
      "cell_type": "markdown",
      "metadata": {
        "id": "view-in-github",
        "colab_type": "text"
      },
      "source": [
        "<a href=\"https://colab.research.google.com/github/vgrassi/sel0634/blob/main/sel0634_aula1.ipynb\" target=\"_parent\"><img src=\"https://colab.research.google.com/assets/colab-badge.svg\" alt=\"Open In Colab\"/></a>"
      ]
    },
    {
      "cell_type": "markdown",
      "metadata": {
        "id": "D943GmcCLPou"
      },
      "source": [
        "# SEL0634 - Laboratório de Robôs Manipuladores\n",
        "\n",
        "As aulas de laboratório utilizam as seguintes bibliotecas:\n",
        "\n",
        "*   [Spatial Maths for Python](https://github.com/petercorke/spatialmath-python#readme)\n",
        "*   [Robotics Toolbox for Python](https://github.com/petercorke/robotics-toolbox-python)\n",
        "\n",
        "## Aula 1 - Descrições Espaciais e Transformações\n",
        "\n",
        "A biblioteca [Spatial Maths for Python](https://github.com/petercorke/spatialmath-python#readme) disponibiliza classes para representar posição e orientação no espaço 3D e 2D. Recomenda-se a consulta à [documentação da biblioteca](https://petercorke.github.io/spatialmath-python/), e aos [notebooks de introdução](https://github.com/petercorke/spatialmath-python/tree/master/notebooks):\n",
        "\n",
        "*   [gentle-introduction.ipynb](https://github.com/petercorke/spatialmath-python/blob/master/notebooks/gentle-introduction.ipynb)\n",
        "*   [introduction.ipynb](https://github.com/petercorke/spatialmath-python/blob/master/notebooks/introduction.ipynb)\n",
        "\n",
        "Exemplos extraídos da documentação e dos notebooks da biblioteca são mostrados a seguir.\n"
      ]
    },
    {
      "cell_type": "markdown",
      "metadata": {
        "id": "XF6kT0SxSFXo"
      },
      "source": [
        "### Instalação da biblioteca \n",
        "\n",
        "O comando a seguir é usado para instalar a biblioteca para uso em um notebook no [Google Colab](https://colab.research.google.com/) ou [Binder](https://mybinder.org/):"
      ]
    },
    {
      "cell_type": "code",
      "metadata": {
        "id": "KmtHMgJOGDaB"
      },
      "source": [
        "!pip install numpy\n",
        "!pip install matplotlib\n",
        "!pip install sympy\n",
        "!pip install spatialmath-python"
      ],
      "execution_count": null,
      "outputs": []
    },
    {
      "cell_type": "markdown",
      "metadata": {
        "id": "y4GhhQrOS7px"
      },
      "source": [
        "A sequencia de comandos a seguir carrega as bibliotecas que serão usadas:"
      ]
    },
    {
      "cell_type": "code",
      "metadata": {
        "id": "rNz4Ou1qGKQu"
      },
      "source": [
        "import numpy as np\n",
        "from spatialmath import *\n",
        "from math import pi\n",
        "\n",
        "import matplotlib.pyplot as plt\n",
        "\n",
        "# no Binder utilizar essa linha\n",
        "#%matplotlib notebook  \n",
        "\n",
        "# no Colab utilizar essa linha\n",
        "%matplotlib inline  "
      ],
      "execution_count": null,
      "outputs": []
    },
    {
      "cell_type": "markdown",
      "metadata": {
        "id": "AAFgleywTQF7"
      },
      "source": [
        "### Representação de Coordenadas 3D\n",
        "\n",
        "#### Matriz de rotação\n",
        "\n",
        "Uma das formas de representar orientação no espaço 3D é através de matrizes de rotação $3\\times3$, que pertencem ao conjunto $SO(3)$. \n",
        "\n",
        "A biblioteca fornece funções para definir as matrizes básicas de rotação. Por exemplo, a matriz de rotação de $\\pi/4$ radianos em torno do eixo $x$ é definida por:"
      ]
    },
    {
      "cell_type": "code",
      "metadata": {
        "id": "6HKevsgmU1FI"
      },
      "source": [
        "R1 = SO3.Rx(pi/4)"
      ],
      "execution_count": null,
      "outputs": []
    },
    {
      "cell_type": "markdown",
      "metadata": {
        "id": "bxzyP5MDU-4g"
      },
      "source": [
        "Seu conteúdo pode ser mostrado:"
      ]
    },
    {
      "cell_type": "code",
      "metadata": {
        "id": "Ana9g_d8VC-a"
      },
      "source": [
        "R1"
      ],
      "execution_count": null,
      "outputs": []
    },
    {
      "cell_type": "markdown",
      "metadata": {
        "id": "eGnooNXPVhjX"
      },
      "source": [
        "Para definir uma matriz utilizando ângulos em graus:"
      ]
    },
    {
      "cell_type": "code",
      "metadata": {
        "id": "qr6ZQIxdWH93"
      },
      "source": [
        "SO3.Rx(45,'deg')"
      ],
      "execution_count": null,
      "outputs": []
    },
    {
      "cell_type": "markdown",
      "metadata": {
        "id": "KohSAmIDWOJM"
      },
      "source": [
        "Para compor matrizes de rotação, a biblioteca em Python utiliza o operador * "
      ]
    },
    {
      "cell_type": "code",
      "metadata": {
        "id": "jpGiA2zoWNvx"
      },
      "source": [
        "R1*R1"
      ],
      "execution_count": null,
      "outputs": []
    },
    {
      "cell_type": "markdown",
      "metadata": {
        "id": "Aza4tIMgYdJc"
      },
      "source": [
        "Também é possível utilizar o operador exponencial para repetir rotações iguais em sequencia:"
      ]
    },
    {
      "cell_type": "code",
      "metadata": {
        "id": "CkozRDmmYuxw"
      },
      "source": [
        "R1**2"
      ],
      "execution_count": null,
      "outputs": []
    },
    {
      "cell_type": "markdown",
      "metadata": {
        "id": "_5XhJl0sXpiz"
      },
      "source": [
        "Uma rotação de $\\pi/4$ em torno do eixo X seguida de uma outra rotação de $\\pi/4$ em torno do eixo X resulta em uma rotação de $\\pi/2$ em torno do eixo X. A soma dos ângulos é possível pois as duas rotações consecutivas são aplicadas em relação ao mesmo eixo. \n",
        "\n",
        "É possivel verificar esse resultado:"
      ]
    },
    {
      "cell_type": "code",
      "metadata": {
        "id": "7jYI97A5Wmjn"
      },
      "source": [
        "SO3.Rx(pi/2)"
      ],
      "execution_count": null,
      "outputs": []
    },
    {
      "cell_type": "markdown",
      "metadata": {
        "id": "OfzKHqH0YLxE"
      },
      "source": [
        "Uma matriz de rotação descreve a orientação de um sistema de coordenadas. Para visualizar o sistema de coordendas descrito pela matriz de rotação:"
      ]
    },
    {
      "cell_type": "code",
      "metadata": {
        "id": "iTxDwGWzZiXh"
      },
      "source": [
        "fig = plt.figure() # cria uma nova figura\n",
        "SE3().plot(frame='0', color='black') # mostra o sistema de coordenadas para rotação zero\n",
        "R1.plot(frame='1') # mostra o sistema de coordenadas com orientação dada por R1"
      ],
      "execution_count": null,
      "outputs": []
    },
    {
      "cell_type": "markdown",
      "metadata": {
        "id": "V8-2XuEwaSPl"
      },
      "source": [
        "A matriz de rotação não possui propriedade comutativa. \n",
        "\n",
        "Veja que $ R_x(\\pi/2) R_y(\\pi/2)$ é diferente de $ R_y(\\pi/2) R_x(\\pi/2)$:\n",
        "\n"
      ]
    },
    {
      "cell_type": "code",
      "metadata": {
        "id": "1lwJ5E6UbdMM"
      },
      "source": [
        "R2 = SO3.Rx(pi/2)*SO3.Ry(pi/2)\n",
        "R3 = SO3.Ry(pi/2)*SO3.Rx(pi/2)\n",
        "fig = plt.figure() # cria uma nova figura\n",
        "SE3().plot(frame='0', dims=[-1.5,1.5,-1.5,1.5,-1.5,1.5], color='black') # mostra o sistema de coordenadas para rotação zero\n",
        "R2.plot(frame='2', color='red')\n",
        "R3.plot(frame='2', color='blue')"
      ],
      "execution_count": null,
      "outputs": []
    },
    {
      "cell_type": "markdown",
      "metadata": {
        "id": "OAuIDFEsb9iN"
      },
      "source": [
        "Uma forma de definir uma rotação 3D é através dos ângulos roll, pitch, yaw. \n",
        "\n",
        "Para definir uma rotação com ângulo roll de $10^o$, ângulo pitch de $20^o$ e ângulo yaw de $30^o$ utiliza-se o comando:"
      ]
    },
    {
      "cell_type": "code",
      "metadata": {
        "id": "XQ-JILGOb9IY"
      },
      "source": [
        "R4 = SO3.RPY([10, 20, 30], unit='deg')\n",
        "R4"
      ],
      "execution_count": null,
      "outputs": []
    },
    {
      "cell_type": "markdown",
      "metadata": {
        "id": "BxNEvjW7dETo"
      },
      "source": [
        "A matriz de rotação resultante equivale à aplicação de uma rotação de $30^o$ em torno do eixo $Z$ (yaw), seguida de uma rotação de $20^o$ em torno do eixo $Y$ (pitch), seguida de uma rotação de $10^o$ em torno do eixo $X$, que é a convenção $ZYX$ para rotação roll-pitch-yaw. Nessa convenção, a sequencia de rotações $ZYX$ é aplicada em relação ao *sistema de coordenadas atual*, ou seja, primeiro o sistema de coordendas inicial é rotacionado em torno do eixo $Z$. Em seguida, é aplicada uma rotação em torno do eixo $Y$ atual, ou seja, do eixo $Y$ do sistema resultande da primeira rotação. Finalmente, é aplicada uma rotação em torno do eixo $X$ atual, que é o eixo $X$ do sistema resultante das rotações anteriores. Perceba que cada nova rotação é **pós-multiplicada** ao resultado já obtido."
      ]
    },
    {
      "cell_type": "code",
      "metadata": {
        "id": "W5CZXwCmeP6l"
      },
      "source": [
        "SO3.Rz(30,'deg')*SO3.Ry(20,'deg')*SO3.Rx(10,'deg')"
      ],
      "execution_count": null,
      "outputs": []
    },
    {
      "cell_type": "markdown",
      "metadata": {
        "id": "iQ__BxbIeuKI"
      },
      "source": [
        "A sequencia anterior também pode ser interpretada como sendo a composição de uma sequencia de rotações na ordem $XYZ$ definidas em relação ao *sistema de coordenadas fixo* inicial. Ou seja, primeiro aplica-se a rotação em torno do eixo $X$ do sistema inicial. O sistema resultante é então rotacionado em torno do eixo $Y$ do sistema inicial. Finalmente, o sistema resultante das duas rotações anteriores é rotacionado em torno do eixo $Z$ do sistema inicial. Perceba que todas as rotações foram definidas em torno do mesmo sistema, por isso, é chamado de composição de rotações em relação ao um *sistema de coordenadas fixo*, e cada nova rotação é **pré-multiplicada** ao resultado obtido."
      ]
    },
    {
      "cell_type": "markdown",
      "metadata": {
        "id": "9PMsswL3i141"
      },
      "source": [
        "Para visualizar a rotação resultante:"
      ]
    },
    {
      "cell_type": "code",
      "metadata": {
        "id": "miTmShOhiuCz"
      },
      "source": [
        "fig = plt.figure() # cria uma nova figura\n",
        "SE3().plot(frame='0', dims=[-1.5,1.5,-1.5,1.5,-1.5,1.5], color='black') # mostra o sistema de coordenadas para rotação zero\n",
        "R4.plot(frame='4') # mostra o sistema de coordenadas com orientação dada por R4"
      ],
      "execution_count": null,
      "outputs": []
    },
    {
      "cell_type": "markdown",
      "metadata": {
        "id": "a7xaEnZ8jAAQ"
      },
      "source": [
        "É possível obter os ângulos roll-pitch-yaw em radianos a partir da matrix de rotação:"
      ]
    },
    {
      "cell_type": "code",
      "metadata": {
        "id": "1yNfHqNZi0ES"
      },
      "source": [
        "R4.rpy()"
      ],
      "execution_count": null,
      "outputs": []
    },
    {
      "cell_type": "markdown",
      "metadata": {
        "id": "SbDZovNZkc49"
      },
      "source": [
        "##### Propriedades\n",
        "\n",
        "O objeto que representa a matriz de rotação em Python possui algumas propriedades.\n",
        "\n",
        "As colunas da matriz de rotação podem ser acessadas individualmente considerando $\\mathbf{R} = [n, o, a]$, onde $n$, $o$ e $a$ são vetores tridimensionais."
      ]
    },
    {
      "cell_type": "code",
      "metadata": {
        "id": "q_10dDfdl8Bg"
      },
      "source": [
        "R2.n"
      ],
      "execution_count": null,
      "outputs": []
    },
    {
      "cell_type": "code",
      "metadata": {
        "id": "J_S0GgNkl-no"
      },
      "source": [
        "R2.o"
      ],
      "execution_count": null,
      "outputs": []
    },
    {
      "cell_type": "code",
      "metadata": {
        "id": "Ova2yLS1mAUx"
      },
      "source": [
        "R2.a"
      ],
      "execution_count": null,
      "outputs": []
    },
    {
      "cell_type": "markdown",
      "metadata": {
        "id": "rCfsj6MmmLYa"
      },
      "source": [
        "A inversa da matriz de rotação, que é igual a sua transposta, pode ser obtida por:"
      ]
    },
    {
      "cell_type": "code",
      "metadata": {
        "id": "YYTfDiGemXTU"
      },
      "source": [
        "R2.inv()"
      ],
      "execution_count": null,
      "outputs": []
    },
    {
      "cell_type": "markdown",
      "metadata": {
        "id": "gjPz6VXImaEx"
      },
      "source": [
        "A dimensão da matriz pode ser obtida por:"
      ]
    },
    {
      "cell_type": "code",
      "metadata": {
        "id": "-MhzrkRsmhbf"
      },
      "source": [
        "R2.shape"
      ],
      "execution_count": null,
      "outputs": []
    },
    {
      "cell_type": "markdown",
      "metadata": {
        "id": "NMY7rTQQmj2L"
      },
      "source": [
        "A ordem da matriz é dada por:"
      ]
    },
    {
      "cell_type": "code",
      "metadata": {
        "id": "QhruyiBamotf"
      },
      "source": [
        "R2.N"
      ],
      "execution_count": null,
      "outputs": []
    },
    {
      "cell_type": "markdown",
      "metadata": {
        "id": "ZbMFCO7pm9a7"
      },
      "source": [
        "que indica que a matriz opera no espaço 3D."
      ]
    },
    {
      "cell_type": "markdown",
      "metadata": {
        "id": "BCFDEnFLmjnP"
      },
      "source": [
        "Algumas outras propriedades são comuns a outras classes da biblioteca:"
      ]
    },
    {
      "cell_type": "code",
      "metadata": {
        "id": "7LD1vbxbnN_3"
      },
      "source": [
        "[R1.isSE, R1.isSO, R1.isrot(), R1.ishom(), R1.isrot2(), R1.ishom2()]"
      ],
      "execution_count": null,
      "outputs": []
    },
    {
      "cell_type": "markdown",
      "metadata": {
        "id": "no0NhYK5nngy"
      },
      "source": [
        "#### Representando Posições\n",
        "\n",
        "Um movimento rígido composto de uma rotação e translação pode ser descrito por uma matriz de transformação homogênea, matriz $4\\times4$ que pertence ao conjunto $SE(3)$.\n",
        "\n",
        "A translação de $1$ na direção $x$, $2$ na direção $y$, e $3$ na direção $z$ pode ser definida pelo seguinte comando da biblioteca: "
      ]
    },
    {
      "cell_type": "code",
      "source": [],
      "metadata": {
        "id": "jBYQI1XJoZnp"
      },
      "execution_count": null,
      "outputs": []
    },
    {
      "cell_type": "code",
      "metadata": {
        "id": "0udrapvYndab"
      },
      "source": [
        "T1 = SE3(1,2,3)\n",
        "T1"
      ],
      "execution_count": null,
      "outputs": []
    },
    {
      "cell_type": "markdown",
      "metadata": {
        "id": "TL2qgMD2nlg7"
      },
      "source": [
        "onde a matriz de rotação é formada pelas 3 primeiras linhas e colunas, o vetor de translação é formado pelas 3 primeiras linhas da quarta coluna, e a quarta linha é constante. \n",
        "\n",
        "A matriz de rotação é a matriz identidade pois foi definida apenas uma translação.\n",
        "\n",
        "O vetor de translação pode ser também interpretado como a origem do sistema em relação a um referêncial inercial.\n",
        "\n",
        "Para visualizar o sistema de coordenadas definido por $T1$:"
      ]
    },
    {
      "cell_type": "code",
      "metadata": {
        "id": "6NgHlu1rp4jy"
      },
      "source": [
        "fig = plt.figure() # cria uma nova figura\n",
        "SE3().plot(frame='0', dims=[0,4,0,4,0,4], color='black') # mostra o sistema de coordenadas para rotação zero\n",
        "T1.plot(frame='1') "
      ],
      "execution_count": null,
      "outputs": []
    },
    {
      "cell_type": "markdown",
      "metadata": {
        "id": "Nb3S11YgqnEf"
      },
      "source": [
        "Definindo uma outra translação:"
      ]
    },
    {
      "cell_type": "code",
      "metadata": {
        "id": "AKhM_Lo2qvI3"
      },
      "source": [
        "T12 = SE3(2,-1,-2)\n",
        "T12"
      ],
      "execution_count": null,
      "outputs": []
    },
    {
      "cell_type": "markdown",
      "metadata": {
        "id": "rojpTHVbqyz9"
      },
      "source": [
        "Podemos compor a translação $T1$ com a translação adicional $T12$, multiplicamos as duas transformações homogêneas:"
      ]
    },
    {
      "cell_type": "code",
      "metadata": {
        "id": "p-tfhQLyq83L"
      },
      "source": [
        "T2 = T1*T12\n",
        "T2"
      ],
      "execution_count": null,
      "outputs": []
    },
    {
      "cell_type": "markdown",
      "metadata": {
        "id": "jwg4g5GPrcIR"
      },
      "source": [
        "A sequencia de multiplicação aplicada acima, $T1*T12$, significa que a transformação $T12$ é definida em relação ao sistema de coordenadas resultante da transformação $T1$, ou seja, o *sistema de coordenadas atual*. \n",
        "\n",
        "Perceba que ao compor às transformações homogêneas, o vetor de translação resultante (quarta coluna da matriz $T2$) é igual a soma da translação definida em $T1$ com a translação definida em $T12$. Esse resultado foi obtido pois não houve rotação definida nessas transformações."
      ]
    },
    {
      "cell_type": "code",
      "metadata": {
        "id": "MqHP4Y8ZrAIf"
      },
      "source": [
        "fig = plt.figure() # cria uma nova figura\n",
        "SE3().plot(frame='0', dims=[0,4,0,4,0,4], color='black') # mostra o sistema de coordenadas para rotação zero\n",
        "T1.plot(frame='1') \n",
        "T2.plot(frame='2', color='red') "
      ],
      "execution_count": null,
      "outputs": []
    },
    {
      "cell_type": "markdown",
      "metadata": {
        "id": "N1kmjglHs_dS"
      },
      "source": [
        "#### Representando uma Pose"
      ]
    },
    {
      "cell_type": "markdown",
      "metadata": {
        "id": "Cev8H5VwtEj5"
      },
      "source": [
        "De forma mais geral, a matriz de transformação homogênea representa um movimento de translação 3D e rotação 3D, que definem a pose de um sistema de coordendas. \n",
        "\n",
        "Na biblioteca, um movimento rígido 3D que representa a pose de um sistema de coordenadas, pode ser composto por uma translação pura seguida de uma rotação pura:"
      ]
    },
    {
      "cell_type": "code",
      "metadata": {
        "id": "x9p0mR72ui0x"
      },
      "source": [
        "T1 = SE3(1, 2, 3)* SE3.Rx(30, 'deg')\n",
        "T1"
      ],
      "execution_count": null,
      "outputs": []
    },
    {
      "cell_type": "markdown",
      "metadata": {
        "id": "Ofo1wIZ9vfxE"
      },
      "source": [
        "O sistema resultante pode ser visualizado:"
      ]
    },
    {
      "cell_type": "code",
      "metadata": {
        "id": "2GLysENSvkVC"
      },
      "source": [
        "plt.figure() \n",
        "SE3().plot(frame='0', dims=[0,4,0,4,0,4], color='black')\n",
        "T1.plot(frame='1')"
      ],
      "execution_count": null,
      "outputs": []
    },
    {
      "cell_type": "markdown",
      "metadata": {
        "id": "5YWkQbYSvvRs"
      },
      "source": [
        "##### Propriedades"
      ]
    },
    {
      "cell_type": "markdown",
      "metadata": {
        "id": "acTOiMM8wId4"
      },
      "source": [
        "As colunas da matriz de rotação representada na transformação homogênea podem ser acessadas:"
      ]
    },
    {
      "cell_type": "code",
      "metadata": {
        "id": "uY136s7vwtEY"
      },
      "source": [
        "T1.o"
      ],
      "execution_count": null,
      "outputs": []
    },
    {
      "cell_type": "markdown",
      "metadata": {
        "id": "-SfUCLcgwwH1"
      },
      "source": [
        "A inversa da matriz de transformação homogênea é dada por:"
      ]
    },
    {
      "cell_type": "code",
      "metadata": {
        "id": "5EDqMUhpw2J0"
      },
      "source": [
        "T1.inv()"
      ],
      "execution_count": null,
      "outputs": []
    },
    {
      "cell_type": "markdown",
      "metadata": {
        "id": "xTVEjF0Yw5_l"
      },
      "source": [
        "A matrix de rotação pode ser acessada como um array da biblioteca numpy:"
      ]
    },
    {
      "cell_type": "code",
      "metadata": {
        "id": "wbIpqTk2w3s6"
      },
      "source": [
        "T1.R"
      ],
      "execution_count": null,
      "outputs": []
    },
    {
      "cell_type": "markdown",
      "metadata": {
        "id": "IYC_LKsWxZ8Q"
      },
      "source": [
        "O vetor de translação pode ser acessado como um array da biblioteca numpy:"
      ]
    },
    {
      "cell_type": "code",
      "metadata": {
        "id": "mZ0aYNQTxtWe"
      },
      "source": [
        "T1.t"
      ],
      "execution_count": null,
      "outputs": []
    },
    {
      "cell_type": "markdown",
      "metadata": {
        "id": "uufp1_s8xva5"
      },
      "source": [
        "A dimensão da matriz é dada por:"
      ]
    },
    {
      "cell_type": "code",
      "metadata": {
        "id": "BsMjdkU1x1Qe"
      },
      "source": [
        "T1.shape"
      ],
      "execution_count": null,
      "outputs": []
    },
    {
      "cell_type": "markdown",
      "metadata": {
        "id": "-Q0PhF2Ax3Qv"
      },
      "source": [
        "e a ordem:"
      ]
    },
    {
      "cell_type": "code",
      "metadata": {
        "id": "usroRrPCx6Cr"
      },
      "source": [
        "T1.N"
      ],
      "execution_count": null,
      "outputs": []
    },
    {
      "cell_type": "markdown",
      "metadata": {
        "id": "NmtoWl72x84O"
      },
      "source": [
        "que indica que a matriz opera no espaço 3D."
      ]
    },
    {
      "cell_type": "markdown",
      "metadata": {
        "id": "kxCjOoMlyJQW"
      },
      "source": [
        "As propriedades comuns às outras classes também podem ser verificadas:"
      ]
    },
    {
      "cell_type": "code",
      "metadata": {
        "id": "03cpDc-ZyRwL"
      },
      "source": [
        "[T1.isSE, T1.isSO, T1.isrot(), T1.ishom(), T1.isrot2(), T1.ishom2()]"
      ],
      "execution_count": null,
      "outputs": []
    },
    {
      "cell_type": "markdown",
      "metadata": {
        "id": "QT7hS99qyec7"
      },
      "source": [
        "### Transformando pontos\n",
        "\n",
        "Considere que o seguinte conjunto de pontos definem os vértices de um cubo:"
      ]
    },
    {
      "cell_type": "code",
      "metadata": {
        "id": "bB_Gx9CxzRBX"
      },
      "source": [
        "P = np.array([[-1, 1, 1, -1, -1, 1, 1, -1], [-1, -1, 1, 1, -1, -1, 1, 1], [-1, -1, -1, -1, 1, 1, 1, 1]])\n",
        "P"
      ],
      "execution_count": null,
      "outputs": []
    },
    {
      "cell_type": "markdown",
      "metadata": {
        "id": "tCz-GR151aV7"
      },
      "source": [
        "Que pode ser visualizado por:"
      ]
    },
    {
      "cell_type": "code",
      "metadata": {
        "id": "5Z-92lAO1Z6M"
      },
      "source": [
        "def plot_cubo(cubo,grafico):\n",
        "  grafico.scatter(xs=cubo[0], ys=cubo[1], zs=cubo[2], s=20)  # draw vertices\n",
        "  # draw lines joining the vertices\n",
        "  lines = [[0,1,5,6], [1,2,6,7], [2,3,7,4], [3,0,4,5]]\n",
        "  for line in lines:\n",
        "      grafico.plot([cubo[0,i] for i in line], [cubo[1,i] for i in line], [cubo[2,i] for i in line])"
      ],
      "execution_count": null,
      "outputs": []
    },
    {
      "cell_type": "code",
      "metadata": {
        "id": "w8YdEiOU2XdV"
      },
      "source": [
        "fig = plt.figure()\n",
        "SE3().plot(frame='0', dims=[-2,3,0,5,0,5], color='black')\n",
        "grafico = plt.gca()\n",
        "plot_cubo(P,grafico)\n"
      ],
      "execution_count": null,
      "outputs": []
    },
    {
      "cell_type": "markdown",
      "metadata": {
        "id": "werwT1wdzUAY"
      },
      "source": [
        "Os pontos $^AP_i$ são definidos em relação a um sistema de coordenadas de referência fixo no corpo $\\{A\\}$. \n",
        "\n",
        "A transformação homogênea $^0T_A$ define a pose do sistema de coordenadas do corpo $\\{A\\}$ em relação ao sistema de coordenadas inercial $\\{0\\}$ (sistema de coordenadas do mundo).\n",
        "\n",
        "A coordenada dos pontos descrita no sistema de coordenadas do mundo $^0P_i$ é dada por:\n",
        "\n",
        "$$ {^0P_i} = {^0T_A} {^AP_i} $$\n",
        "\n",
        "Aplicando a transformação homogênea definida anteriormente para os vértices do cubo: "
      ]
    },
    {
      "cell_type": "code",
      "metadata": {
        "id": "E8W_U5mO1U0q"
      },
      "source": [
        "Q = T1*P\n",
        "\n",
        "fig = plt.figure()\n",
        "SE3().plot(frame='0', dims=[-2,3,0,5,0,5], color='black')\n",
        "grafico = plt.gca()\n",
        "plot_cubo(Q,grafico)"
      ],
      "execution_count": null,
      "outputs": []
    }
  ]
}