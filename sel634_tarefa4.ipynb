{
  "nbformat": 4,
  "nbformat_minor": 0,
  "metadata": {
    "colab": {
      "name": "sel634_tarefa4.ipynb",
      "provenance": [],
      "authorship_tag": "ABX9TyMNMinO7D4jdrCjfIXIuHe3"
    },
    "kernelspec": {
      "name": "python3",
      "display_name": "Python 3"
    },
    "language_info": {
      "name": "python"
    }
  },
  "cells": [
    {
      "cell_type": "markdown",
      "metadata": {
        "id": "RfOcPjB5LeQA"
      },
      "source": [
        "# SEL634 - Laboratório de Robôs Manipuladores\n",
        "\n",
        "## Inicialização da biblioteca\n",
        "\n",
        "Carregar a biblioteca de robótica para Python:"
      ]
    },
    {
      "cell_type": "code",
      "metadata": {
        "id": "byi8G6BxLXK7"
      },
      "source": [
        "!python3 -m pip install --user --upgrade pip==20.1\n",
        "!pip install roboticstoolbox-python\n",
        "!pip install spatialmath-python"
      ],
      "execution_count": null,
      "outputs": []
    },
    {
      "cell_type": "code",
      "metadata": {
        "id": "GhTb1eOALjKe"
      },
      "source": [
        "import numpy as np\n",
        "#import roboticstoolbox as rtb\n",
        "from roboticstoolbox import *\n",
        "from spatialmath import *\n",
        "from math import pi\n",
        "import matplotlib.pyplot as plt\n",
        "from matplotlib import cm\n",
        "np.set_printoptions(linewidth=100, formatter={'float': lambda x: f\"{x:8.4g}\" if abs(x) > 1e-10 else f\"{0:8.4g}\"})\n",
        "\n",
        "# no Binder utilizar essa linha\n",
        "%matplotlib notebook  \n",
        "# no Colab utilizar essa linha\n",
        "# %matplotlib inline"
      ],
      "execution_count": null,
      "outputs": []
    },
    {
      "cell_type": "markdown",
      "metadata": {
        "id": "76NHqE5ELmAl"
      },
      "source": [
        "## Cinemática Direta do Robô Kinova Gen3\n",
        "\n",
        "O robô Kinova Gen3 pode ser modelado pela seguinte função (ver Tarefa 2):"
      ]
    },
    {
      "cell_type": "code",
      "metadata": {
        "id": "PE8CpE4eMA3K"
      },
      "source": [
        "def kinova_robot(my_name):\n",
        "  robot = DHRobot(\n",
        "      [\n",
        "       # Colocar seu código aqui para completar a descrição do robô\n",
        "       RevoluteDH(alpha=pi,d=-(0.1059+0.0615),offset=pi) # Linha para a junta 7\n",
        "       ], name=my_name)\n",
        "  return robot\n"
      ],
      "execution_count": null,
      "outputs": []
    },
    {
      "cell_type": "markdown",
      "metadata": {
        "id": "gtjvxjQsMJ6P"
      },
      "source": [
        "A pose do efetuador do robô Kinova Gen3 é dada em relação a base, $B$, pela função:"
      ]
    },
    {
      "cell_type": "code",
      "metadata": {
        "id": "vRK0cR_TMQFO"
      },
      "source": [
        "def pose_efetuador(robot, q):\n",
        "  H_B0 = SE3.Rz(0)*SE3(0,0,0)*SE3(0,0,0)*SE3.Rx(pi)\n",
        "  H_07 = robot.fkine(q)\n",
        "  return H_B0*H_07"
      ],
      "execution_count": null,
      "outputs": []
    },
    {
      "cell_type": "markdown",
      "metadata": {
        "id": "Ij6qe5-S2Vis"
      },
      "source": [
        "A biblioteca de robótica permite acessar as **matrizes de transformação homogênea intermediárias do modelo de cinemática direta do robô**. \n",
        "\n",
        "Por exemplo, seja a variável `robot` o modelo retornado pela função `kinova_robot` criada anteriormente. O comando:\n",
        "\n",
        "```\n",
        "H = robot.A([j1,j2],q)\n",
        "```\n",
        "\n",
        "retorna a matriz de transformação homogênea `H` da junta `j2` em relação a junta `j1` para a configuração do robô `q`. \n",
        "\n",
        "Portanto, para obter a matriz de transformação homogênea $^0H_1$ para uma configuração `q` fornecida:\n",
        "```\n",
        "H = robot.A([0,1],q)\n",
        "```\n",
        "\n",
        "A biblioteca de robótica possui uma função que retorna o **jacobiano do manipulador** para uma configuração `q`:\n",
        "```\n",
        "J = robot.jacobe(q)\n",
        "```\n",
        "O comando acima retorna o Jacobiano completo $6 \\times N$. \n",
        "\n",
        "Para obter apenas a parte superior do Jacobiano, que está relacionado a velocidade linear:\n",
        "```\n",
        "J = robot.jacobe(q,half='trans')\n",
        "```\n",
        "Para obter apenas a parte inferior do Jacobiano, que está relacionado a velocidade angular:\n",
        "```\n",
        "J = robot.jacobe(q,half='rot')\n",
        "```"
      ]
    },
    {
      "cell_type": "code",
      "metadata": {
        "id": "c7NeJn033NfD"
      },
      "source": [
        "robot = kinova_robot(\"meu_robo\")\n",
        "q = np.array([0,0,0,0,0,0,0])\n",
        "robot.A([0,1],q)"
      ],
      "execution_count": null,
      "outputs": []
    },
    {
      "cell_type": "markdown",
      "metadata": {
        "id": "I2hWmRQG0GNQ"
      },
      "source": [
        "## Trajetória do Robô no Espaço das Juntas\n",
        "\n",
        "Considere que a junta $i$ possui a seguinte trajetória  em graus no tempo que leva a junta $i$ da posição $\\theta_{si}$ até $\\theta_{gi}$ em um dado tempo $T_d$:\n",
        "$$ \\theta_i (t) = c_{0i} + c_{1i} t + c_{2i} t^2 + c_{3i} t^3 + c_{4i} t^4 + c_{5i} t^5 $$\n",
        "Para velocidades e acelerações iniciais e finais iguais a zero, os coeficientes do polinômio são dados em função da posição inicial e final e do intervalo de tempo:\n",
        "\\begin{eqnarray*}\n",
        "\t&c_{0i}& = \\theta_{si}\\\\\n",
        "\t&c_{1i}& = c_{2i} = 0\\\\\n",
        "\t&c_{3i}& = \\frac{10(\\theta_{gi}-\\theta_{si})}{T_d^{3}}\\\\\n",
        "\t&c_{4i}& = \\frac{15(\\theta_{si}-\\theta_{gi})}{T_d^{4}}\\\\\n",
        "\t&c_{5i}& = \\frac{6(\\theta_{gi}-\\theta_{si})}{T_d^{5}}\n",
        "\\end{eqnarray*}\n",
        "\n",
        "A velocidade de cada junta para condições iniciais nulas é dada por:\n",
        "$$ \\dot\\theta_i (t) = c_{1i} + 2c_{2i} t + 3c_{3i} t^2 + 4c_{4i} t^3 + 5c_{5i} t^4 $$\n",
        "\n",
        "A aceleração de cada junta para condições iniciais nulas é dada por:\n",
        "$$ \\ddot\\theta_i (t) = 2c_{2i} + 6c_{3i} t + 12c_{4i} t^2 + 20c_{5i} t^3 $$\n",
        "\n",
        "A função a seguir foi implementada na Tarefa 3 para calcular a trajetória das juntas do manipulador:\n"
      ]
    },
    {
      "cell_type": "code",
      "metadata": {
        "id": "dDkgxSqhNUP3"
      },
      "source": [
        "def calcular_trajetoria(theta_s, theta_g, Td, dt):\n",
        "  # Coloque seu codigo aqui\n",
        "\n",
        "  return theta_t, dtheta_t, ddtheta_t"
      ],
      "execution_count": null,
      "outputs": []
    },
    {
      "cell_type": "markdown",
      "metadata": {
        "id": "amRIj2OOOKM2"
      },
      "source": [
        "A função a seguir foi implementada na Tarefa 3 para calcular a sequencia no tempo de matrizes de transformação homogênea que representa a pose do robô (posição e orientação do efetuador)"
      ]
    },
    {
      "cell_type": "code",
      "metadata": {
        "id": "d4LVto0AOcWP"
      },
      "source": [
        "def calcular_traj_efetuador(robot, theta_t):\n",
        "  # Coloque seu codigo aqui\n",
        "\n",
        "return H_efetuador"
      ],
      "execution_count": null,
      "outputs": []
    },
    {
      "cell_type": "markdown",
      "metadata": {
        "id": "98NrriRZ1JX3"
      },
      "source": [
        "## 4. Velocidade do Efetuador do Robô Manipulador\n",
        "\n",
        "Na tarefa 4, você vai implementar funções para calcular a velocidade do efetuador do manipulador Kinova Gen3 em relação a sua base $B$.\n",
        "\n",
        "### 4.1 Jacobiano do Manipulador\n",
        "\n",
        "Implemente uma função semelhante àquela disponível na biblioteca de robótica para calcular o Jacobiano do manipulador em relação ao sistema de coordenada $\\{0\\}$. Nesta etapa não considere a transformação homogênea $^BH_0$. \n",
        "\n",
        "**Entrada:** modelo cinemático do robô, e o vetor de configuração do robô em um determinado instante de tempo ($6 \\times 1$).\n",
        "\n",
        "**Saída:** o Jacobinado do efetuador em relação ao sistema de coordenadas $\\{0\\}$ para um instante de tempo, ou seja, matriz $6 \\times N$.\n"
      ]
    },
    {
      "cell_type": "code",
      "metadata": {
        "id": "rSU3h3ynDJT7"
      },
      "source": [
        "def calcular_jacobiano(robot,theta):\n",
        "  # Coloque seu codigo aqui\n",
        "\n",
        "  return J_efetuador"
      ],
      "execution_count": null,
      "outputs": []
    },
    {
      "cell_type": "markdown",
      "metadata": {
        "id": "T90-9R_lECug"
      },
      "source": [
        "### 4.2 Velocidade do Manipulador\n",
        "\n",
        "Implemente uma função que calcula a velocidade do efetuador do Kinova Gen3 em relação a base. Para isso utilize a função implementada no item 4.1.\n",
        "\n",
        "O calculo das velocidades linear e angular do manipulador em relação ao sistema $\\{0\\}$ para um dado instante de tempo é:\n",
        "\n",
        "$$\\begin{bmatrix} ^0v_n(t) \\\\ ^0w_n(t) \\end{bmatrix} = {^0J_n}(q(t)) ~\\dot q(t) $$\n",
        "\n",
        "Como a origem do sistema de coordenadas $\\{0\\}$ e $\\{B\\}$ coincidem, para transformar o vetor de velocidades para o sistema de coordenadas da base $\\{B\\}$:\n",
        "\n",
        "$$ \\begin{bmatrix} ^Bv_n(t) \\\\ ^Bw_n(t) \\end{bmatrix} = {^BR_0}\\begin{bmatrix} ^Bv_n(t) \\\\ ^Bw_n(t) \\end{bmatrix} $$\n",
        "\n",
        "**Entrada:** modelo cinemático do robô, vetor de configuração do robô no tempo ($N \\times M$), velocidade das juntas do robô no tempo ($N \\times M$), onde $M$ é a quantidade de pontos da trajetória no tempo (ver Tarefa 3).\n",
        "\n",
        "**Saída:** Velocidade linear (m/s) e angular (rad/s) do efetuador em relação ao sistema de coordenadas $\\{B\\}$ ao longo do tempo (matriz $6 \\times M$) "
      ]
    },
    {
      "cell_type": "code",
      "metadata": {
        "id": "TCpQrm-c7eMF"
      },
      "source": [
        "def calcular_vel_efetuador(robot,theta_t,dtheta_t):\n",
        "  # Coloque seu codigo aqui\n",
        "\n",
        "\n",
        "  return V_efetuador"
      ],
      "execution_count": null,
      "outputs": []
    },
    {
      "cell_type": "markdown",
      "metadata": {
        "id": "ullyc3GbIMm5"
      },
      "source": [
        "### 4.3 Velocidade do Manipulador - Calculo alternativo\n",
        "\n",
        "Implemente a mesma função anterior, mas utilizando o calculo de Jacobiano feito pela biblioteca de robótica através da função: \n",
        "\n",
        "`J = robot.jacobe(q)`\n",
        "\n"
      ]
    },
    {
      "cell_type": "code",
      "metadata": {
        "id": "qD78NA_FImFv"
      },
      "source": [
        "def calcular_vel_efetuador_alternativo(robot,theta_t,dtheta_t):\n",
        "  # Coloque seu codigo aqui\n",
        "\n",
        "\n",
        "  return V_efetuador"
      ],
      "execution_count": null,
      "outputs": []
    },
    {
      "cell_type": "markdown",
      "metadata": {
        "id": "MPUmv89tIrgo"
      },
      "source": [
        "### 4.4 Plotar velocidade do efetuador\n",
        "\n",
        "Implemente uma função para gerar dois gráficos: um gráfico para mostrar a evolução no tempo de cada componente da velocidade linear; outro gráfico para mostrar no tempo a evoluçào da velocidade angular. Utilize as funções implementadas no item 4.1 e 4.2.\n"
      ]
    },
    {
      "cell_type": "code",
      "metadata": {
        "id": "OuRwfICdJHuv"
      },
      "source": [
        "def plotar_vel_efetuador(robot, theta_t, dtheta_t, Td, dt):\n",
        "  # Coloque seu codigo aqui"
      ],
      "execution_count": null,
      "outputs": []
    },
    {
      "cell_type": "markdown",
      "metadata": {
        "id": "p8IcN-ZxJiJJ"
      },
      "source": [
        "Faça outra função para gerar os mesmos gráficos de velocidade, mas utilizando a função implementada no item 4.3."
      ]
    },
    {
      "cell_type": "code",
      "metadata": {
        "id": "ERuIJW27KEIz"
      },
      "source": [
        "def plotar_vel_efetuador_alternativo(robot, theta_t, dtheta_t, Td, dt):\n",
        "  # Coloque seu codigo aqui"
      ],
      "execution_count": null,
      "outputs": []
    },
    {
      "cell_type": "markdown",
      "metadata": {
        "id": "ofFcMwTiKHYN"
      },
      "source": [
        "Os gráficos gerados devem ser iguais. "
      ]
    },
    {
      "cell_type": "markdown",
      "metadata": {
        "id": "zGrcgsu8OlI_"
      },
      "source": [
        "### 4.5 Teste das funções\n",
        "\n",
        "Faça o teste das funções do item 4.4 para os seguintes parâmetros: $T_d = 10$ segundos, $\\delta t = 0.01$ segundos,  posição inicial das juntas $\\theta_s = [0, 0, 0, 0, 0, 0, 0]^T$  e posição final das juntas $\\theta_g = [90, 90, 0, -90, 0, 90, 0]^T$ dada em graus."
      ]
    },
    {
      "cell_type": "code",
      "metadata": {
        "id": "57dIRjd6Otd-"
      },
      "source": [
        "Td = 10.0\n",
        "dt = 0.01\n",
        "theta_s = np.array([0,0,0,0,0,0,0])\n",
        "theta_g = np.array([90,90,0,−90,0,90,0])\n",
        "\n"
      ],
      "execution_count": null,
      "outputs": []
    }
  ]
}