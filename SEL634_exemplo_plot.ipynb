{
  "nbformat": 4,
  "nbformat_minor": 0,
  "metadata": {
    "colab": {
      "name": "SEL634_exemplo_plot.ipynb",
      "provenance": [],
      "authorship_tag": "ABX9TyNIshVNT1r3Qat5eKYGVNWx"
    },
    "kernelspec": {
      "name": "python3",
      "display_name": "Python 3"
    },
    "language_info": {
      "name": "python"
    }
  },
  "cells": [
    {
      "cell_type": "code",
      "metadata": {
        "id": "ljog5UI96TjI"
      },
      "source": [
        "import numpy as np\n",
        "from math import pi\n",
        "import matplotlib.pyplot as plt\n",
        "from matplotlib import cm"
      ],
      "execution_count": 2,
      "outputs": []
    },
    {
      "cell_type": "code",
      "metadata": {
        "colab": {
          "base_uri": "https://localhost:8080/"
        },
        "id": "6QaNRobf6Xj_",
        "outputId": "6459b36c-848b-4448-a5e5-260af7c8b5a0"
      },
      "source": [
        "t = np.arange(0,10.5,0.5)\n",
        "t"
      ],
      "execution_count": 51,
      "outputs": [
        {
          "output_type": "execute_result",
          "data": {
            "text/plain": [
              "array([ 0. ,  0.5,  1. ,  1.5,  2. ,  2.5,  3. ,  3.5,  4. ,  4.5,  5. ,\n",
              "        5.5,  6. ,  6.5,  7. ,  7.5,  8. ,  8.5,  9. ,  9.5, 10. ])"
            ]
          },
          "metadata": {
            "tags": []
          },
          "execution_count": 51
        }
      ]
    },
    {
      "cell_type": "code",
      "metadata": {
        "id": "_TSIAao78ww5"
      },
      "source": [
        "y1 = 10*t*t + 5*t + 2\n",
        "y2 = 5*t*t + 4*t "
      ],
      "execution_count": 34,
      "outputs": []
    },
    {
      "cell_type": "code",
      "metadata": {
        "colab": {
          "base_uri": "https://localhost:8080/",
          "height": 296
        },
        "id": "-Y1LKPtXGgYD",
        "outputId": "e646216e-bc98-42c4-b6ed-81fa079cfd86"
      },
      "source": [
        "plt.plot(t,y1,'r-',t,y2,'b-')\n",
        "plt.ylabel('Amplitude (V)')\n",
        "plt.xlabel('Tempo (s)')\n",
        "plt.legend(['y1','y2'])"
      ],
      "execution_count": 37,
      "outputs": [
        {
          "output_type": "execute_result",
          "data": {
            "text/plain": [
              "<matplotlib.legend.Legend at 0x7fa25abc65d0>"
            ]
          },
          "metadata": {
            "tags": []
          },
          "execution_count": 37
        },
        {
          "output_type": "display_data",
          "data": {
            "image/png": "[encoded data removed]",
            "text/plain": [
              "<Figure size 432x288 with 1 Axes>"
            ]
          },
          "metadata": {
            "tags": [],
            "needs_background": "light"
          }
        }
      ]
    }
  ]
}