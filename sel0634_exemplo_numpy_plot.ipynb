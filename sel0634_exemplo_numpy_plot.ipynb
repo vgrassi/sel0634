{
  "nbformat": 4,
  "nbformat_minor": 0,
  "metadata": {
    "colab": {
      "name": "sel0634_exemplo_numpy_plot.ipynb",
      "provenance": [],
      "collapsed_sections": [],
      "authorship_tag": "ABX9TyO2xhvxW7ADJBxagxv7AFh5"
    },
    "kernelspec": {
      "name": "python3",
      "display_name": "Python 3"
    },
    "language_info": {
      "name": "python"
    }
  },
  "cells": [
    {
      "cell_type": "markdown",
      "metadata": {
        "id": "121gN4-_JiQq"
      },
      "source": [
        "# SEL0634 - Laboratório de Robôs Manipuladores\n",
        "\n",
        "Exemplo de código para manipulação de vetores e para plotar gráficos.\n",
        "\n"
      ]
    },
    {
      "cell_type": "markdown",
      "source": [
        "## Instalando as bibliotecas\n",
        "\n",
        "Instala as bibliotecas `numpy` e `matplotlib`"
      ],
      "metadata": {
        "id": "ZEjlZXUG3PAE"
      }
    },
    {
      "cell_type": "code",
      "source": [
        "!pip install numpy\n",
        "!pip install matplotlib"
      ],
      "metadata": {
        "id": "AYIplt5J3TjZ"
      },
      "execution_count": null,
      "outputs": []
    },
    {
      "cell_type": "markdown",
      "source": [
        "## Inicialização das bibliotecas\n",
        "\n",
        "Carrega as bibliotecas `numpy` e `matplotlib`"
      ],
      "metadata": {
        "id": "V8mFDfKY3Kv3"
      }
    },
    {
      "cell_type": "code",
      "metadata": {
        "id": "ljog5UI96TjI"
      },
      "source": [
        "import numpy as np\n",
        "from math import pi\n",
        "import matplotlib.pyplot as plt\n",
        "from matplotlib import cm"
      ],
      "execution_count": null,
      "outputs": []
    },
    {
      "cell_type": "markdown",
      "metadata": {
        "id": "FkCUbdXaJ8FA"
      },
      "source": [
        "## Manipulação de Vetores\n",
        "\n",
        "Os comandos a seguir podem ser usados para inicializar vetores utilizando a biblioteca `numpy`.\n",
        "\n",
        "Para inicializar um vetor com elementos pré-definidos:"
      ]
    },
    {
      "cell_type": "code",
      "metadata": {
        "colab": {
          "base_uri": "https://localhost:8080/"
        },
        "id": "mzaYBykWKTnw",
        "outputId": "afab2ef5-e3a5-4189-a327-73edbc8f8145"
      },
      "source": [
        "a = np.array([1, 3, 7, 8])\n",
        "a"
      ],
      "execution_count": null,
      "outputs": [
        {
          "output_type": "execute_result",
          "data": {
            "text/plain": [
              "array([1, 3, 7, 8])"
            ]
          },
          "metadata": {
            "tags": []
          },
          "execution_count": 2
        }
      ]
    },
    {
      "cell_type": "markdown",
      "metadata": {
        "id": "5l_CCAFOKdu4"
      },
      "source": [
        "Para inicializar uma matriz com elementos pré-definidos:"
      ]
    },
    {
      "cell_type": "code",
      "metadata": {
        "colab": {
          "base_uri": "https://localhost:8080/"
        },
        "id": "5IrFsIyAKdSD",
        "outputId": "142bf62f-b7f1-40fb-ce50-d7bee5689137"
      },
      "source": [
        "A = np.array([[1, 5, 3, 9],\n",
        "              [0, 2, 0, 2]])\n",
        "A"
      ],
      "execution_count": null,
      "outputs": [
        {
          "output_type": "execute_result",
          "data": {
            "text/plain": [
              "array([[1, 5, 3, 9],\n",
              "       [0, 2, 0, 2]])"
            ]
          },
          "metadata": {
            "tags": []
          },
          "execution_count": 5
        }
      ]
    },
    {
      "cell_type": "markdown",
      "metadata": {
        "id": "ZyRazJB-KyuZ"
      },
      "source": [
        "Para inicializar um vetor ou matriz com zero ou um:"
      ]
    },
    {
      "cell_type": "code",
      "metadata": {
        "colab": {
          "base_uri": "https://localhost:8080/"
        },
        "id": "KGAH1JmzLKHJ",
        "outputId": "054ceff9-e03b-4f24-855d-561c9af0ec17"
      },
      "source": [
        "N = 2\n",
        "M = 4\n",
        "B = np.zeros((N,M)) # Matriz de 0s de dimensão NxM\n",
        "C = np.ones((N,M)) # Matriz de 1s de dimensão NxM\n",
        "print(\"B = \",B)\n",
        "print(\"C = \",C)"
      ],
      "execution_count": null,
      "outputs": [
        {
          "output_type": "stream",
          "text": [
            "B =  [[0. 0. 0. 0.]\n",
            " [0. 0. 0. 0.]]\n",
            "C =  [[1. 1. 1. 1.]\n",
            " [1. 1. 1. 1.]]\n"
          ],
          "name": "stdout"
        }
      ]
    },
    {
      "cell_type": "markdown",
      "metadata": {
        "id": "S2oopQPVLo9s"
      },
      "source": [
        "Para inicializar um vetor de elementos igualmente espaçados por `step`, que começa em `start` e vai até `end` (excluindo o valor `end`):"
      ]
    },
    {
      "cell_type": "code",
      "metadata": {
        "colab": {
          "base_uri": "https://localhost:8080/"
        },
        "id": "LbsWFKvtMJjS",
        "outputId": "29859c58-036b-4916-a28f-c838bceb457b"
      },
      "source": [
        "start = 0\n",
        "step = 0.5\n",
        "end = 10+step # Observe que para que o vetor termine no valor 10, é preciso definir end=10+step\n",
        "t = np.arange(start,end,step)\n",
        "t"
      ],
      "execution_count": null,
      "outputs": [
        {
          "output_type": "execute_result",
          "data": {
            "text/plain": [
              "array([ 0. ,  0.5,  1. ,  1.5,  2. ,  2.5,  3. ,  3.5,  4. ,  4.5,  5. ,\n",
              "        5.5,  6. ,  6.5,  7. ,  7.5,  8. ,  8.5,  9. ,  9.5, 10. ])"
            ]
          },
          "metadata": {
            "tags": []
          },
          "execution_count": 8
        }
      ]
    },
    {
      "cell_type": "markdown",
      "metadata": {
        "id": "5QoIH5GqMWmL"
      },
      "source": [
        "Para inicializar um vetor de `num` elementos igualmente espaçados que começa em `start` e vai até `end` (excluindo o valor `end`):"
      ]
    },
    {
      "cell_type": "code",
      "metadata": {
        "colab": {
          "base_uri": "https://localhost:8080/"
        },
        "id": "6QaNRobf6Xj_",
        "outputId": "b6be9bb1-4af8-4866-b18a-278503cb925a"
      },
      "source": [
        "start = 0\n",
        "end = 10\n",
        "num = 21    # Observe que para conseguir o mesmo step que o exemplo anterior, num=(1+(end-start)/step)\n",
        "t = np.linspace(start,end,num)\n",
        "print(\"t = \",t)\n",
        "print(\"t.shape =\",t.shape)"
      ],
      "execution_count": null,
      "outputs": [
        {
          "output_type": "stream",
          "text": [
            "t =  [ 0.   0.5  1.   1.5  2.   2.5  3.   3.5  4.   4.5  5.   5.5  6.   6.5\n",
            "  7.   7.5  8.   8.5  9.   9.5 10. ]\n",
            "t.shape = (21,)\n"
          ],
          "name": "stdout"
        }
      ]
    },
    {
      "cell_type": "markdown",
      "metadata": {
        "id": "Ehb8mCSLNalP"
      },
      "source": [
        "As operações entre vetores ou matrizes: adição, subtração, multiplicação, divisão, exponenciação, etc, são realizadas elemento a elemento dos vetores."
      ]
    },
    {
      "cell_type": "code",
      "metadata": {
        "colab": {
          "base_uri": "https://localhost:8080/"
        },
        "id": "dWqG6USHN3EG",
        "outputId": "113eaf58-285d-44e5-cc40-5525908de968"
      },
      "source": [
        "print(\"a = \",a)\n",
        "b = a + a\n",
        "print(\"b = \",b)\n",
        "c = b**2 # Aqui é feita a exponenciação de b, ou seja, c=b*b\n",
        "print(\"c = \",c)\n",
        "d = c/a\n",
        "print(\"d = \",d)\n"
      ],
      "execution_count": null,
      "outputs": [
        {
          "output_type": "stream",
          "text": [
            "a =  [1 3 7 8]\n",
            "b =  [ 2  6 14 16]\n",
            "c =  [  4  36 196 256]\n",
            "d =  [ 4. 12. 28. 32.]\n"
          ],
          "name": "stdout"
        }
      ]
    },
    {
      "cell_type": "markdown",
      "metadata": {
        "id": "Y8U08bowO900"
      },
      "source": [
        "Nas operações envolvendo escalares e vetores, ou escalares e matrizes, a operação com o escalar é feita para todos os elementos do vetor ou matriz:"
      ]
    },
    {
      "cell_type": "code",
      "metadata": {
        "colab": {
          "base_uri": "https://localhost:8080/"
        },
        "id": "AteQF_9hPP0A",
        "outputId": "fb95416f-654a-41da-fcc9-000d89476981"
      },
      "source": [
        "print(\"a = \",a)\n",
        "f = 2*a - 1\n",
        "print(\"f = \",f)"
      ],
      "execution_count": null,
      "outputs": [
        {
          "output_type": "stream",
          "text": [
            "a =  [1 3 7 8]\n",
            "f =  [ 1  5 13 15]\n"
          ],
          "name": "stdout"
        }
      ]
    },
    {
      "cell_type": "markdown",
      "metadata": {
        "id": "AK9ZiLbXPeDO"
      },
      "source": [
        "Cuidado com a prioridade de uma operação em relação a outra. Na dúvida utilize parênteses para deixar claro a ordem em que as operações devem ser feitas:"
      ]
    },
    {
      "cell_type": "code",
      "metadata": {
        "colab": {
          "base_uri": "https://localhost:8080/"
        },
        "id": "mNSKt42MPvmT",
        "outputId": "4050929f-372c-46e2-a57d-ae3c00677337"
      },
      "source": [
        "x = 3*5**2 # Aqui a operação de exponenciação é realizada primeiro, depois a multiplicação\n",
        "print(\"x = \",x)\n",
        "y = (3*5)**2 # Aqui a operação de exponenciação é realizada no resultado da multiplicação\n",
        "print(\"y = \",y)"
      ],
      "execution_count": null,
      "outputs": [
        {
          "output_type": "stream",
          "text": [
            "x =  75\n",
            "y =  225\n"
          ],
          "name": "stdout"
        }
      ]
    },
    {
      "cell_type": "markdown",
      "metadata": {
        "id": "ckh2q-owQhAV"
      },
      "source": [
        "Para fazer a multiplicação matricial, utilize o comando `np.dot`\n",
        "\n",
        "No exemplo a seguir, um vetor $N \\times 1$ é multiplicado por um vetor $1 \\times M$ para gerar uma matriz $N \\times M$:"
      ]
    },
    {
      "cell_type": "code",
      "metadata": {
        "colab": {
          "base_uri": "https://localhost:8080/"
        },
        "id": "daO7Hn_RRFPd",
        "outputId": "8394e7ac-946d-407f-e901-994b49e1c977"
      },
      "source": [
        "print(\"a = \",a)\n",
        "print(\"Dimensão ou shape do vetor a: \",a.shape,\"\\n\")\n",
        "print(\"t = \",t)\n",
        "print(\"Dimensão ou shape do vetor t: \",t.shape,\"\\n\")\n",
        "dim_a = len(a)\n",
        "dim_t = len(t)\n",
        "At = np.dot(a.reshape(dim_a,1),t.reshape(1,dim_t)) # Não é possível fazer a transposta de um vetor unidimensional, é preciso usar o comando reshape\n",
        "print(\"At = \",At)\n",
        "print(\"Dimensão ou shape do vetor At: \",At.shape,\"\\n\")\n",
        "\n",
        "print(\"A = \",A)\n",
        "print(\"Dimensão ou shape da matriz A: \",A.shape,\"\\n\")\n",
        "print(\"C = \",C)\n",
        "print(\"Dimensão ou shape da matriz C: \",C.shape,\"\\n\")\n",
        "\n",
        "ATC = np.dot(A.T,C) # Realiza a operação (A^T)C\n",
        "print(\"ATC = \",ATC)\n",
        "print(\"Dimensão ou shape de ATC: \",ATC.shape,\"\\n\")\n",
        "\n",
        "CTA = np.dot(C.T,A) # Realiza a operação (C^T)A\n",
        "print(\"CTA = \",CTA)\n",
        "print(\"Dimensão ou shape de CTA: \",CTA.shape,\"\\n\")\n",
        "\n",
        "CAT = np.dot(C,A.T) # Realiza a operação C(A^T)\n",
        "print(\"CAT = \",CAT)\n",
        "print(\"Dimensão ou shape de CAT: \",CAT.shape,\"\\n\")\n",
        "\n",
        "ACT = np.dot(A,C.T) # Realiza a operação A(C^T)\n",
        "print(\"ACT = \",ACT)\n",
        "print(\"Dimensão ou shape de ACT: \",ACT.shape,\"\\n\")\n",
        "\n"
      ],
      "execution_count": null,
      "outputs": [
        {
          "output_type": "stream",
          "text": [
            "a =  [1 3 7 8]\n",
            "Dimensão ou shape do vetor a:  (4,) \n",
            "\n",
            "t =  [ 0.   0.5  1.   1.5  2.   2.5  3.   3.5  4.   4.5  5.   5.5  6.   6.5\n",
            "  7.   7.5  8.   8.5  9.   9.5 10. ]\n",
            "Dimensão ou shape do vetor t:  (21,) \n",
            "\n",
            "At =  [[ 0.   0.5  1.   1.5  2.   2.5  3.   3.5  4.   4.5  5.   5.5  6.   6.5\n",
            "   7.   7.5  8.   8.5  9.   9.5 10. ]\n",
            " [ 0.   1.5  3.   4.5  6.   7.5  9.  10.5 12.  13.5 15.  16.5 18.  19.5\n",
            "  21.  22.5 24.  25.5 27.  28.5 30. ]\n",
            " [ 0.   3.5  7.  10.5 14.  17.5 21.  24.5 28.  31.5 35.  38.5 42.  45.5\n",
            "  49.  52.5 56.  59.5 63.  66.5 70. ]\n",
            " [ 0.   4.   8.  12.  16.  20.  24.  28.  32.  36.  40.  44.  48.  52.\n",
            "  56.  60.  64.  68.  72.  76.  80. ]]\n",
            "Dimensão ou shape do vetor At:  (4, 21) \n",
            "\n",
            "A =  [[1 5 3 9]\n",
            " [0 2 0 2]]\n",
            "Dimensão ou shape da matriz A:  (2, 4) \n",
            "\n",
            "C =  [[1. 1. 1. 1.]\n",
            " [1. 1. 1. 1.]]\n",
            "Dimensão ou shape da matriz C:  (2, 4) \n",
            "\n",
            "ATC =  [[ 1.  1.  1.  1.]\n",
            " [ 7.  7.  7.  7.]\n",
            " [ 3.  3.  3.  3.]\n",
            " [11. 11. 11. 11.]]\n",
            "Dimensão ou shape de ATC:  (4, 4) \n",
            "\n",
            "CTA =  [[ 1.  7.  3. 11.]\n",
            " [ 1.  7.  3. 11.]\n",
            " [ 1.  7.  3. 11.]\n",
            " [ 1.  7.  3. 11.]]\n",
            "Dimensão ou shape de CTA:  (4, 4) \n",
            "\n",
            "CAT =  [[18.  4.]\n",
            " [18.  4.]]\n",
            "Dimensão ou shape de CAT:  (2, 2) \n",
            "\n",
            "ACT =  [[18. 18.]\n",
            " [ 4.  4.]]\n",
            "Dimensão ou shape de ACT:  (2, 2) \n",
            "\n"
          ],
          "name": "stdout"
        }
      ]
    },
    {
      "cell_type": "markdown",
      "metadata": {
        "id": "BJtEkdRwXj7a"
      },
      "source": [
        "Para acessar elementos específicos, colunas, linhas, ou partes das matrizes:"
      ]
    },
    {
      "cell_type": "code",
      "metadata": {
        "colab": {
          "base_uri": "https://localhost:8080/"
        },
        "id": "UvTrVzmoXzNS",
        "outputId": "a2be8d20-dcca-492c-fb37-37bcb0adeed8"
      },
      "source": [
        "print(\"A = \", A, \"\\n\")\n",
        "\n",
        "As1 = A[:,2] # Acessa a terceira coluna de A\n",
        "print(\"A[:,2] =\",As1, \"\\n\")\n",
        "\n",
        "As2 = A[1,:] # Acessa a segunda linha de A\n",
        "print(\"A[1,:] =\", As2, \"\\n\")\n",
        "\n",
        "As3 = A[:,1:4] # Acessa da segunda coluna até a quarta coluna de A\n",
        "print(\"A[:,1:4] =\", As3, \"\\n\")\n"
      ],
      "execution_count": null,
      "outputs": [
        {
          "output_type": "stream",
          "text": [
            "A =  [[1 5 3 9]\n",
            " [0 2 0 2]] \n",
            "\n",
            "A[:,2] = [3 0] \n",
            "\n",
            "A[1,:] = [0 2 0 2] \n",
            "\n",
            "A[:,1:3] = [[5 3 9]\n",
            " [2 0 2]] \n",
            "\n"
          ],
          "name": "stdout"
        }
      ]
    },
    {
      "cell_type": "markdown",
      "metadata": {
        "id": "rBz1qaVuQZw-"
      },
      "source": [
        "## Plotar um gráfico\n",
        "\n",
        "O exemplo a seguir gera um gráfico de duas curvas sobrepostas com legendas"
      ]
    },
    {
      "cell_type": "code",
      "metadata": {
        "id": "_TSIAao78ww5"
      },
      "source": [
        "y1 = 10*t**2 + 5*t + 2\n",
        "y2 = 5*t**2 + 4*t "
      ],
      "execution_count": null,
      "outputs": []
    },
    {
      "cell_type": "code",
      "metadata": {
        "colab": {
          "base_uri": "https://localhost:8080/",
          "height": 300
        },
        "id": "-Y1LKPtXGgYD",
        "outputId": "f5793e5b-d7ff-44ee-da46-4c0c1e0db5d5"
      },
      "source": [
        "plt.plot(t,y1,'r-',t,y2,'b-')\n",
        "plt.ylabel('Amplitude (V)')\n",
        "plt.xlabel('Tempo (s)')\n",
        "plt.legend(['y1','y2'])\n",
        "plt.grid(True)\n",
        "plt.axis([0,10,0,1000])\n"
      ],
      "execution_count": null,
      "outputs": [
        {
          "output_type": "execute_result",
          "data": {
            "text/plain": [
              "(0.0, 10.0, 0.0, 1000.0)"
            ]
          },
          "metadata": {
            "tags": []
          },
          "execution_count": 59
        },
        {
          "output_type": "display_data",
          "data": {
            "image/png": "[encoded data removed]",
            "text/plain": [
              "<Figure size 432x288 with 1 Axes>"
            ]
          },
          "metadata": {
            "tags": [],
            "needs_background": "light"
          }
        }
      ]
    }
  ]
}