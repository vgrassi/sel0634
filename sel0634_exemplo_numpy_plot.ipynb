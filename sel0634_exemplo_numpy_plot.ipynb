{
  "nbformat": 4,
  "nbformat_minor": 0,
  "metadata": {
    "colab": {
      "name": "sel0634_exemplo_numpy_plot.ipynb",
      "provenance": [],
      "authorship_tag": "ABX9TyO2xhvxW7ADJBxagxv7AFh5",
      "include_colab_link": true
    },
    "kernelspec": {
      "name": "python3",
      "display_name": "Python 3"
    },
    "language_info": {
      "name": "python"
    }
  },
  "cells": [
    {
      "cell_type": "markdown",
      "metadata": {
        "id": "view-in-github",
        "colab_type": "text"
      },
      "source": [
        "<a href=\"https://colab.research.google.com/github/vgrassi/sel0634/blob/main/sel0634_exemplo_numpy_plot.ipynb\" target=\"_parent\"><img src=\"https://colab.research.google.com/assets/colab-badge.svg\" alt=\"Open In Colab\"/></a>"
      ]
    },
    {
      "cell_type": "markdown",
      "metadata": {
        "id": "121gN4-_JiQq"
      },
      "source": [
        "# SEL0634 - Laboratório de Robôs Manipuladores\n",
        "\n",
        "Exemplo de código para manipulação de vetores e para plotar gráficos.\n",
        "\n"
      ]
    },
    {
      "cell_type": "markdown",
      "source": [
        "## Instalando as bibliotecas\n",
        "\n",
        "Instala as bibliotecas `numpy` e `matplotlib`"
      ],
      "metadata": {
        "id": "ZEjlZXUG3PAE"
      }
    },
    {
      "cell_type": "code",
      "source": [
        "!pip install numpy\n",
        "!pip install matplotlib"
      ],
      "metadata": {
        "id": "AYIplt5J3TjZ"
      },
      "execution_count": null,
      "outputs": []
    },
    {
      "cell_type": "markdown",
      "source": [
        "## Inicialização das bibliotecas\n",
        "\n",
        "Carrega as bibliotecas `numpy` e `matplotlib`"
      ],
      "metadata": {
        "id": "V8mFDfKY3Kv3"
      }
    },
    {
      "cell_type": "code",
      "metadata": {
        "id": "ljog5UI96TjI"
      },
      "source": [
        "import numpy as np\n",
        "from math import pi\n",
        "import matplotlib.pyplot as plt\n",
        "from matplotlib import cm"
      ],
      "execution_count": null,
      "outputs": []
    },
    {
      "cell_type": "markdown",
      "metadata": {
        "id": "FkCUbdXaJ8FA"
      },
      "source": [
        "## Manipulação de Vetores\n",
        "\n",
        "Os comandos a seguir podem ser usados para inicializar vetores utilizando a biblioteca `numpy`.\n",
        "\n",
        "Para inicializar um vetor com elementos pré-definidos:"
      ]
    },
    {
      "cell_type": "code",
      "metadata": {
        "id": "mzaYBykWKTnw"
      },
      "source": [
        "a = np.array([1, 3, 7, 8])\n",
        "a"
      ],
      "execution_count": null,
      "outputs": []
    },
    {
      "cell_type": "markdown",
      "metadata": {
        "id": "5l_CCAFOKdu4"
      },
      "source": [
        "Para inicializar uma matriz com elementos pré-definidos:"
      ]
    },
    {
      "cell_type": "code",
      "metadata": {
        "id": "5IrFsIyAKdSD"
      },
      "source": [
        "A = np.array([[1, 5, 3, 9],\n",
        "              [0, 2, 0, 2]])\n",
        "A"
      ],
      "execution_count": null,
      "outputs": []
    },
    {
      "cell_type": "markdown",
      "metadata": {
        "id": "ZyRazJB-KyuZ"
      },
      "source": [
        "Para inicializar um vetor ou matriz com zero ou um:"
      ]
    },
    {
      "cell_type": "code",
      "metadata": {
        "id": "KGAH1JmzLKHJ"
      },
      "source": [
        "N = 2\n",
        "M = 4\n",
        "B = np.zeros((N,M)) # Matriz de 0s de dimensão NxM\n",
        "C = np.ones((N,M)) # Matriz de 1s de dimensão NxM\n",
        "print(\"B = \",B)\n",
        "print(\"C = \",C)"
      ],
      "execution_count": null,
      "outputs": []
    },
    {
      "cell_type": "markdown",
      "metadata": {
        "id": "S2oopQPVLo9s"
      },
      "source": [
        "Para inicializar um vetor de elementos igualmente espaçados por `step`, que começa em `start` e vai até `end` (excluindo o valor `end`):"
      ]
    },
    {
      "cell_type": "code",
      "metadata": {
        "id": "LbsWFKvtMJjS"
      },
      "source": [
        "start = 0\n",
        "step = 0.5\n",
        "end = 10+step # Observe que para que o vetor termine no valor 10, é preciso definir end=10+step\n",
        "t = np.arange(start,end,step)\n",
        "t"
      ],
      "execution_count": null,
      "outputs": []
    },
    {
      "cell_type": "markdown",
      "metadata": {
        "id": "5QoIH5GqMWmL"
      },
      "source": [
        "Para inicializar um vetor de `num` elementos igualmente espaçados que começa em `start` e vai até `end` (excluindo o valor `end`):"
      ]
    },
    {
      "cell_type": "code",
      "metadata": {
        "id": "6QaNRobf6Xj_"
      },
      "source": [
        "start = 0\n",
        "end = 10\n",
        "num = 21    # Observe que para conseguir o mesmo step que o exemplo anterior, num=(1+(end-start)/step)\n",
        "t = np.linspace(start,end,num)\n",
        "print(\"t = \",t)\n",
        "print(\"t.shape =\",t.shape)"
      ],
      "execution_count": null,
      "outputs": []
    },
    {
      "cell_type": "markdown",
      "metadata": {
        "id": "Ehb8mCSLNalP"
      },
      "source": [
        "As operações entre vetores ou matrizes: adição, subtração, multiplicação, divisão, exponenciação, etc, são realizadas elemento a elemento dos vetores."
      ]
    },
    {
      "cell_type": "code",
      "metadata": {
        "id": "dWqG6USHN3EG"
      },
      "source": [
        "print(\"a = \",a)\n",
        "b = a + a\n",
        "print(\"b = \",b)\n",
        "c = b**2 # Aqui é feita a exponenciação de b, ou seja, c=b*b\n",
        "print(\"c = \",c)\n",
        "d = c/a\n",
        "print(\"d = \",d)\n"
      ],
      "execution_count": null,
      "outputs": []
    },
    {
      "cell_type": "markdown",
      "metadata": {
        "id": "Y8U08bowO900"
      },
      "source": [
        "Nas operações envolvendo escalares e vetores, ou escalares e matrizes, a operação com o escalar é feita para todos os elementos do vetor ou matriz:"
      ]
    },
    {
      "cell_type": "code",
      "metadata": {
        "id": "AteQF_9hPP0A"
      },
      "source": [
        "print(\"a = \",a)\n",
        "f = 2*a - 1\n",
        "print(\"f = \",f)"
      ],
      "execution_count": null,
      "outputs": []
    },
    {
      "cell_type": "markdown",
      "metadata": {
        "id": "AK9ZiLbXPeDO"
      },
      "source": [
        "Cuidado com a prioridade de uma operação em relação a outra. Na dúvida utilize parênteses para deixar claro a ordem em que as operações devem ser feitas:"
      ]
    },
    {
      "cell_type": "code",
      "metadata": {
        "id": "mNSKt42MPvmT"
      },
      "source": [
        "x = 3*5**2 # Aqui a operação de exponenciação é realizada primeiro, depois a multiplicação\n",
        "print(\"x = \",x)\n",
        "y = (3*5)**2 # Aqui a operação de exponenciação é realizada no resultado da multiplicação\n",
        "print(\"y = \",y)"
      ],
      "execution_count": null,
      "outputs": []
    },
    {
      "cell_type": "markdown",
      "metadata": {
        "id": "ckh2q-owQhAV"
      },
      "source": [
        "Para fazer a multiplicação matricial, utilize o comando `np.dot`\n",
        "\n",
        "No exemplo a seguir, um vetor $N \\times 1$ é multiplicado por um vetor $1 \\times M$ para gerar uma matriz $N \\times M$:"
      ]
    },
    {
      "cell_type": "code",
      "metadata": {
        "id": "daO7Hn_RRFPd"
      },
      "source": [
        "print(\"a = \",a)\n",
        "print(\"Dimensão ou shape do vetor a: \",a.shape,\"\\n\")\n",
        "print(\"t = \",t)\n",
        "print(\"Dimensão ou shape do vetor t: \",t.shape,\"\\n\")\n",
        "dim_a = len(a)\n",
        "dim_t = len(t)\n",
        "At = np.dot(a.reshape(dim_a,1),t.reshape(1,dim_t)) # Não é possível fazer a transposta de um vetor unidimensional, é preciso usar o comando reshape\n",
        "print(\"At = \",At)\n",
        "print(\"Dimensão ou shape do vetor At: \",At.shape,\"\\n\")\n",
        "\n",
        "print(\"A = \",A)\n",
        "print(\"Dimensão ou shape da matriz A: \",A.shape,\"\\n\")\n",
        "print(\"C = \",C)\n",
        "print(\"Dimensão ou shape da matriz C: \",C.shape,\"\\n\")\n",
        "\n",
        "ATC = np.dot(A.T,C) # Realiza a operação (A^T)C\n",
        "print(\"ATC = \",ATC)\n",
        "print(\"Dimensão ou shape de ATC: \",ATC.shape,\"\\n\")\n",
        "\n",
        "CTA = np.dot(C.T,A) # Realiza a operação (C^T)A\n",
        "print(\"CTA = \",CTA)\n",
        "print(\"Dimensão ou shape de CTA: \",CTA.shape,\"\\n\")\n",
        "\n",
        "CAT = np.dot(C,A.T) # Realiza a operação C(A^T)\n",
        "print(\"CAT = \",CAT)\n",
        "print(\"Dimensão ou shape de CAT: \",CAT.shape,\"\\n\")\n",
        "\n",
        "ACT = np.dot(A,C.T) # Realiza a operação A(C^T)\n",
        "print(\"ACT = \",ACT)\n",
        "print(\"Dimensão ou shape de ACT: \",ACT.shape,\"\\n\")\n",
        "\n"
      ],
      "execution_count": null,
      "outputs": []
    },
    {
      "cell_type": "markdown",
      "metadata": {
        "id": "BJtEkdRwXj7a"
      },
      "source": [
        "Para acessar elementos específicos, colunas, linhas, ou partes das matrizes:"
      ]
    },
    {
      "cell_type": "code",
      "metadata": {
        "id": "UvTrVzmoXzNS"
      },
      "source": [
        "print(\"A = \", A, \"\\n\")\n",
        "\n",
        "As1 = A[:,2] # Acessa a terceira coluna de A\n",
        "print(\"A[:,2] =\",As1, \"\\n\")\n",
        "\n",
        "As2 = A[1,:] # Acessa a segunda linha de A\n",
        "print(\"A[1,:] =\", As2, \"\\n\")\n",
        "\n",
        "As3 = A[:,1:4] # Acessa da segunda coluna até a quarta coluna de A\n",
        "print(\"A[:,1:4] =\", As3, \"\\n\")\n"
      ],
      "execution_count": null,
      "outputs": []
    },
    {
      "cell_type": "markdown",
      "metadata": {
        "id": "rBz1qaVuQZw-"
      },
      "source": [
        "## Plotar um gráfico\n",
        "\n",
        "O exemplo a seguir gera um gráfico de duas curvas sobrepostas com legendas"
      ]
    },
    {
      "cell_type": "code",
      "metadata": {
        "id": "_TSIAao78ww5"
      },
      "source": [
        "y1 = 10*t**2 + 5*t + 2\n",
        "y2 = 5*t**2 + 4*t "
      ],
      "execution_count": null,
      "outputs": []
    },
    {
      "cell_type": "code",
      "metadata": {
        "id": "-Y1LKPtXGgYD"
      },
      "source": [
        "plt.plot(t,y1,'r-',t,y2,'b-')\n",
        "plt.ylabel('Amplitude (V)')\n",
        "plt.xlabel('Tempo (s)')\n",
        "plt.legend(['y1','y2'])\n",
        "plt.grid(True)\n",
        "plt.axis([0,10,0,1000])\n"
      ],
      "execution_count": null,
      "outputs": []
    }
  ]
}