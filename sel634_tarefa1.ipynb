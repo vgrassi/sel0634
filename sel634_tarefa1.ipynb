{
  "nbformat": 4,
  "nbformat_minor": 0,
  "metadata": {
    "colab": {
      "name": "sel634_tarefa1.ipynb",
      "provenance": [],
      "authorship_tag": "ABX9TyNdx6RsBXjYuoLL0lcTcsPi",
      "include_colab_link": true
    },
    "kernelspec": {
      "name": "python3",
      "display_name": "Python 3"
    },
    "language_info": {
      "name": "python"
    }
  },
  "cells": [
    {
      "cell_type": "markdown",
      "metadata": {
        "id": "view-in-github",
        "colab_type": "text"
      },
      "source": [
        "<a href=\"https://colab.research.google.com/github/vgrassi/sel0634/blob/main/sel634_tarefa1.ipynb\" target=\"_parent\"><img src=\"https://colab.research.google.com/assets/colab-badge.svg\" alt=\"Open In Colab\"/></a>"
      ]
    },
    {
      "cell_type": "markdown",
      "metadata": {
        "id": "nuDol0unsssM"
      },
      "source": [
        "# SEL0634 - Laboratório de Robôs Manipuladores\n",
        "\n",
        "## Inicialização da biblioteca "
      ]
    },
    {
      "cell_type": "code",
      "metadata": {
        "colab": {
          "base_uri": "https://localhost:8080/"
        },
        "id": "H-Gtatq9sXD5",
        "outputId": "02704c19-9221-4cc6-d3c2-2aed54553161"
      },
      "source": [
        "!pip install spatialmath-python"
      ],
      "execution_count": 17,
      "outputs": [
        {
          "output_type": "stream",
          "text": [
            "Requirement already satisfied: spatialmath-python in /usr/local/lib/python3.7/dist-packages (0.9.6)\n",
            "Requirement already satisfied: matplotlib in /usr/local/lib/python3.7/dist-packages (from spatialmath-python) (3.2.2)\n",
            "Requirement already satisfied: ansitable in /usr/local/lib/python3.7/dist-packages (from spatialmath-python) (0.9.6)\n",
            "Requirement already satisfied: scipy in /usr/local/lib/python3.7/dist-packages (from spatialmath-python) (1.4.1)\n",
            "Requirement already satisfied: numpy in /usr/local/lib/python3.7/dist-packages (from spatialmath-python) (1.19.5)\n",
            "Requirement already satisfied: colored in /usr/local/lib/python3.7/dist-packages (from spatialmath-python) (1.4.2)\n",
            "Requirement already satisfied: kiwisolver>=1.0.1 in /usr/local/lib/python3.7/dist-packages (from matplotlib->spatialmath-python) (1.3.1)\n",
            "Requirement already satisfied: python-dateutil>=2.1 in /usr/local/lib/python3.7/dist-packages (from matplotlib->spatialmath-python) (2.8.1)\n",
            "Requirement already satisfied: cycler>=0.10 in /usr/local/lib/python3.7/dist-packages (from matplotlib->spatialmath-python) (0.10.0)\n",
            "Requirement already satisfied: pyparsing!=2.0.4,!=2.1.2,!=2.1.6,>=2.0.1 in /usr/local/lib/python3.7/dist-packages (from matplotlib->spatialmath-python) (2.4.7)\n",
            "Requirement already satisfied: six>=1.5 in /usr/local/lib/python3.7/dist-packages (from python-dateutil>=2.1->matplotlib->spatialmath-python) (1.15.0)\n"
          ],
          "name": "stdout"
        }
      ]
    },
    {
      "cell_type": "code",
      "metadata": {
        "id": "KYWe8C3It-h_"
      },
      "source": [
        "import numpy as np\n",
        "from spatialmath import *\n",
        "from math import pi\n",
        "\n",
        "import matplotlib.pyplot as plt\n",
        "# no Binder utilizar essa linha\n",
        "# %matplotlib notebook  \n",
        "# no Colab utilizar essa linha\n",
        "%matplotlib inline  \n"
      ],
      "execution_count": 18,
      "outputs": []
    },
    {
      "cell_type": "markdown",
      "metadata": {
        "id": "Rmefwd7uuHpi"
      },
      "source": [
        "## Tarefa 1 - Sequencia de Rotações Aplicadas em um Cubo\n",
        "\n",
        "### Desenhar cubo na posição inicial\n",
        "\n",
        "Considere a seguinte função para desenhar os vértices de um cubo:"
      ]
    },
    {
      "cell_type": "code",
      "metadata": {
        "id": "gJgtsOmAu5f5"
      },
      "source": [
        "def plot_cubo_grafico(cubo,grafico):\n",
        "  grafico.scatter(xs=cubo[0], ys=cubo[1], zs=cubo[2], s=20)  # draw vertices\n",
        "  # draw lines joining the vertices\n",
        "  lines = [[0,1,5,6], [1,2,6,7], [2,3,7,4], [3,0,4,5]]\n",
        "  for line in lines:\n",
        "      grafico.plot([cubo[0,i] for i in line], [cubo[1,i] for i in line], [cubo[2,i] for i in line])\n",
        "\n",
        "def plot_cubo(cubo):\n",
        "  fig = plt.figure()\n",
        "  SE3().plot(frame='0', dims=[-2,3,0,5,0,5], color='black')\n",
        "  grafico = plt.gca()\n",
        "  plot_cubo_grafico(cubo,grafico)"
      ],
      "execution_count": 19,
      "outputs": []
    },
    {
      "cell_type": "markdown",
      "metadata": {
        "id": "kTXoActsvBYN"
      },
      "source": [
        "Considere que na posição inicial, o cubo possui vértices $^0P_i$ posicionados  em relação ao sistema inercial $\\{0\\}$ nas seguintes coordenadas:"
      ]
    },
    {
      "cell_type": "code",
      "metadata": {
        "colab": {
          "base_uri": "https://localhost:8080/"
        },
        "id": "3zanPRSAvSQw",
        "outputId": "ab2f33bf-d363-4c89-ab19-617242bfc4b3"
      },
      "source": [
        "P = np.array([[0, 2, 2, 0, 0, 2, 2, 0], [0, 0, 2, 2, 0, 0, 2, 2], [0, 0, 0, 0, 2, 2, 2, 2]])\n",
        "P"
      ],
      "execution_count": 20,
      "outputs": [
        {
          "output_type": "execute_result",
          "data": {
            "text/plain": [
              "array([[0, 2, 2, 0, 0, 2, 2, 0],\n",
              "       [0, 0, 2, 2, 0, 0, 2, 2],\n",
              "       [0, 0, 0, 0, 2, 2, 2, 2]])"
            ]
          },
          "metadata": {
            "tags": []
          },
          "execution_count": 20
        }
      ]
    },
    {
      "cell_type": "markdown",
      "metadata": {
        "id": "sAqRBY_LvcDl"
      },
      "source": [
        "Para plotar o cubo:"
      ]
    },
    {
      "cell_type": "code",
      "metadata": {
        "colab": {
          "base_uri": "https://localhost:8080/",
          "height": 248
        },
        "id": "7YZtHgEsv-eo",
        "outputId": "6fe54970-be53-42ee-c54b-fdd5e833b02a"
      },
      "source": [
        "plot_cubo(P)"
      ],
      "execution_count": 21,
      "outputs": [
        {
          "output_type": "display_data",
          "data": {
            "image/png": "[encoded data removed]",
            "text/plain": [
              "<Figure size 432x288 with 1 Axes>"
            ]
          },
          "metadata": {
            "tags": [],
            "needs_background": "light"
          }
        }
      ]
    },
    {
      "cell_type": "markdown",
      "metadata": {
        "id": "G_XhMekylHVc"
      },
      "source": [
        "### Primeira transformação\n",
        "\n",
        "Aplique uma rotação no cubo em torno do eixo $x$ de um ângulo de $90^o$ e mostre os vertices do cubo nesta nova pose. \n",
        "\n",
        "Considere que um sistema de coordenadas fixo no cubo após esta rotação está com orientação dada por $\\{1\\}$, ou seja, após essa primeira rotação, $^0R_1$ representa a orientação do sistema de coordenadas fixo no cubo em relação ao sistema inercial. "
      ]
    },
    {
      "cell_type": "code",
      "metadata": {
        "colab": {
          "base_uri": "https://localhost:8080/",
          "height": 452
        },
        "id": "h_-GbiZtl0S_",
        "outputId": "9477ca09-007c-48f8-9431-90e078053258"
      },
      "source": [
        "#########################\n",
        "# Coloque seu código aqui\n",
        "P01 = \n",
        "\n",
        "#########################\n",
        "plot_cubo(P01)"
      ],
      "execution_count": 26,
      "outputs": [
        {
          "output_type": "display_data",
          "data": {
            "text/plain": [
              "  \u001b[38;5;1m 1       \u001b[0m \u001b[38;5;1m 0       \u001b[0m \u001b[38;5;1m 0       \u001b[0m  \u001b[0m\n",
              "  \u001b[38;5;1m 0       \u001b[0m \u001b[38;5;1m 0.7071  \u001b[0m \u001b[38;5;1m-0.7071  \u001b[0m  \u001b[0m\n",
              "  \u001b[38;5;1m 0       \u001b[0m \u001b[38;5;1m 0.7071  \u001b[0m \u001b[38;5;1m 0.7071  \u001b[0m  \u001b[0m\n"
            ]
          },
          "metadata": {
            "tags": []
          }
        },
        {
          "output_type": "display_data",
          "data": {
            "text/plain": [
              "array([[ 0.00000000e+00,  2.00000000e+00,  2.00000000e+00,\n",
              "         0.00000000e+00,  0.00000000e+00,  2.00000000e+00,\n",
              "         2.00000000e+00,  0.00000000e+00],\n",
              "       [ 0.00000000e+00,  0.00000000e+00,  1.41421356e+00,\n",
              "         1.41421356e+00, -1.41421356e+00, -1.41421356e+00,\n",
              "         2.22044605e-16,  2.22044605e-16],\n",
              "       [ 0.00000000e+00,  0.00000000e+00,  1.41421356e+00,\n",
              "         1.41421356e+00,  1.41421356e+00,  1.41421356e+00,\n",
              "         2.82842712e+00,  2.82842712e+00]])"
            ]
          },
          "metadata": {
            "tags": []
          }
        },
        {
          "output_type": "display_data",
          "data": {
            "image/png": "[encoded data removed]",
            "text/plain": [
              "<Figure size 432x288 with 1 Axes>"
            ]
          },
          "metadata": {
            "tags": [],
            "needs_background": "light"
          }
        }
      ]
    },
    {
      "cell_type": "markdown",
      "metadata": {
        "id": "qhQBaEZQl4Xr"
      },
      "source": [
        "### Segunda transformação\n",
        "\n",
        "Aplique uma nova rotação no cubo em torno do eixo $z$ do sistema atual $\\{1\\}$ de um ângulo de $90^0$, e mostre os vértices do cubo nesta nova pose. \n",
        "\n",
        "Considere que o sistema de coordenadas fixo no cubo após esta operação está com orientação dada por $\\{2\\}$, ou seja, $^0R_2$ representa a orientação do cubo em relação ao sistema inercial.\n",
        "\n"
      ]
    },
    {
      "cell_type": "code",
      "metadata": {
        "id": "j2wvgy8onvvP"
      },
      "source": [
        "#########################\n",
        "# Coloque seu código aqui\n",
        "P02 = \n",
        "\n",
        "########################\n",
        "plot_cubo(P02)"
      ],
      "execution_count": null,
      "outputs": []
    },
    {
      "cell_type": "markdown",
      "metadata": {
        "id": "li8lMyPPnyNy"
      },
      "source": [
        "### Terceira transformação\n",
        "\n",
        "Aplique uma nova rotação no cubo em torno do eixo $y$ do sistema inercial $\\{0\\}$ de um ângulo de $90^0$, e mostre os vértices do cubo nesta nova pose. \n",
        "\n",
        "Considere que o sistema de coordenadas fixo no cubo após esta operação está com orientação dada por $\\{3\\}$, ou seja, $^0R_3$ representa a orientação do cubo em relação ao sistema inercial.\n",
        "\n",
        "\n"
      ]
    },
    {
      "cell_type": "code",
      "metadata": {
        "id": "rYNp2lmMoAho"
      },
      "source": [
        "#########################\n",
        "# Coloque seu código aqui\n",
        "P03 = \n",
        "\n",
        "#########################\n",
        "plot_cubo(P03)"
      ],
      "execution_count": null,
      "outputs": []
    },
    {
      "cell_type": "markdown",
      "metadata": {
        "id": "jIMQyEwhoEHY"
      },
      "source": [
        "### Matrizes de rotação\n",
        "\n",
        "Quais são as matrizes de rotação: \n",
        "\n",
        "$^0R_1 =$"
      ]
    },
    {
      "cell_type": "code",
      "metadata": {
        "id": "QScGaJ1CoVRg"
      },
      "source": [
        "# Mostre a matriz de rotação aqui"
      ],
      "execution_count": null,
      "outputs": []
    },
    {
      "cell_type": "markdown",
      "metadata": {
        "id": "CJYKmdywoVqS"
      },
      "source": [
        "$^0R_2 = $"
      ]
    },
    {
      "cell_type": "code",
      "metadata": {
        "id": "LBp6aiRPoeks"
      },
      "source": [
        "# Mostre a matriz de rotações aqui"
      ],
      "execution_count": null,
      "outputs": []
    },
    {
      "cell_type": "markdown",
      "metadata": {
        "id": "YKpeUzekoax8"
      },
      "source": [
        "$^0R_3 = $"
      ]
    },
    {
      "cell_type": "code",
      "metadata": {
        "id": "X1fVt_vWoakw"
      },
      "source": [
        "# Mostre a matriz de rotações aqui"
      ],
      "execution_count": null,
      "outputs": []
    }
  ]
}