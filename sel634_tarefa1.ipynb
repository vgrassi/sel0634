{
  "nbformat": 4,
  "nbformat_minor": 0,
  "metadata": {
    "colab": {
      "name": "sel634_tarefa1.ipynb",
      "provenance": [],
      "authorship_tag": "ABX9TyPUdIUzkvyA0t8v5b83dRFY",
      "include_colab_link": true
    },
    "kernelspec": {
      "name": "python3",
      "display_name": "Python 3"
    },
    "language_info": {
      "name": "python"
    }
  },
  "cells": [
    {
      "cell_type": "markdown",
      "metadata": {
        "id": "view-in-github",
        "colab_type": "text"
      },
      "source": [
        "<a href=\"https://colab.research.google.com/github/vgrassi/sel0634/blob/main/sel634_tarefa1.ipynb\" target=\"_parent\"><img src=\"https://colab.research.google.com/assets/colab-badge.svg\" alt=\"Open In Colab\"/></a>"
      ]
    },
    {
      "cell_type": "markdown",
      "metadata": {
        "id": "nuDol0unsssM"
      },
      "source": [
        "# SEL0634 - Laboratório de Robôs Manipuladores\n",
        "\n",
        "## Inicialização da biblioteca "
      ]
    },
    {
      "cell_type": "code",
      "metadata": {
        "colab": {
          "base_uri": "https://localhost:8080/"
        },
        "id": "H-Gtatq9sXD5",
        "outputId": "86471235-a79e-4268-e33a-4e068c819793"
      },
      "source": [
        "!pip install spatialmath-python"
      ],
      "execution_count": 3,
      "outputs": [
        {
          "output_type": "stream",
          "text": [
            "Collecting spatialmath-python\n",
            "\u001b[?25l  Downloading https://files.pythonhosted.org/packages/34/60/3d7e1abdab4a3241e987ea3310bf74a5c9f3807a4e862c0824b07acd58c4/spatialmath-python-0.9.6.tar.gz (148kB)\n",
            "\u001b[K     |████████████████████████████████| 153kB 7.7MB/s \n",
            "\u001b[?25hRequirement already satisfied: numpy in /usr/local/lib/python3.7/dist-packages (from spatialmath-python) (1.19.5)\n",
            "Requirement already satisfied: scipy in /usr/local/lib/python3.7/dist-packages (from spatialmath-python) (1.4.1)\n",
            "Requirement already satisfied: matplotlib in /usr/local/lib/python3.7/dist-packages (from spatialmath-python) (3.2.2)\n",
            "Collecting colored\n",
            "\u001b[?25l  Downloading https://files.pythonhosted.org/packages/b2/16/04827e24c14266d9161bd86bad50069fea453fa006c3d2b31da39251184a/colored-1.4.2.tar.gz (56kB)\n",
            "\u001b[K     |████████████████████████████████| 61kB 6.4MB/s \n",
            "\u001b[?25hCollecting ansitable\n",
            "  Downloading https://files.pythonhosted.org/packages/91/57/60e1fa72f83071caa22743dab38786527ecd861dd980d84051fc975f1ed8/ansitable-0.9.6.tar.gz\n",
            "Requirement already satisfied: cycler>=0.10 in /usr/local/lib/python3.7/dist-packages (from matplotlib->spatialmath-python) (0.10.0)\n",
            "Requirement already satisfied: python-dateutil>=2.1 in /usr/local/lib/python3.7/dist-packages (from matplotlib->spatialmath-python) (2.8.1)\n",
            "Requirement already satisfied: pyparsing!=2.0.4,!=2.1.2,!=2.1.6,>=2.0.1 in /usr/local/lib/python3.7/dist-packages (from matplotlib->spatialmath-python) (2.4.7)\n",
            "Requirement already satisfied: kiwisolver>=1.0.1 in /usr/local/lib/python3.7/dist-packages (from matplotlib->spatialmath-python) (1.3.1)\n",
            "Requirement already satisfied: six in /usr/local/lib/python3.7/dist-packages (from cycler>=0.10->matplotlib->spatialmath-python) (1.15.0)\n",
            "Building wheels for collected packages: spatialmath-python, colored, ansitable\n",
            "  Building wheel for spatialmath-python (setup.py) ... \u001b[?25l\u001b[?25hdone\n",
            "  Created wheel for spatialmath-python: filename=spatialmath_python-0.9.6-cp37-none-any.whl size=159519 sha256=f84416ec24a757a8b90c3053be16a17ff11ec15f648d3fd6fa863bbbb107023a\n",
            "  Stored in directory: /root/.cache/pip/wheels/a8/9f/51/01ce301eeaa8edbfb34f13534331ad90918a0f4b63931c593c\n",
            "  Building wheel for colored (setup.py) ... \u001b[?25l\u001b[?25hdone\n",
            "  Created wheel for colored: filename=colored-1.4.2-cp37-none-any.whl size=14003 sha256=3ca6001762e68fe45af883b1afd4e025415fbb06c153369d4a2490254f71c1db\n",
            "  Stored in directory: /root/.cache/pip/wheels/ec/10/5e/d17d5ef644e1051a753bd98f3796789ec39bc3337cd36637f3\n",
            "  Building wheel for ansitable (setup.py) ... \u001b[?25l\u001b[?25hdone\n",
            "  Created wheel for ansitable: filename=ansitable-0.9.6-cp37-none-any.whl size=12621 sha256=d509f3e8afed4ba94e8d55fda89460adcf58fdd39e2f1aabd0edcb9a2f6fcd25\n",
            "  Stored in directory: /root/.cache/pip/wheels/8d/bd/87/460de24b1747521745207f5d43fa56577014937d3792afb8eb\n",
            "Successfully built spatialmath-python colored ansitable\n",
            "Installing collected packages: colored, ansitable, spatialmath-python\n",
            "Successfully installed ansitable-0.9.6 colored-1.4.2 spatialmath-python-0.9.6\n"
          ],
          "name": "stdout"
        }
      ]
    },
    {
      "cell_type": "code",
      "metadata": {
        "id": "KYWe8C3It-h_"
      },
      "source": [
        "import numpy as np\n",
        "from spatialmath import *\n",
        "from math import pi\n",
        "\n",
        "import matplotlib.pyplot as plt\n",
        "# no Binder utilizar essa linha\n",
        "# %matplotlib notebook  \n",
        "# no Colab utilizar essa linha\n",
        "%matplotlib inline  \n"
      ],
      "execution_count": 4,
      "outputs": []
    },
    {
      "cell_type": "markdown",
      "metadata": {
        "id": "Rmefwd7uuHpi"
      },
      "source": [
        "## Tarefa 1 - Sequencia de Rotações Aplicadas em um Cubo\n",
        "\n",
        "### Desenhar cubo na posição inicial\n",
        "\n",
        "Considere a seguinte função para desenhar os vértices de um cubo:"
      ]
    },
    {
      "cell_type": "code",
      "metadata": {
        "id": "gJgtsOmAu5f5"
      },
      "source": [
        "def plot_cubo_grafico(cubo,grafico):\n",
        "  grafico.scatter(xs=cubo[0], ys=cubo[1], zs=cubo[2], s=20)  # draw vertices\n",
        "  # draw lines joining the vertices\n",
        "  lines = [[0,1,5,6], [1,2,6,7], [2,3,7,4], [3,0,4,5]]\n",
        "  for line in lines:\n",
        "      grafico.plot([cubo[0,i] for i in line], [cubo[1,i] for i in line], [cubo[2,i] for i in line])\n",
        "\n",
        "def plot_cubo(cubo):\n",
        "  fig = plt.figure()\n",
        "  SE3().plot(frame='0', dims=[-2,3,0,5,0,5], color='black')\n",
        "  grafico = plt.gca()\n",
        "  plot_cubo_grafico(cubo,grafico)"
      ],
      "execution_count": 13,
      "outputs": []
    },
    {
      "cell_type": "markdown",
      "metadata": {
        "id": "kTXoActsvBYN"
      },
      "source": [
        "Considere que na posição inicial, o cubo possui vértices $^0P_i$ posicionados  em relação ao sistema inercial $\\{0\\}$ nas seguintes coordenadas:"
      ]
    },
    {
      "cell_type": "code",
      "metadata": {
        "colab": {
          "base_uri": "https://localhost:8080/"
        },
        "id": "3zanPRSAvSQw",
        "outputId": "b98c3dae-d17e-4c22-d9a5-199403c78f2d"
      },
      "source": [
        "P = np.array([[0, 2, 2, 0, 0, 2, 2, 0], [0, 0, 2, 2, 0, 0, 2, 2], [0, 0, 0, 0, 2, 2, 2, 2]])\n",
        "P"
      ],
      "execution_count": 15,
      "outputs": [
        {
          "output_type": "execute_result",
          "data": {
            "text/plain": [
              "array([[0, 2, 2, 0, 0, 2, 2, 0],\n",
              "       [0, 0, 2, 2, 0, 0, 2, 2],\n",
              "       [0, 0, 0, 0, 2, 2, 2, 2]])"
            ]
          },
          "metadata": {
            "tags": []
          },
          "execution_count": 15
        }
      ]
    },
    {
      "cell_type": "markdown",
      "metadata": {
        "id": "sAqRBY_LvcDl"
      },
      "source": [
        "Para plotar o cubo:"
      ]
    },
    {
      "cell_type": "code",
      "metadata": {
        "colab": {
          "base_uri": "https://localhost:8080/",
          "height": 248
        },
        "id": "7YZtHgEsv-eo",
        "outputId": "53271cab-02d4-4d08-a315-c1279edbe9a2"
      },
      "source": [
        "plot_cubo(P)"
      ],
      "execution_count": 16,
      "outputs": [
        {
          "output_type": "display_data",
          "data": {
            "image/png": "[encoded data removed]",
            "text/plain": [
              "<Figure size 432x288 with 1 Axes>"
            ]
          },
          "metadata": {
            "tags": [],
            "needs_background": "light"
          }
        }
      ]
    },
    {
      "cell_type": "markdown",
      "metadata": {
        "id": "G_XhMekylHVc"
      },
      "source": [
        "### Primeira transformação\n",
        "\n",
        "Aplique uma rotação no cubo em torno do eixo $x$ de um ângulo de $90^o$ e mostre os vertices do cubo nesta nova pose. \n",
        "\n",
        "Considere que um sistema de coordenadas fixo no cubo após esta rotação está com orientação dada por $\\{1\\}$, ou seja, após essa primeira rotação, $^0R_1$ representa a rotação do sistema de coordenadas fixo no cubo em relação ao sistema inercial. "
      ]
    },
    {
      "cell_type": "code",
      "metadata": {
        "id": "h_-GbiZtl0S_"
      },
      "source": [
        "# Coloque seu código aqui"
      ],
      "execution_count": null,
      "outputs": []
    },
    {
      "cell_type": "markdown",
      "metadata": {
        "id": "qhQBaEZQl4Xr"
      },
      "source": [
        "### Segunda transformação\n",
        "\n",
        "Aplique uma nova rotação no cubo em torno do eixo $z$ do sistema atual $\\{1\\}$ de um ângulo de $90^0$, e mostre os vértices do cubo nesta nova pose. \n",
        "\n",
        "Considere que o sistema de coordenadas fixo no cubo após esta operação está com orientação dada por $\\{2\\}$, ou seja, $^0R_2$ representa a orientação do cubo em relação ao sistema inercial.\n",
        "\n"
      ]
    },
    {
      "cell_type": "code",
      "metadata": {
        "id": "j2wvgy8onvvP"
      },
      "source": [
        "# Coloque seu código aqui"
      ],
      "execution_count": null,
      "outputs": []
    },
    {
      "cell_type": "markdown",
      "metadata": {
        "id": "li8lMyPPnyNy"
      },
      "source": [
        "### Terceira transformação\n",
        "\n",
        "Aplique uma nova rotação no cubo em torno do eixo $y$ do sistema inercial $\\{0\\}$ de um ângulo de $90^0$, e mostre os vértices do cubo nesta nova pose. \n",
        "\n",
        "Considere que o sistema de coordenadas fixo no cubo após esta operação está com orientação dada por $\\{3\\}$, ou seja, $^0R_3$ representa a orientação do cubo em relação ao sistema inercial.\n",
        "\n",
        "\n"
      ]
    },
    {
      "cell_type": "code",
      "metadata": {
        "id": "rYNp2lmMoAho"
      },
      "source": [
        "# Coloque seu código aqui"
      ],
      "execution_count": null,
      "outputs": []
    },
    {
      "cell_type": "markdown",
      "metadata": {
        "id": "jIMQyEwhoEHY"
      },
      "source": [
        "### Matrizes de rotação\n",
        "\n",
        "Quais são as matrizes de rotação: \n",
        "\n",
        "$^0R_1 =$"
      ]
    },
    {
      "cell_type": "code",
      "metadata": {
        "id": "QScGaJ1CoVRg"
      },
      "source": [
        "# Mostre a matriz de rotação aqui"
      ],
      "execution_count": null,
      "outputs": []
    },
    {
      "cell_type": "markdown",
      "metadata": {
        "id": "CJYKmdywoVqS"
      },
      "source": [
        "$^0R_2 = $"
      ]
    },
    {
      "cell_type": "code",
      "metadata": {
        "id": "LBp6aiRPoeks"
      },
      "source": [
        "# Mostre a matriz de rotações aqui"
      ],
      "execution_count": null,
      "outputs": []
    },
    {
      "cell_type": "markdown",
      "metadata": {
        "id": "YKpeUzekoax8"
      },
      "source": [
        "$^0R_3 = $"
      ]
    },
    {
      "cell_type": "code",
      "metadata": {
        "id": "X1fVt_vWoakw"
      },
      "source": [
        "# Mostre a matriz de rotações aqui"
      ],
      "execution_count": null,
      "outputs": []
    }
  ]
}