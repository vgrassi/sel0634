{
  "nbformat": 4,
  "nbformat_minor": 0,
  "metadata": {
    "colab": {
      "name": "sel634_aula2.ipynb",
      "provenance": [],
      "authorship_tag": "ABX9TyOLWnkvlqkDEYBiIlwkVRmu"
    },
    "kernelspec": {
      "name": "python3",
      "display_name": "Python 3"
    },
    "language_info": {
      "name": "python"
    }
  },
  "cells": [
    {
      "cell_type": "code",
      "metadata": {
        "colab": {
          "base_uri": "https://localhost:8080/"
        },
        "id": "qnwpDjyZv8uY",
        "outputId": "91f8cb10-47f9-4f4e-92db-6b2ccc658f90"
      },
      "source": [
        "!python3 -m pip install --user --upgrade pip==20.1\n",
        "!pip install roboticstoolbox-python\n",
        "!pip install spatialmath-python"
      ],
      "execution_count": 45,
      "outputs": [
        {
          "output_type": "stream",
          "text": [
            "Requirement already up-to-date: pip==20.1 in /root/.local/lib/python3.7/site-packages (20.1)\n",
            "WARNING: pip is being invoked by an old script wrapper. This will fail in a future version of pip.\n",
            "Please see https://github.com/pypa/pip/issues/5599 for advice on fixing the underlying issue.\n",
            "To avoid this problem you can invoke Python with '-m pip' instead of running pip directly.\n",
            "Requirement already satisfied: roboticstoolbox-python in /usr/local/lib/python3.7/dist-packages (0.10.1)\n",
            "Requirement already satisfied: rtb-data in /usr/local/lib/python3.7/dist-packages (from roboticstoolbox-python) (0.9.1)\n",
            "Requirement already satisfied: ansitable in /usr/local/lib/python3.7/dist-packages (from roboticstoolbox-python) (0.9.6)\n",
            "Requirement already satisfied: scipy in /usr/local/lib/python3.7/dist-packages (from roboticstoolbox-python) (1.4.1)\n",
            "Requirement already satisfied: swift-sim>=0.9.5 in /usr/local/lib/python3.7/dist-packages (from roboticstoolbox-python) (0.9.6)\n",
            "Requirement already satisfied: matplotlib in /usr/local/lib/python3.7/dist-packages (from roboticstoolbox-python) (3.2.2)\n",
            "Requirement already satisfied: numpy>=1.18.0 in /usr/local/lib/python3.7/dist-packages (from roboticstoolbox-python) (1.19.5)\n",
            "Requirement already satisfied: pgraph-python in /usr/local/lib/python3.7/dist-packages (from roboticstoolbox-python) (0.6.1)\n",
            "Requirement already satisfied: qpsolvers in /usr/local/lib/python3.7/dist-packages (from roboticstoolbox-python) (1.6.1)\n",
            "Requirement already satisfied: spatialgeometry>=0.1.2 in /usr/local/lib/python3.7/dist-packages (from roboticstoolbox-python) (0.1.2)\n",
            "Requirement already satisfied: spatialmath-python>=0.9.6 in /usr/local/lib/python3.7/dist-packages (from roboticstoolbox-python) (0.9.6)\n",
            "Requirement already satisfied: colored in /usr/local/lib/python3.7/dist-packages (from ansitable->roboticstoolbox-python) (1.4.2)\n",
            "Requirement already satisfied: websockets in /usr/local/lib/python3.7/dist-packages (from swift-sim>=0.9.5->roboticstoolbox-python) (9.0.1)\n",
            "Requirement already satisfied: python-dateutil>=2.1 in /usr/local/lib/python3.7/dist-packages (from matplotlib->roboticstoolbox-python) (2.8.1)\n",
            "Requirement already satisfied: pyparsing!=2.0.4,!=2.1.2,!=2.1.6,>=2.0.1 in /usr/local/lib/python3.7/dist-packages (from matplotlib->roboticstoolbox-python) (2.4.7)\n",
            "Requirement already satisfied: cycler>=0.10 in /usr/local/lib/python3.7/dist-packages (from matplotlib->roboticstoolbox-python) (0.10.0)\n",
            "Requirement already satisfied: kiwisolver>=1.0.1 in /usr/local/lib/python3.7/dist-packages (from matplotlib->roboticstoolbox-python) (1.3.1)\n",
            "Requirement already satisfied: quadprog>=0.1.8 in /usr/local/lib/python3.7/dist-packages (from qpsolvers->roboticstoolbox-python) (0.1.8)\n",
            "Requirement already satisfied: six>=1.5 in /usr/local/lib/python3.7/dist-packages (from python-dateutil>=2.1->matplotlib->roboticstoolbox-python) (1.15.0)\n",
            "Requirement already satisfied: Cython in /usr/local/lib/python3.7/dist-packages (from quadprog>=0.1.8->qpsolvers->roboticstoolbox-python) (0.29.22)\n",
            "WARNING: pip is being invoked by an old script wrapper. This will fail in a future version of pip.\n",
            "Please see https://github.com/pypa/pip/issues/5599 for advice on fixing the underlying issue.\n",
            "To avoid this problem you can invoke Python with '-m pip' instead of running pip directly.\n",
            "Requirement already satisfied: spatialmath-python in /usr/local/lib/python3.7/dist-packages (0.9.6)\n",
            "Requirement already satisfied: colored in /usr/local/lib/python3.7/dist-packages (from spatialmath-python) (1.4.2)\n",
            "Requirement already satisfied: ansitable in /usr/local/lib/python3.7/dist-packages (from spatialmath-python) (0.9.6)\n",
            "Requirement already satisfied: matplotlib in /usr/local/lib/python3.7/dist-packages (from spatialmath-python) (3.2.2)\n",
            "Requirement already satisfied: numpy in /usr/local/lib/python3.7/dist-packages (from spatialmath-python) (1.19.5)\n",
            "Requirement already satisfied: scipy in /usr/local/lib/python3.7/dist-packages (from spatialmath-python) (1.4.1)\n",
            "Requirement already satisfied: python-dateutil>=2.1 in /usr/local/lib/python3.7/dist-packages (from matplotlib->spatialmath-python) (2.8.1)\n",
            "Requirement already satisfied: kiwisolver>=1.0.1 in /usr/local/lib/python3.7/dist-packages (from matplotlib->spatialmath-python) (1.3.1)\n",
            "Requirement already satisfied: pyparsing!=2.0.4,!=2.1.2,!=2.1.6,>=2.0.1 in /usr/local/lib/python3.7/dist-packages (from matplotlib->spatialmath-python) (2.4.7)\n",
            "Requirement already satisfied: cycler>=0.10 in /usr/local/lib/python3.7/dist-packages (from matplotlib->spatialmath-python) (0.10.0)\n",
            "Requirement already satisfied: six>=1.5 in /usr/local/lib/python3.7/dist-packages (from python-dateutil>=2.1->matplotlib->spatialmath-python) (1.15.0)\n"
          ],
          "name": "stdout"
        }
      ]
    },
    {
      "cell_type": "code",
      "metadata": {
        "id": "2DrngvlswMdi"
      },
      "source": [
        "import numpy as np\n",
        "#import roboticstoolbox as rtb\n",
        "from roboticstoolbox import *\n",
        "from spatialmath import *\n",
        "from math import pi\n",
        "import matplotlib.pyplot as plt\n",
        "from matplotlib import cm\n",
        "np.set_printoptions(linewidth=100, formatter={'float': lambda x: f\"{x:8.4g}\" if abs(x) > 1e-10 else f\"{0:8.4g}\"})\n",
        "\n",
        "# no Binder utilizar essa linha\n",
        "# %matplotlib notebook  \n",
        "# no Colab utilizar essa linha\n",
        "%matplotlib inline  \n"
      ],
      "execution_count": 46,
      "outputs": []
    },
    {
      "cell_type": "code",
      "metadata": {
        "colab": {
          "base_uri": "https://localhost:8080/"
        },
        "id": "3ZwA724K_oS6",
        "outputId": "56b118c8-e4a5-4ec0-ce52-4b9f9798d7d9"
      },
      "source": [
        "robot = DHRobot(\n",
        "    [\n",
        "        RevoluteDH(alpha=pi/2),\n",
        "        RevoluteDH(a=0.4318),\n",
        "        RevoluteDH(d=0.15005, a=0.0203, alpha=-pi/2),\n",
        "        RevoluteDH(d=0.4318, alpha=pi/2),\n",
        "        RevoluteDH(alpha=-pi/2),\n",
        "        RevoluteDH()\n",
        "    ], name=\"Puma560\")\n",
        "print(robot)"
      ],
      "execution_count": 47,
      "outputs": [
        {
          "output_type": "stream",
          "text": [
            "DHRobot: Puma560, 6 joints (RRRRRR), dynamics, standard DH parameters\n",
            "┏━━━━┳━━━━━━━━┳━━━━━━━━┳━━━━━━━━┓\n",
            "┃θⱼ  ┃   dⱼ   ┃   aⱼ   ┃   ⍺ⱼ   ┃\n",
            "┣━━━━╋━━━━━━━━╋━━━━━━━━╋━━━━━━━━┫\n",
            "┃ q1\u001b[0m ┃      0\u001b[0m ┃      0\u001b[0m ┃  90.0°\u001b[0m ┃\n",
            "┃ q2\u001b[0m ┃      0\u001b[0m ┃ 0.4318\u001b[0m ┃   0.0°\u001b[0m ┃\n",
            "┃ q3\u001b[0m ┃   0.15\u001b[0m ┃ 0.0203\u001b[0m ┃ -90.0°\u001b[0m ┃\n",
            "┃ q4\u001b[0m ┃ 0.4318\u001b[0m ┃      0\u001b[0m ┃  90.0°\u001b[0m ┃\n",
            "┃ q5\u001b[0m ┃      0\u001b[0m ┃      0\u001b[0m ┃ -90.0°\u001b[0m ┃\n",
            "┃ q6\u001b[0m ┃      0\u001b[0m ┃      0\u001b[0m ┃   0.0°\u001b[0m ┃\n",
            "┗━━━━┻━━━━━━━━┻━━━━━━━━┻━━━━━━━━┛\n",
            "\n"
          ],
          "name": "stdout"
        }
      ]
    },
    {
      "cell_type": "code",
      "metadata": {
        "colab": {
          "base_uri": "https://localhost:8080/"
        },
        "id": "woFB7z4vAgMG",
        "outputId": "2304ee0b-a0cf-45fc-a5d7-08fe904283c4"
      },
      "source": [
        "q = [0,0,0,0,0,0]\n",
        "T = robot.fkine(q)\n",
        "print(T)"
      ],
      "execution_count": 48,
      "outputs": [
        {
          "output_type": "stream",
          "text": [
            "  \u001b[38;5;1m 1       \u001b[0m \u001b[38;5;1m 0       \u001b[0m \u001b[38;5;1m 0       \u001b[0m \u001b[38;5;4m 0.4521  \u001b[0m  \u001b[0m\n",
            "  \u001b[38;5;1m 0       \u001b[0m \u001b[38;5;1m 1       \u001b[0m \u001b[38;5;1m 0       \u001b[0m \u001b[38;5;4m-0.15    \u001b[0m  \u001b[0m\n",
            "  \u001b[38;5;1m 0       \u001b[0m \u001b[38;5;1m 0       \u001b[0m \u001b[38;5;1m 1       \u001b[0m \u001b[38;5;4m 0.4318  \u001b[0m  \u001b[0m\n",
            "  \u001b[38;5;244m 0       \u001b[0m \u001b[38;5;244m 0       \u001b[0m \u001b[38;5;244m 0       \u001b[0m \u001b[38;5;244m 1       \u001b[0m  \u001b[0m\n",
            "\n"
          ],
          "name": "stdout"
        }
      ]
    },
    {
      "cell_type": "code",
      "metadata": {
        "colab": {
          "base_uri": "https://localhost:8080/",
          "height": 387
        },
        "id": "dmxNCMaBAs1Z",
        "outputId": "a4ac0a73-8022-4fea-a948-ccf812a5a69e"
      },
      "source": [
        "robot.plot(q)"
      ],
      "execution_count": 49,
      "outputs": [
        {
          "output_type": "display_data",
          "data": {
            "image/png": "[encoded data removed]",
            "text/plain": [
              "<Figure size 432x288 with 1 Axes>"
            ]
          },
          "metadata": {
            "tags": [],
            "needs_background": "light"
          }
        },
        {
          "output_type": "display_data",
          "data": {
            "text/plain": [
              "<Figure size 432x288 with 0 Axes>"
            ]
          },
          "metadata": {
            "tags": []
          }
        },
        {
          "output_type": "display_data",
          "data": {
            "text/plain": [
              "<Figure size 432x288 with 0 Axes>"
            ]
          },
          "metadata": {
            "tags": []
          }
        },
        {
          "output_type": "execute_result",
          "data": {
            "text/plain": [
              "PyPlot3D backend, t = 0.05, scene:\n",
              "  Puma560"
            ]
          },
          "metadata": {
            "tags": []
          },
          "execution_count": 49
        }
      ]
    }
  ]
}