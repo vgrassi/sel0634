{
  "nbformat": 4,
  "nbformat_minor": 0,
  "metadata": {
    "colab": {
      "name": "sel0634_tarefa4_2022.ipynb",
      "provenance": [],
      "collapsed_sections": [],
      "authorship_tag": "ABX9TyNJuU6k9ghUYDTdhxZavLwr"
    },
    "kernelspec": {
      "name": "python3",
      "display_name": "Python 3"
    },
    "language_info": {
      "name": "python"
    }
  },
  "cells": [
    {
      "cell_type": "markdown",
      "metadata": {
        "id": "RfOcPjB5LeQA"
      },
      "source": [
        "# SEL634 - Laboratório de Robôs Manipuladores\n",
        "\n",
        "## Inicialização da biblioteca\n",
        "\n",
        "Carregar a biblioteca de robótica para Python:"
      ]
    },
    {
      "cell_type": "code",
      "metadata": {
        "id": "byi8G6BxLXK7"
      },
      "source": [
        "!pip install roboticstoolbox-python\n",
        "!pip install spatialmath-python"
      ],
      "execution_count": null,
      "outputs": []
    },
    {
      "cell_type": "code",
      "metadata": {
        "id": "GhTb1eOALjKe"
      },
      "source": [
        "import numpy as np\n",
        "#import roboticstoolbox as rtb\n",
        "from roboticstoolbox import *\n",
        "from spatialmath import *\n",
        "from math import pi\n",
        "import matplotlib.pyplot as plt\n",
        "from matplotlib import cm\n",
        "np.set_printoptions(linewidth=100, formatter={'float': lambda x: f\"{x:8.4g}\" if abs(x) > 1e-10 else f\"{0:8.4g}\"})\n",
        "\n",
        "# no Binder utilizar essa linha\n",
        "%matplotlib notebook  \n",
        "# no Colab utilizar essa linha\n",
        "# %matplotlib inline"
      ],
      "execution_count": null,
      "outputs": []
    },
    {
      "cell_type": "markdown",
      "metadata": {
        "id": "76NHqE5ELmAl"
      },
      "source": [
        "## Cinemática Direta do Robô Kinova Gen3 (Cópia da Tarefa 3)\n",
        "\n",
        "O robô Kinova Gen3 pode ser modelado pela seguinte função (ver Tarefa 2):"
      ]
    },
    {
      "cell_type": "code",
      "metadata": {
        "id": "PE8CpE4eMA3K"
      },
      "source": [
        "def kinova_robot(my_name):\n",
        "  robot = DHRobot(\n",
        "      [\n",
        "       # Colocar seu código aqui para completar a descrição do robô\n",
        "        RevoluteDH(d=-(0.1564+0.1284), alpha=pi/2),\n",
        "            RevoluteDH(d=-(0.0054+0.0064), alpha=pi/2, offset=pi),\n",
        "            RevoluteDH(d=-(0.2104+0.2104), alpha=pi/2, offset=pi),\n",
        "            RevoluteDH(d=-(0.0064+0.0064), alpha=pi/2, offset=pi),\n",
        "            RevoluteDH(d=-(0.2084+0.1059), alpha=pi/2, offset=pi),\n",
        "            RevoluteDH(alpha=pi/2, offset=pi),\n",
        "            RevoluteDH(d=-(0.1059+0.0615), alpha=pi, offset=pi)\n",
        "       ], name=my_name)\n",
        "  H_B0 = SE3.Rz(0)*SE3(0,0,0)*SE3(0,0,0)*SE3.Rx(pi)\n",
        "  robot.base = H_B0\n",
        "  return robot\n"
      ],
      "execution_count": null,
      "outputs": []
    },
    {
      "cell_type": "markdown",
      "metadata": {
        "id": "gtjvxjQsMJ6P"
      },
      "source": [
        "A pose do efetuador do robô Kinova Gen3 é dada em relação a base, $B$, pela função:"
      ]
    },
    {
      "cell_type": "code",
      "metadata": {
        "id": "vRK0cR_TMQFO"
      },
      "source": [
        "def pose_efetuador(robot, q):\n",
        "  H_B7 = robot.fkine(q)\n",
        "  return H_B7"
      ],
      "execution_count": null,
      "outputs": []
    },
    {
      "cell_type": "markdown",
      "metadata": {
        "id": "BodYKE_NMFGv"
      },
      "source": [
        "## Tarefa 4 - Trajetória do Robô no Espaço das Juntas\n",
        "\n",
        "De modo geral, existem duas formas de descrever trajetórias para um robô manipulador: especificar trajetórias no espaço de configuração, ou especificar trajetórias no espaço da tarefa. \n",
        "\n",
        "Nesta experiência serão especificadas as trajetórias no espaço de configuração, ou seja, serão especificadas trajetórias para cada junta do robô, e através da cinemática direta serão calculadas a posição e orientação do efetuador para cada configuração do robô.\n",
        "\n",
        "Através de um polinômio de quinta ordem é possível obter uma trajetória suave para junta ao definir a posição, velocidade e aceleração inicial e final no intervalo de tempo da trajetória. \n",
        "\n",
        "**Polinômio de quinta ordem:** Considere que a junta $i$ possui a seguinte trajetória  em graus no tempo que leva a junta $i$ da posição $\\theta_{si}$ até $\\theta_{gi}$ em um intervalo de tempo $T_d$:\n",
        "$$ \\theta_i (t) = c_{0i} + c_{1i} t + c_{2i} t^2 + c_{3i} t^3 + c_{4i} t^4 + c_{5i} t^5 $$\n",
        "Para velocidades e acelerações iniciais e finais iguais a zero, os coeficientes do polinômio são dados em função da posição inicial e final e do intervalo de tempo:\n",
        "\\begin{eqnarray*}\n",
        "\t&c_{0i}& = \\theta_{si}\\\\\n",
        "\t&c_{1i}& = c_{2i} = 0\\\\\n",
        "\t&c_{3i}& = \\frac{10(\\theta_{gi}-\\theta_{si})}{T_d^{3}}\\\\\n",
        "\t&c_{4i}& = \\frac{15(\\theta_{si}-\\theta_{gi})}{T_d^{4}}\\\\\n",
        "\t&c_{5i}& = \\frac{6(\\theta_{gi}-\\theta_{si})}{T_d^{5}}\n",
        "\\end{eqnarray*}\n",
        "\n",
        "A velocidade de cada junta para condições iniciais nulas é dada por:\n",
        "$$ \\dot\\theta_i (t) = c_{1i} + 2c_{2i} t + 3c_{3i} t^2 + 4c_{4i} t^3 + 5c_{5i} t^4 $$\n",
        "\n",
        "A aceleração de cada junta para condições iniciais nulas é dada por:\n",
        "$$ \\ddot\\theta_i (t) = 2c_{2i} + 6c_{3i} t + 12c_{4i} t^2 + 20c_{5i} t^3 $$\n"
      ]
    },
    {
      "cell_type": "markdown",
      "metadata": {
        "id": "KWBinqDgNDBf"
      },
      "source": [
        "### 3.1 **Escreva uma função para calcular a trajetória das juntas do manipulador.** \n",
        "\n",
        "**A função deve ter como entrada:** um vetor $\\theta_s$ com as posições iniciais das $N$ juntas do manipulador, um vetor $\\theta_g$ com as posições finais das $N$ juntas do manipulador, o intervalo de tempo total do movimento $T_d$, o intervalo de tempo entre cada ponto da trajetória $\\delta t$. \n",
        "\n",
        "**A função deve ter como saída:** uma matriz $\\theta$ que descreve a posição de cada junta no tempo, e que possui dimensão $M \\times N$, onde $N$ é o número de juntas do manipulador, $M$ é a quantidade de pontos da trajetória de cada junta ($M = T_d / \\delta t$); uma matriz $d\\theta$ com dimensão $M \\times N$ que descreve a velocidade de cada junta no tempo; uma matriz $dd\\theta$ com dimensão $M \\times N$ que descreve a aceleração de cada junta no tempo. \n",
        "\n",
        "**Observação:** Não utilize a derivada numérica discreta para encontrar a velocidade e aceleração. Calcule a velocidade e aceleração a partir das suas funções analíticas. Também não utilize loop para encontrar os pontos das curvas, ao invés disso, crie um vetor de tempo com $M$ elementos de $0$ a $T_d$, e use esse vetor diretamente no calculo das trajetórias. "
      ]
    },
    {
      "cell_type": "code",
      "metadata": {
        "id": "dDkgxSqhNUP3"
      },
      "source": [
        "def calcular_trajetoria(theta_s, theta_g, Td, dt):\n",
        "  # Coloque seu codigo aqui\n",
        "\n",
        "  return theta_t, dtheta_t, ddtheta_t"
      ],
      "execution_count": null,
      "outputs": []
    },
    {
      "cell_type": "markdown",
      "metadata": {
        "id": "yuEZmIpRNuCM"
      },
      "source": [
        "### 3.2 Escreva uma função para plotar as curvas de posição, velocidade e aceleração em função do tempo para cada junta do robô. \n",
        "\n",
        "O programa deve plotar 3 gráficos em função do tempo, um para a posição, um para velocidade e um para aceleração nas juntas. Em cada um dos três gráficos, sobreponha as curvas para as juntas do robô identificando por cores diferentes cada uma das juntas. Não esqueça de colocar título nas figuras, rótulo para cada um dos eixos com a unidade de medida e significado, e legenda para as cores. \n",
        "\n",
        "**Entrada da função:** As mesmas entradas da função do item 3.1. "
      ]
    },
    {
      "cell_type": "code",
      "metadata": {
        "id": "zMi-ZrjpN-Dx"
      },
      "source": [
        "def plotar_trajetoria_juntas(theta_s, theta_g, Td, dt):\n",
        "  # Coloque seu codigo aqui"
      ],
      "execution_count": null,
      "outputs": []
    },
    {
      "cell_type": "markdown",
      "metadata": {
        "id": "amRIj2OOOKM2"
      },
      "source": [
        "### 3.3 Escreva uma função que calcule a cinemática direta do robô Kinova Gen3 para cada ponto da trajetória do robô no espaço das juntas\n",
        "\n",
        "Para cada configuração do robô no tempo, $\\mathbf{q} = [\\theta_1~\\theta_2~\\theta_3~ \\theta_4~ \\theta_5~ \\theta_6~ \\theta_7]^T$, calcular matriz de transformação homogênea que representa a pose do efetuador em relação a base. \n",
        "\n",
        "**Entrada da função:** O modelo cinemático do robô Kinova Gen3 (resultado da Tarefa 2); a matriz $\\theta$ de dimensão $M \\times N$ resultado do item 3.1. \n",
        "\n",
        "**Saída da função:** um vetor `np.array` de matrizes de transformação homogênea (dimensão $M \\times 4 \\times 4$), em que para cada instante de tempo, a matriz de transformação homogênea representa a pose do robô (posição e orientação do efetuador). Consulte a seção 2.5 da tarefa 2."
      ]
    },
    {
      "cell_type": "code",
      "metadata": {
        "id": "d4LVto0AOcWP"
      },
      "source": [
        "def calcular_traj_efetuador(robot, theta_t):\n",
        "  # Coloque seu codigo aqui\n",
        "\n",
        "  return HH_efetuador"
      ],
      "execution_count": null,
      "outputs": []
    },
    {
      "cell_type": "markdown",
      "metadata": {
        "id": "zGrcgsu8OlI_"
      },
      "source": [
        "### 3.6 Teste das funções\n",
        "\n",
        "Faça o teste das funções do item 3.2 a 3.5 para os seguintes parâmetros: $T_d = 10$ segundos, $\\delta t = 0.01$ segundos,  posição inicial das juntas $\\theta_s = [0, 0, 0, 0, 0, 0, 0]^T$  e posição final das juntas $\\theta_g = [90, 90, 0, -90, 0, 90, 0]^T$ dada em graus."
      ]
    },
    {
      "cell_type": "code",
      "metadata": {
        "id": "57dIRjd6Otd-"
      },
      "source": [
        "Td = 10.0\n",
        "dt = 0.01\n",
        "theta_s = np.array([0,0,0,0,0,0,0])\n",
        "theta_g = np.array([90,90,0,−90,0,90,0])\n",
        "\n"
      ],
      "execution_count": null,
      "outputs": []
    },
    {
      "cell_type": "markdown",
      "source": [
        "# Tarefa 4 - Cinemática Inversa\n",
        "\n",
        "Na **Tarefa 4** o objetivo é aplicar a função que calcula a cinemática inversa para a trajetória do efetuador obtida na seção 3.6 da **Tarefa 3**.\n",
        "\n",
        "Utilize a função [`ikine_LMS`](https://petercorke.github.io/robotics-toolbox-python/arm_dh.html#roboticstoolbox.robot.DHRobot.DHRobot.ikine_LMS) ou a função [`ikine_LM`](https://petercorke.github.io/robotics-toolbox-python/arm_dh.html#roboticstoolbox.robot.DHRobot.DHRobot.ikine_LM) para calcular de forma numérica a cinematica inversa para cada ponto da trajetória do efetuador obtida na seção 3.6 da **Tarefa 3**.\n",
        "\n",
        "A função `ikine_LMS` ou `ikine_LM` recebe como parâmetro um matriz de transformação homogênea representada como um objeto da classe SE3. O segundo parâmetros opcional da função é a posição inicial das juntas. Exemplo:\n",
        "\n",
        "```\n",
        "robot = kinova_robot(\"kinova\")\n",
        "T = SE3()\n",
        "q0 = [0 0 0 0 0 0 0]\n",
        "sol = robot.ikine_LM(T,q0)\n",
        "```\n",
        "\n",
        "Para calcular a cinemática da trajetória do efetuador, você deve executar a função de cinemática inversa considerando a pose do efetuador no instante de tempo discreto $k$ dada por $T_k$ e a configuração inicial dada pela configuração do robô no instante discreto anterior dada por $q_{k-1}$. Observe que $q_{k-1}$ é a resposta da cinemática inversa para $T_{k-1}$.\n",
        "\n",
        "Também observe que como resultado da seção 3.6 da **Tarefa 3**, você obteve o Numpy array `HH_efetuador` que é um vetor de matrizes de transformação homogênea. Para cada uma dessas matrizes, por exemplo `T_k`, você poderá converter de volta para um objeto SE3 utilizando o comando: `SE3(T_k)`.\n",
        "\n",
        "A estrutura de dados que é resposta da função `ikine_LM` possui como um dos componentes a configuração do robô $q_k$ resposta da cinemática inversa de $T_k$. Salve cada resposta $q_k$ em uma matriz $M \\times N$ semelhante àquela retornada na **seção 3.1**.\n"
      ],
      "metadata": {
        "id": "8gyr2kS4PeYE"
      }
    },
    {
      "cell_type": "markdown",
      "source": [
        "## 4.1 Teste da função"
      ],
      "metadata": {
        "id": "FQfRTmpdWA5t"
      }
    },
    {
      "cell_type": "code",
      "source": [
        "# Coloque seu código aqui"
      ],
      "metadata": {
        "id": "eMxLjOh_V-d1"
      },
      "execution_count": null,
      "outputs": []
    },
    {
      "cell_type": "markdown",
      "source": [
        "Plote um gráfico da trajetória das juntas do robô, obtidas através da cinemática inversa."
      ],
      "metadata": {
        "id": "WSXuS1cEWJPn"
      }
    },
    {
      "cell_type": "code",
      "source": [
        "# Coloque seu código aqui"
      ],
      "metadata": {
        "id": "ijglk7HGXnAU"
      },
      "execution_count": null,
      "outputs": []
    }
  ]
}