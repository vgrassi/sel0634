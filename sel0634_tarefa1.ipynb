{
  "nbformat": 4,
  "nbformat_minor": 0,
  "metadata": {
    "colab": {
      "name": "sel0634_tarefa1.ipynb",
      "provenance": [],
      "authorship_tag": "ABX9TyMHjdjeb7zO5o6GrxNt0qb1"
    },
    "kernelspec": {
      "name": "python3",
      "display_name": "Python 3"
    },
    "language_info": {
      "name": "python"
    }
  },
  "cells": [
    {
      "cell_type": "markdown",
      "metadata": {
        "id": "nuDol0unsssM"
      },
      "source": [
        "# SEL0634 - Laboratório de Robôs Manipuladores\n",
        "\n",
        "## Inicialização da biblioteca "
      ]
    },
    {
      "cell_type": "code",
      "metadata": {
        "id": "H-Gtatq9sXD5"
      },
      "source": [
        "!pip install spatialmath-python"
      ],
      "execution_count": null,
      "outputs": []
    },
    {
      "cell_type": "code",
      "metadata": {
        "id": "KYWe8C3It-h_"
      },
      "source": [
        "import numpy as np\n",
        "from spatialmath import *\n",
        "from math import pi\n",
        "\n",
        "import matplotlib.pyplot as plt\n",
        "# no Binder utilizar essa linha\n",
        "# %matplotlib notebook  \n",
        "# no Colab utilizar essa linha\n",
        "%matplotlib inline  \n"
      ],
      "execution_count": null,
      "outputs": []
    },
    {
      "cell_type": "markdown",
      "metadata": {
        "id": "Rmefwd7uuHpi"
      },
      "source": [
        "## Tarefa 1 - Sequencia de Rotações Aplicadas em um Cubo\n",
        "\n",
        "### Desenhar cubo na posição inicial\n",
        "\n",
        "Considere a seguinte função para desenhar os vértices de um cubo:"
      ]
    },
    {
      "cell_type": "code",
      "metadata": {
        "id": "gJgtsOmAu5f5"
      },
      "source": [
        "def plot_cubo_grafico(cubo,grafico):\n",
        "  grafico.scatter(xs=cubo[0], ys=cubo[1], zs=cubo[2], s=20)  # draw vertices\n",
        "  # draw lines joining the vertices\n",
        "  lines = [[0,1,5,6], [1,2,6,7], [2,3,7,4], [3,0,4,5]]\n",
        "  for line in lines:\n",
        "      grafico.plot([cubo[0,i] for i in line], [cubo[1,i] for i in line], [cubo[2,i] for i in line])\n",
        "\n",
        "def plot_cubo(cubo):\n",
        "  fig = plt.figure()\n",
        "  SE3().plot(frame='0', dims=[-2,3,0,5,0,5], color='black')\n",
        "  grafico = plt.gca()\n",
        "  plot_cubo_grafico(cubo,grafico)"
      ],
      "execution_count": null,
      "outputs": []
    },
    {
      "cell_type": "markdown",
      "metadata": {
        "id": "kTXoActsvBYN"
      },
      "source": [
        "Considere que na posição inicial, o cubo possui vértices $^0P_i$ posicionados  em relação ao sistema inercial $\\{0\\}$ nas seguintes coordenadas:"
      ]
    },
    {
      "cell_type": "code",
      "metadata": {
        "id": "3zanPRSAvSQw"
      },
      "source": [
        "P = np.array([[0, 2, 2, 0, 0, 2, 2, 0], [0, 0, 2, 2, 0, 0, 2, 2], [0, 0, 0, 0, 2, 2, 2, 2]])\n",
        "P"
      ],
      "execution_count": null,
      "outputs": []
    },
    {
      "cell_type": "markdown",
      "metadata": {
        "id": "sAqRBY_LvcDl"
      },
      "source": [
        "Para plotar o cubo:"
      ]
    },
    {
      "cell_type": "code",
      "metadata": {
        "id": "7YZtHgEsv-eo"
      },
      "source": [
        "plot_cubo(P)"
      ],
      "execution_count": null,
      "outputs": []
    },
    {
      "cell_type": "markdown",
      "metadata": {
        "id": "G_XhMekylHVc"
      },
      "source": [
        "### Primeira transformação\n",
        "\n",
        "Aplique uma rotação no cubo em torno do eixo $x$ de um ângulo de $90^o$ e mostre os vertices do cubo nesta nova pose. \n",
        "\n",
        "Considere que um sistema de coordenadas fixo no cubo após esta rotação está com orientação dada por $\\{1\\}$, ou seja, após essa primeira rotação, a matriz $^0R_1$ representa a orientação do sistema de coordenadas fixo no cubo em relação ao sistema inercial. "
      ]
    },
    {
      "cell_type": "code",
      "metadata": {
        "id": "h_-GbiZtl0S_"
      },
      "source": [
        "#########################\n",
        "# Coloque seu código aqui\n",
        "P01 = \n",
        "\n",
        "#########################\n",
        "plot_cubo(P01)"
      ],
      "execution_count": null,
      "outputs": []
    },
    {
      "cell_type": "markdown",
      "metadata": {
        "id": "qhQBaEZQl4Xr"
      },
      "source": [
        "### Segunda transformação\n",
        "\n",
        "Aplique uma nova rotação no cubo em torno do eixo $z$ do sistema atual $\\{1\\}$ de um ângulo de $90^0$, e mostre os vértices do cubo nesta nova pose. \n",
        "\n",
        "Considere que o sistema de coordenadas fixo no cubo após esta operação está com orientação dada por $\\{2\\}$, ou seja, a matriz $^0R_2$ representa a orientação do cubo em relação ao sistema inercial.\n",
        "\n"
      ]
    },
    {
      "cell_type": "code",
      "metadata": {
        "id": "j2wvgy8onvvP"
      },
      "source": [
        "#########################\n",
        "# Coloque seu código aqui\n",
        "P02 = \n",
        "\n",
        "########################\n",
        "plot_cubo(P02)"
      ],
      "execution_count": null,
      "outputs": []
    },
    {
      "cell_type": "markdown",
      "metadata": {
        "id": "li8lMyPPnyNy"
      },
      "source": [
        "### Terceira transformação\n",
        "\n",
        "Aplique uma nova rotação no cubo em torno do eixo $y$ do sistema inercial $\\{0\\}$ de um ângulo de $90^0$, e mostre os vértices do cubo nesta nova pose. \n",
        "\n",
        "Considere que o sistema de coordenadas fixo no cubo após esta operação está com orientação dada por $\\{3\\}$, ou seja, a matriz $^0R_3$ representa a orientação do cubo em relação ao sistema inercial.\n",
        "\n",
        "\n"
      ]
    },
    {
      "cell_type": "code",
      "metadata": {
        "id": "rYNp2lmMoAho"
      },
      "source": [
        "#########################\n",
        "# Coloque seu código aqui\n",
        "P03 = \n",
        "\n",
        "#########################\n",
        "plot_cubo(P03)"
      ],
      "execution_count": null,
      "outputs": []
    },
    {
      "cell_type": "markdown",
      "metadata": {
        "id": "jIMQyEwhoEHY"
      },
      "source": [
        "### Matrizes de rotação\n",
        "\n",
        "Quais são as matrizes de rotação: \n",
        "\n",
        "$^0R_1 =$"
      ]
    },
    {
      "cell_type": "code",
      "metadata": {
        "id": "QScGaJ1CoVRg"
      },
      "source": [
        "# Mostre a matriz de rotação aqui"
      ],
      "execution_count": null,
      "outputs": []
    },
    {
      "cell_type": "markdown",
      "metadata": {
        "id": "CJYKmdywoVqS"
      },
      "source": [
        "$^0R_2 = $"
      ]
    },
    {
      "cell_type": "code",
      "metadata": {
        "id": "LBp6aiRPoeks"
      },
      "source": [
        "# Mostre a matriz de rotações aqui"
      ],
      "execution_count": null,
      "outputs": []
    },
    {
      "cell_type": "markdown",
      "metadata": {
        "id": "YKpeUzekoax8"
      },
      "source": [
        "$^0R_3 = $"
      ]
    },
    {
      "cell_type": "code",
      "metadata": {
        "id": "X1fVt_vWoakw"
      },
      "source": [
        "# Mostre a matriz de rotações aqui"
      ],
      "execution_count": null,
      "outputs": []
    }
  ]
}