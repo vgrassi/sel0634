{
  "nbformat": 4,
  "nbformat_minor": 0,
  "metadata": {
    "colab": {
      "name": "sel0634_tarefa1.ipynb",
      "provenance": [],
      "authorship_tag": "ABX9TyNzhCyIywwmVbIC2OERq8fQ",
      "include_colab_link": true
    },
    "kernelspec": {
      "name": "python3",
      "display_name": "Python 3"
    },
    "language_info": {
      "name": "python"
    }
  },
  "cells": [
    {
      "cell_type": "markdown",
      "metadata": {
        "id": "view-in-github",
        "colab_type": "text"
      },
      "source": [
        "<a href=\"https://colab.research.google.com/github/vgrassi/sel0634/blob/main/sel0634_tarefa1.ipynb\" target=\"_parent\"><img src=\"https://colab.research.google.com/assets/colab-badge.svg\" alt=\"Open In Colab\"/></a>"
      ]
    },
    {
      "cell_type": "markdown",
      "metadata": {
        "id": "nuDol0unsssM"
      },
      "source": [
        "# SEL0634 - Laboratório de Robôs Manipuladores\n",
        "\n",
        "## Inicialização da biblioteca "
      ]
    },
    {
      "cell_type": "code",
      "metadata": {
        "id": "H-Gtatq9sXD5"
      },
      "source": [
        "!pip install spatialmath-python"
      ],
      "execution_count": null,
      "outputs": []
    },
    {
      "cell_type": "code",
      "metadata": {
        "id": "KYWe8C3It-h_"
      },
      "source": [
        "import numpy as np\n",
        "from spatialmath import *\n",
        "from math import pi\n",
        "\n",
        "import matplotlib.pyplot as plt\n",
        "# no Binder utilizar essa linha\n",
        "# %matplotlib notebook  \n",
        "# no Colab utilizar essa linha\n",
        "%matplotlib inline  \n"
      ],
      "execution_count": null,
      "outputs": []
    },
    {
      "cell_type": "markdown",
      "metadata": {
        "id": "Rmefwd7uuHpi"
      },
      "source": [
        "## Tarefa 1 - Sequencia de Rotações Aplicadas em um Cubo\n",
        "\n",
        "### Desenhar cubo na posição inicial\n",
        "\n",
        "Considere a seguinte função para desenhar os vértices de um cubo:"
      ]
    },
    {
      "cell_type": "code",
      "metadata": {
        "id": "gJgtsOmAu5f5"
      },
      "source": [
        "def plot_cubo_grafico(cubo,grafico):\n",
        "  grafico.scatter(xs=cubo[0], ys=cubo[1], zs=cubo[2], s=20)  # draw vertices\n",
        "  # draw lines joining the vertices\n",
        "  lines = [[0,1,5,6], [1,2,6,7], [2,3,7,4], [3,0,4,5]]\n",
        "  for line in lines:\n",
        "      grafico.plot([cubo[0,i] for i in line], [cubo[1,i] for i in line], [cubo[2,i] for i in line])\n",
        "\n",
        "def plot_cubo(cubo):\n",
        "  fig = plt.figure()\n",
        "  SE3().plot(frame='0', dims=[-2,3,0,5,0,5], color='black')\n",
        "  grafico = plt.gca()\n",
        "  plot_cubo_grafico(cubo,grafico)"
      ],
      "execution_count": null,
      "outputs": []
    },
    {
      "cell_type": "markdown",
      "metadata": {
        "id": "kTXoActsvBYN"
      },
      "source": [
        "Considere que na posição inicial, o cubo possui vértices $^0P_i$ posicionados  em relação ao sistema inercial $\\{0\\}$ nas seguintes coordenadas:"
      ]
    },
    {
      "cell_type": "code",
      "metadata": {
        "id": "3zanPRSAvSQw"
      },
      "source": [
        "P = np.array([[0, 2, 2, 0, 0, 2, 2, 0], [0, 0, 2, 2, 0, 0, 2, 2], [0, 0, 0, 0, 2, 2, 2, 2]])\n",
        "P"
      ],
      "execution_count": null,
      "outputs": []
    },
    {
      "cell_type": "markdown",
      "metadata": {
        "id": "sAqRBY_LvcDl"
      },
      "source": [
        "Para plotar o cubo:"
      ]
    },
    {
      "cell_type": "code",
      "metadata": {
        "id": "7YZtHgEsv-eo"
      },
      "source": [
        "plot_cubo(P)"
      ],
      "execution_count": null,
      "outputs": []
    },
    {
      "cell_type": "markdown",
      "metadata": {
        "id": "G_XhMekylHVc"
      },
      "source": [
        "### Primeira transformação\n",
        "\n",
        "Defina uma transformação homogênea que represente apenas uma rotação em torno do eixo $x$ de um ângulo de $90^o$. "
      ]
    },
    {
      "cell_type": "code",
      "source": [
        "#########################\n",
        "# Coloque seu código aqui\n",
        "T1 = "
      ],
      "metadata": {
        "id": "GUGsgkcCIweI"
      },
      "execution_count": null,
      "outputs": []
    },
    {
      "cell_type": "markdown",
      "source": [
        "Esta matriz de transformação homogênea irá representar a orientação da nova pose do cubo, definida pelo sistema de coordenadas $\\{1\\}$, em relação a pose original do cubo, definida pelo sistema de coordenadas $\\{0\\}$. \n",
        "\n",
        "$T_1 = {^0H_1}$\n",
        "\n",
        "Aplique esta transformação homogênea no cubo. Desenhe o cubo nesta nova pose. "
      ],
      "metadata": {
        "id": "V91FLlWeIxI1"
      }
    },
    {
      "cell_type": "code",
      "metadata": {
        "id": "h_-GbiZtl0S_"
      },
      "source": [
        "#########################\n",
        "# Coloque seu código aqui\n",
        "P1 = \n",
        "\n",
        "#########################\n",
        "plot_cubo(P1)"
      ],
      "execution_count": null,
      "outputs": []
    },
    {
      "cell_type": "markdown",
      "source": [
        "Considerando um sistema de coordenadas fixo no cubo. Inicialmente, este sistema está alinhado com o sistema $\\{0\\}$. Após a aplicação da transformação homogênea $T_1$, o sistema de coordenadas fixo no cubo está em uma nova pose $\\{1\\}$. Perceba que após a aplicação da matriz de transformação homogênea, a orientação do cubo é dada pela matriz $^0R_1$ que representa a orientação atual do sistema de coordenadas fixo no cubo, $\\{1\\}$ em relação ao sistema de coordenadas inicial $\\{0\\}$. "
      ],
      "metadata": {
        "id": "vrTwjTEaL5o0"
      }
    },
    {
      "cell_type": "markdown",
      "metadata": {
        "id": "qhQBaEZQl4Xr"
      },
      "source": [
        "### Segunda transformação\n",
        "\n",
        "Defina uma transformação homogênea que represente apenas uma rotação em torno do eixo $z$ de um ângulo de $90^o$. \n",
        "\n"
      ]
    },
    {
      "cell_type": "code",
      "source": [
        "#########################\n",
        "# Coloque seu código aqui\n",
        "T2 = "
      ],
      "metadata": {
        "id": "rUtegd_BzDuJ"
      },
      "execution_count": null,
      "outputs": []
    },
    {
      "cell_type": "markdown",
      "source": [
        "Esta matriz de transformação homogênea irá representar um movimento de rotação em relação ao sistemas de coordenadas **atual**, ou seja, o sistema de coordenadas fixo no cubo após a primeira transformação (sistema de coordenadas $\\{1\\}$). Considere que esta transformação define a nova pose do cubo, representada pelo sistema de coordenadas $\\{2\\}$, em relação a pose do cubo após a primeira transformação, definida pelo sistema de coordenadas $\\{1\\}$. \n",
        "\n",
        "$T_2 = {^1H_2}$\n",
        "\n",
        "Defina a matriz de transformação homogênea que representa a sequencia final de transformações que faz com que o cubo na pose inicial $\\{0\\}$ seja transformado para a pose $\\{2\\}$ após aplicação da transformação $T_1$ seguida pela $T_2$:\n",
        "\n"
      ],
      "metadata": {
        "id": "KJ1mUGXNzEgD"
      }
    },
    {
      "cell_type": "code",
      "source": [
        "#########################\n",
        "# Coloque seu código aqui\n",
        "T12 = "
      ],
      "metadata": {
        "id": "1Cd-wrXq3bYk"
      },
      "execution_count": null,
      "outputs": []
    },
    {
      "cell_type": "markdown",
      "source": [
        "Aplique a esta transformação homogênea nos vértices originais do cubo (cubo na pose $\\{0\\}$. Desenhe o cubo nesta nova pose. "
      ],
      "metadata": {
        "id": "uHaFZUWh3b8b"
      }
    },
    {
      "cell_type": "code",
      "metadata": {
        "id": "j2wvgy8onvvP"
      },
      "source": [
        "#########################\n",
        "# Coloque seu código aqui\n",
        "P2 = \n",
        "\n",
        "########################\n",
        "plot_cubo(P2)"
      ],
      "execution_count": null,
      "outputs": []
    },
    {
      "cell_type": "markdown",
      "metadata": {
        "id": "li8lMyPPnyNy"
      },
      "source": [
        "### Terceira transformação\n",
        "\n",
        "\n",
        "Defina uma transformação homogênea que represente apenas uma rotação em torno do eixo $y$ de um ângulo de $90^o$.\n",
        "\n",
        "\n",
        "\n",
        "\n"
      ]
    },
    {
      "cell_type": "code",
      "source": [
        "#########################\n",
        "# Coloque seu código aqui\n",
        "T3 ="
      ],
      "metadata": {
        "id": "MQox2Po_AqtS"
      },
      "execution_count": null,
      "outputs": []
    },
    {
      "cell_type": "markdown",
      "source": [
        "Esta matriz de transformação homogênea irá representar um movimento de rotação em relação ao **sistemas de coordenadas inercial**. Portanto, o sistema de coordenadas fixo no cubo após a segunda transformação (sistema de coordenadas $\\{2\\}$), será rotacionado em relação ao eixo $y$ do sistema de coordenadas $\\{0\\}$. Considere que após esta terceira transformação, a nova pose do cubo é representada pelo sistema de coordenadas $\\{3\\}$ em relação ao sistema de coordenadas $\\{0\\}$. \n",
        "\n",
        "Defina a matriz de transformação homogênea que representa a sequencia final de transformações que faz com que o cubo na pose inicial $\\{0\\}$ seja transformado para a pose $\\{3\\}$ após aplicação da transformação $T_1$ seguida pela $T_2$ seguinda pela $T_3$:\n",
        "\n",
        "\n"
      ],
      "metadata": {
        "id": "IYUAHwicArO1"
      }
    },
    {
      "cell_type": "code",
      "source": [
        "#########################\n",
        "# Coloque seu código aqui\n",
        "\n",
        "T123 = "
      ],
      "metadata": {
        "id": "XxMZ7EW7BnDM"
      },
      "execution_count": null,
      "outputs": []
    },
    {
      "cell_type": "markdown",
      "source": [
        "Aplique a esta transformação homogênea nos vértices originais do cubo (cubo na pose $\\{0\\}$. Desenhe o cubo nesta nova pose."
      ],
      "metadata": {
        "id": "wZLu-_qcBnow"
      }
    },
    {
      "cell_type": "code",
      "metadata": {
        "id": "rYNp2lmMoAho"
      },
      "source": [
        "#########################\n",
        "# Coloque seu código aqui\n",
        "P3 = \n",
        "\n",
        "#########################\n",
        "plot_cubo(P3)"
      ],
      "execution_count": null,
      "outputs": []
    },
    {
      "cell_type": "markdown",
      "metadata": {
        "id": "jIMQyEwhoEHY"
      },
      "source": [
        "### Matrizes de rotação\n",
        "\n",
        "Quais são as matrizes de rotação: \n",
        "\n",
        "$^0R_1 =$"
      ]
    },
    {
      "cell_type": "code",
      "metadata": {
        "id": "QScGaJ1CoVRg"
      },
      "source": [
        "# Mostre a matriz de rotação aqui"
      ],
      "execution_count": null,
      "outputs": []
    },
    {
      "cell_type": "markdown",
      "metadata": {
        "id": "CJYKmdywoVqS"
      },
      "source": [
        "$^0R_2 = $"
      ]
    },
    {
      "cell_type": "code",
      "metadata": {
        "id": "LBp6aiRPoeks"
      },
      "source": [
        "# Mostre a matriz de rotações aqui"
      ],
      "execution_count": null,
      "outputs": []
    },
    {
      "cell_type": "markdown",
      "metadata": {
        "id": "YKpeUzekoax8"
      },
      "source": [
        "$^0R_3 = $"
      ]
    },
    {
      "cell_type": "code",
      "metadata": {
        "id": "X1fVt_vWoakw"
      },
      "source": [
        "# Mostre a matriz de rotações aqui"
      ],
      "execution_count": null,
      "outputs": []
    }
  ]
}