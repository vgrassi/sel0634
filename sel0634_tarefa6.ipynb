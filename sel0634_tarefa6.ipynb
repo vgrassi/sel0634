{
  "nbformat": 4,
  "nbformat_minor": 0,
  "metadata": {
    "colab": {
      "provenance": [],
      "authorship_tag": "ABX9TyNnvzeK/i/K1Tm3ll38jEAM",
      "include_colab_link": true
    },
    "kernelspec": {
      "name": "python3",
      "display_name": "Python 3"
    },
    "language_info": {
      "name": "python"
    }
  },
  "cells": [
    {
      "cell_type": "markdown",
      "metadata": {
        "id": "view-in-github",
        "colab_type": "text"
      },
      "source": [
        "<a href=\"https://colab.research.google.com/github/vgrassi/sel0634/blob/main/sel0634_tarefa6.ipynb\" target=\"_parent\"><img src=\"https://colab.research.google.com/assets/colab-badge.svg\" alt=\"Open In Colab\"/></a>"
      ]
    },
    {
      "cell_type": "markdown",
      "metadata": {
        "id": "RfOcPjB5LeQA"
      },
      "source": [
        "# SEL634 - Laboratório de Robôs Manipuladores\n",
        "\n",
        "## Inicialização da biblioteca\n",
        "\n",
        "Carregar a biblioteca de robótica para Python:"
      ]
    },
    {
      "cell_type": "code",
      "metadata": {
        "id": "byi8G6BxLXK7"
      },
      "source": [
        "!python3 -m pip install --user --upgrade pip==20.1\n",
        "!pip install roboticstoolbox-python\n",
        "!pip install spatialmath-python"
      ],
      "execution_count": null,
      "outputs": []
    },
    {
      "cell_type": "code",
      "metadata": {
        "id": "GhTb1eOALjKe"
      },
      "source": [
        "import numpy as np\n",
        "#import roboticstoolbox as rtb\n",
        "from roboticstoolbox import *\n",
        "from spatialmath import *\n",
        "from math import pi\n",
        "import matplotlib.pyplot as plt\n",
        "from matplotlib import cm\n",
        "np.set_printoptions(linewidth=100, formatter={'float': lambda x: f\"{x:8.4g}\" if abs(x) > 1e-10 else f\"{0:8.4g}\"})\n",
        "\n",
        "# no Binder utilizar essa linha\n",
        "%matplotlib notebook\n",
        "# no Colab utilizar essa linha\n",
        "# %matplotlib inline"
      ],
      "execution_count": null,
      "outputs": []
    },
    {
      "cell_type": "markdown",
      "metadata": {
        "id": "76NHqE5ELmAl"
      },
      "source": [
        "## Cinemática Direta do Robô Kinova Gen3\n",
        "\n",
        "O robô Kinova Gen3 pode ser modelado pela seguinte função (ver Tarefa 2):"
      ]
    },
    {
      "cell_type": "code",
      "metadata": {
        "id": "PE8CpE4eMA3K"
      },
      "source": [
        "def kinova_robot(my_name):\n",
        "  robot = DHRobot(\n",
        "      [\n",
        "       # Colocar seu código aqui para completar a descrição do robô\n",
        "        RevoluteDH(d=-(0.1564+0.1284), alpha=pi/2),\n",
        "            RevoluteDH(d=-(0.0054+0.0064), alpha=pi/2, offset=pi),\n",
        "            RevoluteDH(d=-(0.2104+0.2104), alpha=pi/2, offset=pi),\n",
        "            RevoluteDH(d=-(0.0064+0.0064), alpha=pi/2, offset=pi),\n",
        "            RevoluteDH(d=-(0.2084+0.1059), alpha=pi/2, offset=pi),\n",
        "            RevoluteDH(alpha=pi/2, offset=pi),\n",
        "            RevoluteDH(d=-(0.1059+0.0615), alpha=pi, offset=pi)\n",
        "       ], name=my_name)\n",
        "  H_B0 = SE3.Rz(0)*SE3(0,0,0)*SE3(0,0,0)*SE3.Rx(pi)\n",
        "  robot.base = H_B0\n",
        "  return robot\n"
      ],
      "execution_count": null,
      "outputs": []
    },
    {
      "cell_type": "markdown",
      "metadata": {
        "id": "gtjvxjQsMJ6P"
      },
      "source": [
        "A pose do efetuador do robô Kinova Gen3 é dada em relação a base, $B$, pela função:"
      ]
    },
    {
      "cell_type": "code",
      "metadata": {
        "id": "vRK0cR_TMQFO"
      },
      "source": [
        "def pose_efetuador(robot, q):\n",
        "  H_B7 = robot.fkine(q)\n",
        "  return H_B7"
      ],
      "execution_count": null,
      "outputs": []
    },
    {
      "cell_type": "markdown",
      "metadata": {
        "id": "I2hWmRQG0GNQ"
      },
      "source": [
        "## Trajetória do Robô no Espaço das Juntas\n",
        "\n",
        "Considere que a junta $i$ possui a seguinte trajetória  em graus no tempo que leva a junta $i$ da posição $\\theta_{si}$ até $\\theta_{gi}$ em um dado tempo $T_d$:\n",
        "$$ \\theta_i (t) = c_{0i} + c_{1i} t + c_{2i} t^2 + c_{3i} t^3 + c_{4i} t^4 + c_{5i} t^5 $$\n",
        "Para velocidades e acelerações iniciais e finais iguais a zero, os coeficientes do polinômio são dados em função da posição inicial e final e do intervalo de tempo:\n",
        "\\begin{eqnarray*}\n",
        "\t&c_{0i}& = \\theta_{si}\\\\\n",
        "\t&c_{1i}& = c_{2i} = 0\\\\\n",
        "\t&c_{3i}& = \\frac{10(\\theta_{gi}-\\theta_{si})}{T_d^{3}}\\\\\n",
        "\t&c_{4i}& = \\frac{15(\\theta_{si}-\\theta_{gi})}{T_d^{4}}\\\\\n",
        "\t&c_{5i}& = \\frac{6(\\theta_{gi}-\\theta_{si})}{T_d^{5}}\n",
        "\\end{eqnarray*}\n",
        "\n",
        "A velocidade de cada junta para condições iniciais nulas é dada por:\n",
        "$$ \\dot\\theta_i (t) = c_{1i} + 2c_{2i} t + 3c_{3i} t^2 + 4c_{4i} t^3 + 5c_{5i} t^4 $$\n",
        "\n",
        "A aceleração de cada junta para condições iniciais nulas é dada por:\n",
        "$$ \\ddot\\theta_i (t) = 2c_{2i} + 6c_{3i} t + 12c_{4i} t^2 + 20c_{5i} t^3 $$\n",
        "\n",
        "A função a seguir foi implementada na Tarefa 3 para calcular a trajetória das juntas do manipulador:\n"
      ]
    },
    {
      "cell_type": "code",
      "metadata": {
        "id": "dDkgxSqhNUP3"
      },
      "source": [
        "def calcular_trajetoria(theta_s, theta_g, Td, dt):\n",
        "  # Coloque seu codigo aqui\n",
        "\n",
        "  return theta_t, dtheta_t, ddtheta_t"
      ],
      "execution_count": null,
      "outputs": []
    },
    {
      "cell_type": "markdown",
      "metadata": {
        "id": "amRIj2OOOKM2"
      },
      "source": [
        "A função a seguir foi implementada na Tarefa 3 para calcular a sequencia no tempo de matrizes de transformação homogênea que representa a pose do robô (posição e orientação do efetuador)"
      ]
    },
    {
      "cell_type": "code",
      "metadata": {
        "id": "d4LVto0AOcWP"
      },
      "source": [
        "def calcular_traj_efetuador(robot, theta_t):\n",
        "  # Coloque seu codigo aqui\n",
        "\n",
        "return H_efetuador"
      ],
      "execution_count": null,
      "outputs": []
    },
    {
      "cell_type": "markdown",
      "source": [
        "## Cinemática Inversa do Robô Manipulador\n",
        "\n",
        "Na Tarefa 4 você implementou um código para calcular a trajetória no espaço das juntas do manipulador que executa uma trajetória fornecida no espaço cartesiano.\n",
        "\n",
        "Coloque o código implementado na Tarefa 4 para que possa ser usado dentro da seguinte função:\n",
        "\n",
        "**Entrada da função:** O modelo cinemático do robô Kinova Gen3 (resultado da Tarefa 2); a configuração inicial do robô (vetor $q_s$ de dimensão $N \\times 1$ de valores em graus para cada junta cada; a trajetória do efetuador dada por um vetor `np.array` de matrizes de transformação homogênea (dimensão $M \\times 4 \\times 4$), em que para cada instante de tempo, a matriz de transformação homogênea representa a pose do robô (posição e orientação do efetuador) (resultado da Tarefa 3.3).\n",
        "\n",
        "**Saída da função:** uma matriz $\\theta$ de dimensão $M \\times N$ que representa a trajetória das juntas que é solução da cinemática inversa para a trajetória do efetuador."
      ],
      "metadata": {
        "id": "MitWeD8oGMjy"
      }
    },
    {
      "cell_type": "code",
      "source": [
        "def calcular_cinematica_inversa(robot,q_s,HH_efetuador)\n",
        "  # Coloque seu codigo aqui desenvolvido na tarefa 4\n",
        "  # q_s = theta_s\n",
        "\n",
        "  return theta_t"
      ],
      "metadata": {
        "id": "lMv2PLKeJJt0"
      },
      "execution_count": null,
      "outputs": []
    },
    {
      "cell_type": "markdown",
      "metadata": {
        "id": "98NrriRZ1JX3"
      },
      "source": [
        "## Velocidade do Efetuador do Robô Manipulador\n",
        "\n",
        "Na tarefa 5 você implementou as seguintes funções para calcular o Jacobiano do manipulador:\n"
      ]
    },
    {
      "cell_type": "code",
      "metadata": {
        "id": "rSU3h3ynDJT7"
      },
      "source": [
        "def calcular_jacobiano(robot,theta):\n",
        "  # Coloque seu codigo aqui\n",
        "\n",
        "  return J_efetuador"
      ],
      "execution_count": null,
      "outputs": []
    },
    {
      "cell_type": "markdown",
      "metadata": {
        "id": "T90-9R_lECug"
      },
      "source": [
        "Na tarefa 5, você implementou uma função que calcula a velocidade do efetuador do manipulador Kinova Gen3 em relação a sua base $B$.\n",
        "\n",
        "O calculo das velocidades linear e angular do manipulador em relação ao sistema $\\{0\\}$ para um dado instante de tempo é:\n",
        "\n",
        "$$\\begin{bmatrix} ^0v_n(t) \\\\ ^0w_n(t) \\end{bmatrix} = {^0J_n}(q(t)) ~\\dot q(t) $$\n",
        "\n",
        "Como a origem do sistema de coordenadas $\\{0\\}$ e $\\{B\\}$ coincidem, para transformar o vetor de velocidades para o sistema de coordenadas da base $\\{B\\}$:\n",
        "\n",
        "$$ \\begin{bmatrix} ^Bv_n(t) \\\\ ^Bw_n(t) \\end{bmatrix} = \\begin{bmatrix} {^BR_0}^0v_n(t) \\\\ {^BR_0}^0w_n(t) \\end{bmatrix} $$\n",
        "\n"
      ]
    },
    {
      "cell_type": "code",
      "metadata": {
        "id": "TCpQrm-c7eMF"
      },
      "source": [
        "def calcular_vel_efetuador(robot,theta_t,dtheta_t):\n",
        "  # Coloque seu codigo aqui\n",
        "\n",
        "\n",
        "  return V_efetuador"
      ],
      "execution_count": null,
      "outputs": []
    },
    {
      "cell_type": "markdown",
      "metadata": {
        "id": "Vpbqdpnhn0Bv"
      },
      "source": [
        "## 6. Controle de Trajetória do Efetuador\n",
        "\n",
        "\n",
        "Nesta tarefa você irá implementar um conjunto de funções que possibilitam o controle do manipulador utilizando cada um dos três métodos apresentados na aula teórica.\n",
        "\n",
        "### 6.1 Controle do manipulador no espaço da junta\n",
        "\n",
        "O ``método 1'' de controle do efetuador realiza o planejamento e controle do manipulador no espaço das juntas.\n",
        "\n",
        "Considerando um configuração inicial do manipulador dada pelo vetor $q_s$ e uma configuração final do manipulador dada pelo vetor $q_g$, podemos considerar que esse método já foi implementado na tarefa 3 pela função:\n",
        "\n",
        "```\n",
        "theta_t, dtheta_t, ddtheta_t = calcular_trajetoria(q_s, q_g, Td, dt)\n",
        "```\n",
        "\n",
        "### 6.2 Descrição de uma trajetória reta no espaço cartesiano\n",
        "\n",
        "Os métodos 2 e 3 de controle do manipulador permitem fazer com que o efetuador realize uma trajetória específica no espaço cartesiano. Mas primeiro, é preciso planejar essa trajetória.\n",
        "\n",
        "Considere uma trajetória descrita por um seguimento de reta no espaço cartesiano que tem início no ponto 3D, $\\mathbf{^Bx_s} = [x_s, y_s, z_s]^T$, e término no ponto 3D, $\\mathbf{^Bx_g} = [x_g, y_g, z_g]^T$, ambos representados no sistema de coordenadas da base $\\{B\\}$. A velocidade linear do efetuador no inicio e fim da trajetória devem ser iguais a $0$.\n",
        "\n",
        "Quando a velocidade inicial e final do ponto é zero, a trajetória do ponto 3D a ser executada pode ser representada por um polinômio de quinta ordem no tempo:\n",
        "\n",
        "$$ \\mathbf{x} (t) = c_{0} + c_{1} t + c_{2} t^2 + c_{3} t^3 + c_{4} t^4 + c_{5} t^5 $$\n",
        "Para velocidades e acelerações iniciais e finais iguais a zero, os coeficientes do polinômio são dados em função da posição inicial e final e do intervalo de tempo $T_d$:\n",
        "\\begin{eqnarray*}\n",
        "\t&c_{0}& = \\mathbf{x_s}\\\\\n",
        "\t&c_{1}& = c_{2i} = 0\\\\\n",
        "\t&c_{3}& = \\frac{10(\\mathbf{x_g}-\\mathbf{x_s})}{T_d^{3}}\\\\\n",
        "\t&c_{4}& = \\frac{15(\\mathbf{x_s}-\\mathbf{x_g})}{T_d^{4}}\\\\\n",
        "\t&c_{5}& = \\frac{6(\\mathbf{x_g}-\\mathbf{x_s})}{T_d^{5}}\n",
        "\\end{eqnarray*}\n",
        "\n",
        "Observe que $\\mathbf{x_s}$ e $\\mathbf{x_g}$ tem dimensão $3 \\times 1$, e portanto, os coeficientes $c_0$, $c_1$, $c_2$, $c_3$, $c_4$, $c_5$ também possuem dimensão $3 \\times 1$.\n",
        "\n",
        "A velocidade linear do efetuador para condições iniciais nulas é dada por:\n",
        "$$ \\mathbf{\\dot  x} (t) = c_{1} + 2c_{2} t + 3c_{3} t^2 + 4c_{4} t^3 + 5c_{5} t^4 $$\n",
        "\n",
        "Importante ressaltar, que a trajetória de quinta ordem no espaço cartesianos não será uma reta quando as velocidades iniciais ou finais foram diferentes de zero.\n",
        "\n",
        "Nessa tarefa você irá considerar que a configuração inicial e final do robô foram dadas, ou seja, $\\mathbf{q_s}$ e $\\mathbf{q_g}$. Então, utilizando a função `pose_efetuador(robot, q)`, você irá obter a posição cartesana inicial $\\mathbf{x_s}$ e posição cartesiana final $\\mathbf{x_g}$ do efetuador em relação a base. Então, você irá planejar uma reta no espaço cartesiano que começa em $\\mathbf{x_s}$ e termina em $\\mathbf{x_g}$ com velocidade inicial e final iguais a zero.\n",
        "\n",
        "Complete o código a seguir para implementar uma função que retorna os pontos $\\mathbf{x}(t)$ da trajetória do efetuador e as velocidades lineares do efetuador $\\mathbf{\\dot x}(t)$.\n",
        "\n",
        "\n"
      ]
    },
    {
      "cell_type": "code",
      "metadata": {
        "id": "E3FOXqfwvhRz"
      },
      "source": [
        "def calcular_trajetoria_cartesiano(robot, theta_s, theta_g, Td, dt):\n",
        "  # Coloque seu codigo aqui\n",
        "\n",
        "\n",
        "  return x_t, dx_t"
      ],
      "execution_count": null,
      "outputs": []
    },
    {
      "cell_type": "markdown",
      "metadata": {
        "id": "1T-sqsP08OPy"
      },
      "source": [
        "Complete o código a seguir para implementar uma função que plota a trajetória no espaço cartesiano 3D. Como referência consulte o [exemplo da biblioteca do matplotlib](https://matplotlib.org/stable/gallery/mplot3d/lines3d.html).\n",
        "\n",
        "Em uma segunda figura, plote cada componente da trajetória em função do tempo: $x(t)$, $y(t)$, e $z(t)$.\n"
      ]
    },
    {
      "cell_type": "code",
      "metadata": {
        "id": "7TIu6ABp8cPW"
      },
      "source": [
        "def plotar_trajetoria_cartesiano(x_t, Td, dt)\n",
        "  # Coloque seu codigo aqui\n"
      ],
      "execution_count": null,
      "outputs": []
    },
    {
      "cell_type": "markdown",
      "metadata": {
        "id": "ThMJ-VX-8j3X"
      },
      "source": [
        "### 6.3 Conversão de trajetória no espaço cartesiano para espaço das juntas através da cinemática inversa\n",
        "\n",
        "No ``método 2'' de controle do manipulador, a cinemática inversa é aplicada para todos os pontos da trajetória cartesiana $\\mathbf{x}(t)$.\n",
        "\n",
        "Entretanto, para o manipulador redundante, para uma dada posição do efetuador, existem múltiplas configurações possíveis (soluções válidas da cinemática inversa).\n",
        "\n",
        "Nessa estratégia de controle você poderá assumir que a configuração inicial do manipulador, $q_s$, foi dada. Esta configuração corresponde a posição inicial do efetuado $x_s$.\n",
        "\n",
        "Então, você irá aplicar a função que calcula a cinemática inversa implementada na tarefa 4:\n",
        "\n",
        "```\n",
        "theta_t = calcular_cinematica_inversa(robot,q_s,HH_efetuador)\n",
        "```\n",
        "\n",
        "### 6.4 Conversão de trajetória no espaço cartesiano para espaço das juntas através da pseudo-inversa do Jacobiano\n",
        "\n",
        "No ``método 3'' de controle do manipulador a pseudo-inversa do Jacobiano é utilizada para converter a trajetória no espaço cartesiano para uma trajetória no espaço das juntas.\n",
        "\n",
        "Entretanto, esse método não é adequado quando a trajetória passa próximo de um ponto de singularidade. Próximo da singulariade, o valor da pseudo-inversa do Jacobinado é muito alto, o que resultaria em uma velocidade de juntas também muito alta.\n",
        "\n",
        "O número de condicionamento de um função (condition number) mede quanto o valor de saída é alterado por uma pequena variação na entrada. Aplicado a matriz, quando o determinante da matriz é zero, o número de condicionamento é infinito.\n",
        "\n",
        "No ``método 3'' para controle de trajetória de robôs manipuladores, deve-se evitar trajetórias que passam próximo de configurações singulares, onde o determinante da matriz Jacobiano é zero. Ao invés de verificar ao longo da trajetória o determinante do Jacobiano, iremos verificar o número de condicionamento que pode ser utilizado para matrizes não quadradas:\n",
        "\n",
        "`c = np.linalg.cond(matriz)`\n",
        "\n",
        "Se o número de condicionamento do Jacobiano de velocidade linear $cond(J_v)$ for menor que um limiar, ou seja, $cond(J_v) < J_{max}$, então o ponto está suficientemente longe da singularidade, e podemos calcular a pseudo-inversa $J_v^{-1}$.\n",
        "\n",
        "Então, para construir a trajetória no espaço das juntas:\n",
        "\n",
        "$$ \\mathbf{q}(0) = \\mathbf{q_s}$$\n",
        "\n",
        "Para $t = 0 \\ldots (T_d-dt)$:\n",
        "\n",
        "$$c_J(t) = cond(J_v(\\mathbf{q}(t)))$$\n",
        "$$\\mathbf{\\dot q}(t) = ({^0J_v}(\\mathbf{q}(t)))^{-1} [{^0R_B} {^B\\mathbf{\\dot x}}(t)] $$\n",
        "$$\\delta \\mathbf{q} = ({^0J_v}(\\mathbf{q}(t)))^{-1} [{^0R_B}[\\mathbf{x}(t+dt) - \\mathbf{x}(t)]]$$\n",
        "$$\\mathbf{q}(t+dt) = \\mathbf{q}(t) + \\delta \\mathbf{q}$$\n",
        "\n",
        "Tarefa: Implementar a seguinte função de conversão que retorna uma matriz com as configurações do robô para cada instante de tempo. Não se preocupe, se a configuração final da trajetória não for a mesma que $q_g$. O importante é que a posição cartesiana final do efetuador seja igual a posição cartesiana final desejada."
      ]
    },
    {
      "cell_type": "code",
      "metadata": {
        "id": "jCObjyLtAuIB"
      },
      "source": [
        "def trajetoria_cartesiano_para_juntas(robot,q_s, q_g, x_t, dx_t, Td, dt, J_min)\n",
        "  # Coloque seu codigo aqu\n",
        "\n",
        "\n",
        "return q_t, dq_t, cJ_t"
      ],
      "execution_count": null,
      "outputs": []
    },
    {
      "cell_type": "markdown",
      "metadata": {
        "id": "j8hYQovrOvtO"
      },
      "source": [
        "###6.5 Plotar Resultado\n",
        "\n",
        "Para verificar se a trajetória controlada está correta, podemos converter a trajetória no espaço das juntas que foi resultado da funcão `trajetoria_cartesiano_para_juntas` em trajetória no espaço cartesiano, e plotar essa trajetória."
      ]
    },
    {
      "cell_type": "code",
      "metadata": {
        "id": "22Ns6NR7Vccl"
      },
      "source": [
        "def plotar_trajetoria_cartesiano_resultado(robo, q_t, dt, Td)\n",
        "  # Converter através da função 'pose_efetuador' a trajetoria no espaço das juntas para trajetória do efetuador no espaço cartesiano\n",
        "\n",
        "  # Plotar a trajetória no espaço cartesiano usando a função 'plotar_trajetoria_cartesiano'\n"
      ],
      "execution_count": null,
      "outputs": []
    },
    {
      "cell_type": "markdown",
      "metadata": {
        "id": "WMhIP-YXBzej"
      },
      "source": [
        "### 6.6 Teste das funções implementadas\n",
        "\n",
        "Escolha uma configuração inicial $\\mathbf{q_s}$ e final para o robô $\\mathbf{q_g}$ de forma que não exista pontos de singularidade ao longo da trajetória reta entre as configuracões. Escolha também um valor de $T_d$ e $dt$.\n",
        "\n",
        "Teste as funções implementadas em 6.1, 6.3 e 6.4 para os valores escolhidos, e plote para cada um dos métodos um gráfico com a trajetória 3D do efetuador no espaço cartesiano, e um gráfico com a trajetória no espaço das juntas do manipulador."
      ]
    },
    {
      "cell_type": "code",
      "source": [
        "# Teste do método 1\n"
      ],
      "metadata": {
        "id": "yTFcnzS6CfVx"
      },
      "execution_count": null,
      "outputs": []
    },
    {
      "cell_type": "code",
      "source": [
        "# Teste do método 2\n"
      ],
      "metadata": {
        "id": "3j9EUAG7CfM6"
      },
      "execution_count": null,
      "outputs": []
    },
    {
      "cell_type": "code",
      "source": [
        "# Teste do método 3\n"
      ],
      "metadata": {
        "id": "U_ZNAW2zCe4U"
      },
      "execution_count": null,
      "outputs": []
    },
    {
      "cell_type": "markdown",
      "source": [
        "### 6.7 Teste das funções implementadas no simulador CoppeliaSim\n",
        "\n",
        "Veja no moodle o download disponivel para testar o controle no simulador CoppeliaSim.\n",
        "\n",
        "Leia o arquivo README.txt com as instruções para o teste.\n",
        "\n",
        "Para cada um dos métodos, modifique o arquivo arquivo `kinova_control.py` para implementar o teste daquele método e salve cada um dos testes em três arquivos diferentes:\n",
        "\n",
        "`kinova_control_metodo1.py`\n",
        "\n",
        "`kinova_control_metodo2.py`\n",
        "\n",
        "`kinova_control_metodo3.py`\n",
        "\n"
      ],
      "metadata": {
        "id": "xg0GRQi0JAG1"
      }
    }
  ]
}