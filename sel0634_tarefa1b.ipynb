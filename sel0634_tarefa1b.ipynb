{
  "nbformat": 4,
  "nbformat_minor": 0,
  "metadata": {
    "colab": {
      "provenance": [],
      "authorship_tag": "ABX9TyMr97Lts7HV9XGyntR3afwa",
      "include_colab_link": true
    },
    "kernelspec": {
      "name": "python3",
      "display_name": "Python 3"
    },
    "language_info": {
      "name": "python"
    }
  },
  "cells": [
    {
      "cell_type": "markdown",
      "metadata": {
        "id": "view-in-github",
        "colab_type": "text"
      },
      "source": [
        "<a href=\"https://colab.research.google.com/github/vgrassi/sel0634/blob/main/sel0634_tarefa1b.ipynb\" target=\"_parent\"><img src=\"https://colab.research.google.com/assets/colab-badge.svg\" alt=\"Open In Colab\"/></a>"
      ]
    },
    {
      "cell_type": "markdown",
      "metadata": {
        "id": "nuDol0unsssM"
      },
      "source": [
        "# SEL0634 - Laboratório de Robôs Manipuladores\n",
        "\n",
        "## Inicialização da biblioteca "
      ]
    },
    {
      "cell_type": "code",
      "metadata": {
        "id": "H-Gtatq9sXD5"
      },
      "source": [
        "!pip install spatialmath-python"
      ],
      "execution_count": null,
      "outputs": []
    },
    {
      "cell_type": "code",
      "metadata": {
        "id": "KYWe8C3It-h_"
      },
      "source": [
        "import numpy as np\n",
        "from spatialmath import *\n",
        "from math import pi\n",
        "\n",
        "import matplotlib.pyplot as plt\n",
        "# no Binder utilizar essa linha\n",
        "# %matplotlib notebook  \n",
        "# no Colab utilizar essa linha\n",
        "%matplotlib inline  \n"
      ],
      "execution_count": null,
      "outputs": []
    },
    {
      "cell_type": "markdown",
      "metadata": {
        "id": "Rmefwd7uuHpi"
      },
      "source": [
        "## Tarefa 1 - Sequencia de Rotações e Translações Aplicadas em um Cubo\n",
        "\n",
        "### Desenhar cubo na posição inicial\n",
        "\n",
        "Considere a seguinte função para desenhar os vértices de um cubo:"
      ]
    },
    {
      "cell_type": "code",
      "metadata": {
        "id": "gJgtsOmAu5f5"
      },
      "source": [
        "def plot_cubo_grafico(cubo,grafico):\n",
        "  grafico.scatter(xs=cubo[0], ys=cubo[1], zs=cubo[2], s=20)  # draw vertices\n",
        "  # draw lines joining the vertices\n",
        "  lines = [[0,1,5,6], [1,2,6,7], [2,3,7,4], [3,0,4,5]]\n",
        "  for line in lines:\n",
        "      grafico.plot([cubo[0,i] for i in line], [cubo[1,i] for i in line], [cubo[2,i] for i in line])\n",
        "\n",
        "def plot_cubo(cubo,T):\n",
        "  fig = plt.figure()\n",
        "  SE3().plot(frame='0', dims=[-2,3,0,5,0,5], color='black')\n",
        "  T.plot(frame='1', dims=[-2,3,0,5,0,5], color='blue')\n",
        "  grafico = plt.gca()\n",
        "  plot_cubo_grafico(cubo,grafico)"
      ],
      "execution_count": null,
      "outputs": []
    },
    {
      "cell_type": "markdown",
      "metadata": {
        "id": "kTXoActsvBYN"
      },
      "source": [
        "Considere que na posição inicial, o cubo possui vértices $^0P_i$ posicionados  em relação ao sistema inercial $\\{0\\}$ nas seguintes coordenadas:"
      ]
    },
    {
      "cell_type": "code",
      "metadata": {
        "id": "3zanPRSAvSQw"
      },
      "source": [
        "P = np.array([[0, 2, 2, 0, 0, 2, 2, 0], [0, 0, 2, 2, 0, 0, 2, 2], [0, 0, 0, 0, 2, 2, 2, 2]])\n",
        "P"
      ],
      "execution_count": null,
      "outputs": []
    },
    {
      "cell_type": "markdown",
      "metadata": {
        "id": "sAqRBY_LvcDl"
      },
      "source": [
        "Para plotar o cubo:"
      ]
    },
    {
      "cell_type": "code",
      "metadata": {
        "id": "7YZtHgEsv-eo"
      },
      "source": [
        "T = SE3()\n",
        "plot_cubo(P,T)"
      ],
      "execution_count": null,
      "outputs": []
    },
    {
      "cell_type": "markdown",
      "source": [
        "### Representando Pose\n",
        "\n",
        "Uma matriz de transformação homogênea representa um movimento de translação 3D e rotação 3D, que definem a pose de um sistema de coordendas. \n",
        "\n",
        "Na biblioteca, um movimento rígido 3D que representa a pose de um sistema de coordenadas, pode ser composto por uma translação pura seguida de uma rotação pura:"
      ],
      "metadata": {
        "id": "qf-cvH1PcuXk"
      }
    },
    {
      "cell_type": "code",
      "source": [
        "T1 = SE3(1, 2, 0)* SE3.Rz(45, 'deg')\n",
        "T1"
      ],
      "metadata": {
        "id": "wXiVD6Qqc9jT"
      },
      "execution_count": null,
      "outputs": []
    },
    {
      "cell_type": "markdown",
      "source": [
        "### Primeira transformação - Exemplo\n",
        "\n",
        "Se aplicarmos esta transformação ao cubo, a pose do cubo após esta transformação será:"
      ],
      "metadata": {
        "id": "cNsRxl8YdDYi"
      }
    },
    {
      "cell_type": "code",
      "source": [
        "P1 = T1*P\n",
        "plot_cubo(P1,T1)"
      ],
      "metadata": {
        "id": "OTzm0WvCdUjf"
      },
      "execution_count": null,
      "outputs": []
    },
    {
      "cell_type": "markdown",
      "metadata": {
        "id": "G_XhMekylHVc"
      },
      "source": [
        "### Segunda transformação\n",
        "\n",
        "Após o movimento representado pela a primeira transformação, $T_1$, considere que o cubo sofreu um movimento de translação $d_2 = [1,0,0]^T$ em relação ao sistema de coordenadas fixo no cubo.   \n",
        "\n",
        "Defina a matriz de transformação homogênea que representa a pose atual do cubo $T_2$:"
      ]
    },
    {
      "cell_type": "code",
      "source": [
        "#########################\n",
        "# Coloque seu código aqui\n",
        "T2 = \n",
        "T2"
      ],
      "metadata": {
        "id": "fRdYEw1Pf3BF"
      },
      "execution_count": null,
      "outputs": []
    },
    {
      "cell_type": "markdown",
      "source": [
        "Mostre o cubo nesta nova pose. "
      ],
      "metadata": {
        "id": "i5OyTBBsf3d6"
      }
    },
    {
      "cell_type": "code",
      "metadata": {
        "id": "h_-GbiZtl0S_"
      },
      "source": [
        "#########################\n",
        "# Coloque seu código aqui\n",
        "P2 = \n",
        "\n",
        "#########################\n",
        "plot_cubo(P2,T2)"
      ],
      "execution_count": null,
      "outputs": []
    },
    {
      "cell_type": "markdown",
      "metadata": {
        "id": "qhQBaEZQl4Xr"
      },
      "source": [
        "### Terceira transformação\n",
        "\n",
        "Após a segunda transformação, considere que o cubo sofreu um movimento de rotação de $45^o$ em torno do eixo $z$ do sistema de coordenadas fixo no cubo.\n",
        "\n",
        "Defina a matriz de transformação homogênea que representa a pose atual do cubo $T_3$, e mostre o cubo nesta pose:\n",
        "\n",
        "\n"
      ]
    },
    {
      "cell_type": "code",
      "metadata": {
        "id": "j2wvgy8onvvP"
      },
      "source": [
        "#########################\n",
        "# Coloque seu código aqui\n",
        "T3 = \n",
        "P3 = "
      ],
      "execution_count": null,
      "outputs": []
    },
    {
      "cell_type": "code",
      "source": [
        "########################\n",
        "plot_cubo(P3,T3)"
      ],
      "metadata": {
        "id": "MLzeJcdBhAGW"
      },
      "execution_count": null,
      "outputs": []
    },
    {
      "cell_type": "markdown",
      "metadata": {
        "id": "li8lMyPPnyNy"
      },
      "source": [
        "### Quarta transformação\n",
        "\n",
        "Após a terceira transformação, suponha que o cubo sofreu um movimento de translação de $d4=[-3,-1,0]^T$ definido em relação ao sistema inercial $\\{0\\}$. \n",
        "\n",
        "Defina a matriz de transformação homogênea que representa a pose atual do cubo $T_4$, e mostre o cubo nesta pose:\n"
      ]
    },
    {
      "cell_type": "code",
      "metadata": {
        "id": "rYNp2lmMoAho"
      },
      "source": [
        "#########################\n",
        "# Coloque seu código aqui\n",
        "T4 = \n",
        "P4 = \n",
        "\n",
        "#########################\n",
        "plot_cubo(P4,T4)"
      ],
      "execution_count": null,
      "outputs": []
    },
    {
      "cell_type": "markdown",
      "source": [
        "### Quinta transformação\n",
        "\n",
        "Após a quarta transformação, suponha que o cubo sofreu um movimento de rotação de $90^o$ em torno do eixo $x$ do sistema inercial $\\{0\\}$. \n",
        "\n",
        "Defina a matriz de transformação homogênea que representa a pose atual do cubo $T_5$, e mostre o cubo nesta pose:"
      ],
      "metadata": {
        "id": "yvuXvP46hsAb"
      }
    },
    {
      "cell_type": "code",
      "source": [
        "#########################\n",
        "# Coloque seu código aqui\n",
        "T5 = \n",
        "P5 = \n",
        "\n",
        "#########################\n",
        "plot_cubo(P5,T5)"
      ],
      "metadata": {
        "id": "E8Hl1wj4ly5B"
      },
      "execution_count": null,
      "outputs": []
    },
    {
      "cell_type": "markdown",
      "source": [
        "Comente sobre o resultado obtido. O que aconteceu com a origem e orientação do sistema de coordenadas fixo no cubo após a quinta transformação?\n",
        "\n",
        "Resposta: <colocar sua resposta aqui>"
      ],
      "metadata": {
        "id": "jWaek44RnFaa"
      }
    },
    {
      "cell_type": "markdown",
      "metadata": {
        "id": "jIMQyEwhoEHY"
      },
      "source": [
        "### Matrizes de Transformação Homogênea\n",
        "\n",
        "As matrizes de transformação homogênea definidas são: "
      ]
    },
    {
      "cell_type": "code",
      "metadata": {
        "id": "QScGaJ1CoVRg"
      },
      "source": [
        "# Execute os blocos de código a seguir para mostrar as matrizes de transformação homogênea:\n",
        "T1"
      ],
      "execution_count": null,
      "outputs": []
    },
    {
      "cell_type": "code",
      "source": [
        "T2"
      ],
      "metadata": {
        "id": "dn9mmzuJmrsa"
      },
      "execution_count": null,
      "outputs": []
    },
    {
      "cell_type": "code",
      "source": [
        "T3"
      ],
      "metadata": {
        "id": "Q2GmetZims74"
      },
      "execution_count": null,
      "outputs": []
    },
    {
      "cell_type": "code",
      "source": [
        "T4"
      ],
      "metadata": {
        "id": "0ySMCAPumtuI"
      },
      "execution_count": null,
      "outputs": []
    },
    {
      "cell_type": "code",
      "source": [
        "T5"
      ],
      "metadata": {
        "id": "RlgPMNE2mu6S"
      },
      "execution_count": null,
      "outputs": []
    }
  ]
}