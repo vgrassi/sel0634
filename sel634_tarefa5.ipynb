{
  "nbformat": 4,
  "nbformat_minor": 0,
  "metadata": {
    "colab": {
      "name": "sel634_tarefa5.ipynb",
      "provenance": [],
      "authorship_tag": "ABX9TyPJ/0E4Ef2AaPFXFMpK6hMR"
    },
    "kernelspec": {
      "name": "python3",
      "display_name": "Python 3"
    },
    "language_info": {
      "name": "python"
    }
  },
  "cells": [
    {
      "cell_type": "markdown",
      "metadata": {
        "id": "RfOcPjB5LeQA"
      },
      "source": [
        "# SEL634 - Laboratório de Robôs Manipuladores\n",
        "\n",
        "## Inicialização da biblioteca\n",
        "\n",
        "Carregar a biblioteca de robótica para Python:"
      ]
    },
    {
      "cell_type": "code",
      "metadata": {
        "id": "byi8G6BxLXK7",
        "colab": {
          "base_uri": "https://localhost:8080/"
        },
        "outputId": "95a2dd66-e6d7-44ae-b69c-d356169367cd"
      },
      "source": [
        "!python3 -m pip install --user --upgrade pip==20.1\n",
        "!pip install roboticstoolbox-python\n",
        "!pip install spatialmath-python"
      ],
      "execution_count": null,
      "outputs": [
        {
          "output_type": "stream",
          "text": [
            "Requirement already up-to-date: pip==20.1 in /root/.local/lib/python3.7/site-packages (20.1)\n",
            "WARNING: pip is being invoked by an old script wrapper. This will fail in a future version of pip.\n",
            "Please see https://github.com/pypa/pip/issues/5599 for advice on fixing the underlying issue.\n",
            "To avoid this problem you can invoke Python with '-m pip' instead of running pip directly.\n",
            "Requirement already satisfied: roboticstoolbox-python in /usr/local/lib/python3.7/dist-packages (0.10.1)\n",
            "Requirement already satisfied: spatialgeometry>=0.1.2 in /usr/local/lib/python3.7/dist-packages (from roboticstoolbox-python) (0.1.2)\n",
            "Requirement already satisfied: matplotlib in /usr/local/lib/python3.7/dist-packages (from roboticstoolbox-python) (3.2.2)\n",
            "Requirement already satisfied: pgraph-python in /usr/local/lib/python3.7/dist-packages (from roboticstoolbox-python) (0.6.1)\n",
            "Requirement already satisfied: numpy>=1.18.0 in /usr/local/lib/python3.7/dist-packages (from roboticstoolbox-python) (1.19.5)\n",
            "Requirement already satisfied: qpsolvers in /usr/local/lib/python3.7/dist-packages (from roboticstoolbox-python) (1.6.1)\n",
            "Requirement already satisfied: swift-sim>=0.9.5 in /usr/local/lib/python3.7/dist-packages (from roboticstoolbox-python) (0.9.6)\n",
            "Requirement already satisfied: ansitable in /usr/local/lib/python3.7/dist-packages (from roboticstoolbox-python) (0.9.6)\n",
            "Requirement already satisfied: rtb-data in /usr/local/lib/python3.7/dist-packages (from roboticstoolbox-python) (0.9.1)\n",
            "Requirement already satisfied: spatialmath-python>=0.9.6 in /usr/local/lib/python3.7/dist-packages (from roboticstoolbox-python) (0.9.7)\n",
            "Requirement already satisfied: scipy in /usr/local/lib/python3.7/dist-packages (from roboticstoolbox-python) (1.4.1)\n",
            "Requirement already satisfied: cycler>=0.10 in /usr/local/lib/python3.7/dist-packages (from matplotlib->roboticstoolbox-python) (0.10.0)\n",
            "Requirement already satisfied: python-dateutil>=2.1 in /usr/local/lib/python3.7/dist-packages (from matplotlib->roboticstoolbox-python) (2.8.1)\n",
            "Requirement already satisfied: pyparsing!=2.0.4,!=2.1.2,!=2.1.6,>=2.0.1 in /usr/local/lib/python3.7/dist-packages (from matplotlib->roboticstoolbox-python) (2.4.7)\n",
            "Requirement already satisfied: kiwisolver>=1.0.1 in /usr/local/lib/python3.7/dist-packages (from matplotlib->roboticstoolbox-python) (1.3.1)\n",
            "Requirement already satisfied: quadprog>=0.1.8 in /usr/local/lib/python3.7/dist-packages (from qpsolvers->roboticstoolbox-python) (0.1.8)\n",
            "Requirement already satisfied: websockets in /usr/local/lib/python3.7/dist-packages (from swift-sim>=0.9.5->roboticstoolbox-python) (9.1)\n",
            "Requirement already satisfied: colored in /usr/local/lib/python3.7/dist-packages (from ansitable->roboticstoolbox-python) (1.4.2)\n",
            "Requirement already satisfied: six in /usr/local/lib/python3.7/dist-packages (from cycler>=0.10->matplotlib->roboticstoolbox-python) (1.15.0)\n",
            "Requirement already satisfied: Cython in /usr/local/lib/python3.7/dist-packages (from quadprog>=0.1.8->qpsolvers->roboticstoolbox-python) (0.29.23)\n",
            "WARNING: pip is being invoked by an old script wrapper. This will fail in a future version of pip.\n",
            "Please see https://github.com/pypa/pip/issues/5599 for advice on fixing the underlying issue.\n",
            "To avoid this problem you can invoke Python with '-m pip' instead of running pip directly.\n",
            "Requirement already satisfied: spatialmath-python in /usr/local/lib/python3.7/dist-packages (0.9.7)\n",
            "Requirement already satisfied: matplotlib in /usr/local/lib/python3.7/dist-packages (from spatialmath-python) (3.2.2)\n",
            "Requirement already satisfied: colored in /usr/local/lib/python3.7/dist-packages (from spatialmath-python) (1.4.2)\n",
            "Requirement already satisfied: scipy in /usr/local/lib/python3.7/dist-packages (from spatialmath-python) (1.4.1)\n",
            "Requirement already satisfied: numpy in /usr/local/lib/python3.7/dist-packages (from spatialmath-python) (1.19.5)\n",
            "Requirement already satisfied: ansitable in /usr/local/lib/python3.7/dist-packages (from spatialmath-python) (0.9.6)\n",
            "Requirement already satisfied: kiwisolver>=1.0.1 in /usr/local/lib/python3.7/dist-packages (from matplotlib->spatialmath-python) (1.3.1)\n",
            "Requirement already satisfied: cycler>=0.10 in /usr/local/lib/python3.7/dist-packages (from matplotlib->spatialmath-python) (0.10.0)\n",
            "Requirement already satisfied: pyparsing!=2.0.4,!=2.1.2,!=2.1.6,>=2.0.1 in /usr/local/lib/python3.7/dist-packages (from matplotlib->spatialmath-python) (2.4.7)\n",
            "Requirement already satisfied: python-dateutil>=2.1 in /usr/local/lib/python3.7/dist-packages (from matplotlib->spatialmath-python) (2.8.1)\n",
            "Requirement already satisfied: six in /usr/local/lib/python3.7/dist-packages (from cycler>=0.10->matplotlib->spatialmath-python) (1.15.0)\n"
          ],
          "name": "stdout"
        }
      ]
    },
    {
      "cell_type": "code",
      "metadata": {
        "id": "GhTb1eOALjKe"
      },
      "source": [
        "import numpy as np\n",
        "#import roboticstoolbox as rtb\n",
        "from roboticstoolbox import *\n",
        "from spatialmath import *\n",
        "from math import pi\n",
        "import matplotlib.pyplot as plt\n",
        "from matplotlib import cm\n",
        "np.set_printoptions(linewidth=100, formatter={'float': lambda x: f\"{x:8.4g}\" if abs(x) > 1e-10 else f\"{0:8.4g}\"})\n",
        "\n",
        "# no Binder utilizar essa linha\n",
        "%matplotlib notebook  \n",
        "# no Colab utilizar essa linha\n",
        "# %matplotlib inline"
      ],
      "execution_count": null,
      "outputs": []
    },
    {
      "cell_type": "markdown",
      "metadata": {
        "id": "76NHqE5ELmAl"
      },
      "source": [
        "## Cinemática Direta do Robô Kinova Gen3\n",
        "\n",
        "O robô Kinova Gen3 pode ser modelado pela seguinte função (ver Tarefa 2):"
      ]
    },
    {
      "cell_type": "code",
      "metadata": {
        "id": "PE8CpE4eMA3K"
      },
      "source": [
        "def kinova_robot(my_name):\n",
        "  robot = DHRobot(\n",
        "      [\n",
        "       # Colocar seu código aqui para completar a descrição do robô\n",
        "       ], name=my_name)\n",
        "  return robot\n"
      ],
      "execution_count": null,
      "outputs": []
    },
    {
      "cell_type": "markdown",
      "metadata": {
        "id": "gtjvxjQsMJ6P"
      },
      "source": [
        "A pose do efetuador do robô Kinova Gen3 é dada em relação a base, $B$, pela função:"
      ]
    },
    {
      "cell_type": "code",
      "metadata": {
        "id": "vRK0cR_TMQFO"
      },
      "source": [
        "def pose_efetuador(robot, q):\n",
        "  H_B0 = SE3.Rz(0)*SE3(0,0,0)*SE3(0,0,0)*SE3.Rx(pi)\n",
        "  H_07 = robot.fkine(q)\n",
        "  return H_B0*H_07"
      ],
      "execution_count": null,
      "outputs": []
    },
    {
      "cell_type": "markdown",
      "metadata": {
        "id": "I2hWmRQG0GNQ"
      },
      "source": [
        "## Trajetória do Robô no Espaço das Juntas\n",
        "\n",
        "Considere que a junta $i$ possui a seguinte trajetória  em graus no tempo que leva a junta $i$ da posição $\\theta_{si}$ até $\\theta_{gi}$ em um dado tempo $T_d$:\n",
        "$$ \\theta_i (t) = c_{0i} + c_{1i} t + c_{2i} t^2 + c_{3i} t^3 + c_{4i} t^4 + c_{5i} t^5 $$\n",
        "Para velocidades e acelerações iniciais e finais iguais a zero, os coeficientes do polinômio são dados em função da posição inicial e final e do intervalo de tempo:\n",
        "\\begin{eqnarray*}\n",
        "\t&c_{0i}& = \\theta_{si}\\\\\n",
        "\t&c_{1i}& = c_{2i} = 0\\\\\n",
        "\t&c_{3i}& = \\frac{10(\\theta_{gi}-\\theta_{si})}{T_d^{3}}\\\\\n",
        "\t&c_{4i}& = \\frac{15(\\theta_{si}-\\theta_{gi})}{T_d^{4}}\\\\\n",
        "\t&c_{5i}& = \\frac{6(\\theta_{gi}-\\theta_{si})}{T_d^{5}}\n",
        "\\end{eqnarray*}\n",
        "\n",
        "A velocidade de cada junta para condições iniciais nulas é dada por:\n",
        "$$ \\dot\\theta_i (t) = c_{1i} + 2c_{2i} t + 3c_{3i} t^2 + 4c_{4i} t^3 + 5c_{5i} t^4 $$\n",
        "\n",
        "A aceleração de cada junta para condições iniciais nulas é dada por:\n",
        "$$ \\ddot\\theta_i (t) = 2c_{2i} + 6c_{3i} t + 12c_{4i} t^2 + 20c_{5i} t^3 $$\n",
        "\n",
        "A função a seguir foi implementada na Tarefa 3 para calcular a trajetória das juntas do manipulador:\n"
      ]
    },
    {
      "cell_type": "code",
      "metadata": {
        "id": "dDkgxSqhNUP3"
      },
      "source": [
        "def calcular_trajetoria(theta_s, theta_g, Td, dt):\n",
        "  # Coloque seu codigo aqui\n",
        "\n",
        "  return theta_t, dtheta_t, ddtheta_t"
      ],
      "execution_count": null,
      "outputs": []
    },
    {
      "cell_type": "markdown",
      "metadata": {
        "id": "amRIj2OOOKM2"
      },
      "source": [
        "A função a seguir foi implementada na Tarefa 3 para calcular a sequencia no tempo de matrizes de transformação homogênea que representa a pose do robô (posição e orientação do efetuador)"
      ]
    },
    {
      "cell_type": "code",
      "metadata": {
        "id": "d4LVto0AOcWP"
      },
      "source": [
        "def calcular_traj_efetuador(robot, theta_t):\n",
        "  # Coloque seu codigo aqui\n",
        "\n",
        "return H_efetuador"
      ],
      "execution_count": null,
      "outputs": []
    },
    {
      "cell_type": "markdown",
      "metadata": {
        "id": "98NrriRZ1JX3"
      },
      "source": [
        "## Velocidade do Efetuador do Robô Manipulador\n",
        "\n",
        "Na tarefa 4 você implementou as seguintes funções para calcular o Jacobiano do manipulador: \n"
      ]
    },
    {
      "cell_type": "code",
      "metadata": {
        "id": "rSU3h3ynDJT7"
      },
      "source": [
        "def calcular_jacobiano(robot,theta):\n",
        "  # Coloque seu codigo aqui\n",
        "\n",
        "  return J_efetuador"
      ],
      "execution_count": null,
      "outputs": []
    },
    {
      "cell_type": "markdown",
      "metadata": {
        "id": "T90-9R_lECug"
      },
      "source": [
        "Na tarefa 4, você implementou uma função que calcula a velocidade do efetuador do manipulador Kinova Gen3 em relação a sua base $B$.\n",
        "\n",
        "O calculo das velocidades linear e angular do manipulador em relação ao sistema $\\{0\\}$ para um dado instante de tempo é:\n",
        "\n",
        "$$\\begin{bmatrix} ^0v_n(t) \\\\ ^0w_n(t) \\end{bmatrix} = {^0J_n}(q(t)) ~\\dot q(t) $$\n",
        "\n",
        "Como a origem do sistema de coordenadas $\\{0\\}$ e $\\{B\\}$ coincidem, para transformar o vetor de velocidades para o sistema de coordenadas da base $\\{B\\}$:\n",
        "\n",
        "$$ \\begin{bmatrix} ^Bv_n(t) \\\\ ^Bw_n(t) \\end{bmatrix} = {^BR_0}\\begin{bmatrix} ^Bv_n(t) \\\\ ^Bw_n(t) \\end{bmatrix} $$\n",
        "\n"
      ]
    },
    {
      "cell_type": "code",
      "metadata": {
        "id": "TCpQrm-c7eMF"
      },
      "source": [
        "def calcular_vel_efetuador(robot,theta_t,dtheta_t):\n",
        "  # Coloque seu codigo aqui\n",
        "\n",
        "\n",
        "  return V_efetuador"
      ],
      "execution_count": null,
      "outputs": []
    },
    {
      "cell_type": "markdown",
      "metadata": {
        "id": "Vpbqdpnhn0Bv"
      },
      "source": [
        "## 5. Controle de Trajetória do Efetuador no Espaço Cartesiano\n",
        "\n",
        "**Aviso:** Esta é uma versão preliminar do documento que está sujeita a revisão. Estou procurando deixar a descrição desta tarefa mais clara e completa.\n",
        "\n",
        "Nesta tarefa você irá implementar um conjunto de funções que possibilitam o controle da posição do efetuador no espaço cartesiano. Isso permite que o efetuador possa descrever uma trajetória reta no espaço 3D cartesiano.\n",
        "\n",
        "### 5.1 Descrição de uma trajetória reta no espaço cartesiano\n",
        "\n",
        "Considere uma trajetória descrita por um seguimento de reta no espaço cartesiano que tem início no ponto 3D, $\\mathbf{^Bx_s} = [x_s, y_s, z_s]^T$, e término no ponto 3D, $\\mathbf{^Bx_g} = [x_g, y_g, z_g]^T$, ambos representados no sistema de coordenadas da base $\\{B\\}$. A velocidade linear do efetuador no inicio e fim da trajetória devem ser iguais a $0$. \n",
        "\n",
        "Quando a velocidade inicial e final do ponto é zero, a trajetória do ponto 3D a ser executada pode ser representada por um polinômio de quinta ordem no tempo:\n",
        "\n",
        "$$ \\mathbf{x} (t) = c_{0} + c_{1} t + c_{2} t^2 + c_{3} t^3 + c_{4} t^4 + c_{5} t^5 $$\n",
        "Para velocidades e acelerações iniciais e finais iguais a zero, os coeficientes do polinômio são dados em função da posição inicial e final e do intervalo de tempo $T_d$:\n",
        "\\begin{eqnarray*}\n",
        "\t&c_{0}& = \\mathbf{x_i}\\\\\n",
        "\t&c_{1}& = c_{2i} = 0\\\\\n",
        "\t&c_{3}& = \\frac{10(\\mathbf{x_g}-\\mathbf{x_s})}{T_d^{3}}\\\\\n",
        "\t&c_{4}& = \\frac{15(\\mathbf{x_s}-\\mathbf{x_g})}{T_d^{4}}\\\\\n",
        "\t&c_{5}& = \\frac{6(\\mathbf{x_g}-\\mathbf{x_s})}{T_d^{5}}\n",
        "\\end{eqnarray*}\n",
        "\n",
        "Observe que $\\mathbf{x_s}$ e $\\mathbf{x_g}$ tem dimensão $3 \\times 1$, e portanto, os coeficientes $c_0$, $c_1$, $c_2$, $c_3$, $c_4$, $c_5$ também possuem dimensão $3 \\times 1$. \n",
        "\n",
        "A velocidade linear do efetuador para condições iniciais nulas é dada por:\n",
        "$$ \\mathbf{\\dot  x} (t) = c_{1} + 2c_{2} t + 3c_{3} t^2 + 4c_{4} t^3 + 5c_{5} t^4 $$\n",
        "\n",
        "Importante ressaltar, que a trajetória de quinta ordem no espaço cartesianos não será uma reta quando as velocidades iniciais ou finais foram diferentes de zero.\n",
        "\n",
        "Para que não seja necessário utilizar a cinemática inversa do robô manipulador, nessa tarefa você irá considerar que a configuração inicial e final do robô foram dadas, ou seja, $\\mathbf{q_s}$ e $\\mathbf{q_g}$. Então, utilizando a função `pose_efetuador(robot, q)`, você irá obter a posição inicial $\\mathbf{x_s}$ e posição final $\\mathbf{x_g}$ do efetuador.\n",
        "\n",
        "Complete o código a seguir para implementar uma função que retorna os pontos $\\mathbf{x}(t)$ da trajetória do efetuador e as velocidades lineares do efetuador $\\mathbf{\\dot x}(t)$.\n",
        "\n",
        "\n"
      ]
    },
    {
      "cell_type": "code",
      "metadata": {
        "id": "E3FOXqfwvhRz"
      },
      "source": [
        "def calcular_trajetoria_cartesiano(robot, q_s, q_g, Td, dt):\n",
        "  # Coloque seu codigo aqui\n",
        "\n",
        "\n",
        "  return x_t, dx_t"
      ],
      "execution_count": null,
      "outputs": []
    },
    {
      "cell_type": "markdown",
      "metadata": {
        "id": "1T-sqsP08OPy"
      },
      "source": [
        "Complete o código a seguir para implementar uma função que plota a trajetória no espaço cartesiano."
      ]
    },
    {
      "cell_type": "code",
      "metadata": {
        "id": "7TIu6ABp8cPW"
      },
      "source": [
        "def plotar_trajetoria_cartesiano(x_t)\n",
        "\n"
      ],
      "execution_count": null,
      "outputs": []
    },
    {
      "cell_type": "markdown",
      "metadata": {
        "id": "ThMJ-VX-8j3X"
      },
      "source": [
        "### 5.2 Conversão de trajetória no espaço cartesiano para espaço das juntas\n",
        "\n",
        "**Método 1:** uma das formas de converter uma trajetória no espaço cartesiano para o espaço das juntas é aplicar a cinemática inversa para todos os pontos da trajetória $\\mathbf{x}(t)$. Entretanto, para o manipulador redundante, para uma dada posição do efetuador, existem múltiplas configurações possíveis (soluções válidas da cinemática inversa). Portanto, é preciso aplicar um método numérico iterativo que retorna, para um ponto da trajetória, a solução de configuração *mais próxima* da configuração associada ao ponto anterior da trajetória. Dessa forma, a continuidade do movimento das juntas é preservada.\n",
        "\n",
        "**Método 2:** Uma outra forma de fazer isso é utilizar a pseudo-inversa do Jacobiano. Entretanto, esse método não é adequado quando a trajetória passa próximo de um ponto de singularidade. Próximo da singulariade, o valor da pseudo-inversa do Jacobinado é muito alto, o que resultaria em uma velocidade de juntas também muito alta. \n",
        "\n",
        "Nessa tarefa, você irá aplicar o **método 2** para converter a trajetória no espaço cartesiano para o espaço das juntas.\n",
        "\n",
        "Se o determinante do Jacobiano de velocidade linear $|J_v|$ for maior que um limiar, ou seja, $|J_v| > J_{min}$, então o ponto está suficientemente longe da singularidade, e podemos calcular a pseudo-inversa $J_v^{-1}$. \n",
        "\n",
        "Então, para construir a trajetória no espaço das juntas:\n",
        "\n",
        "$$ \\mathbf{q}(0) = \\mathbf{q_s}$$\n",
        "\n",
        "Para $t = 0 \\ldots (T_d-dt)$:\n",
        "\n",
        "$$c_J(t) = |J_v(\\mathbf{q}(t))|$$\n",
        "$$\\mathbf{\\dot q}(t) = J_v^{-1}(\\mathbf{q}(t)) \\mathbf{\\dot x}(t) $$\n",
        "$$\\delta \\mathbf{q} = J_v^{-1}(\\mathbf{q}(t)) [\\mathbf{x}(t+dt) - \\mathbf{x}(t)]$$\n",
        "$$\\mathbf{q}(t+dt) = \\mathbf{q}(t) + \\delta \\mathbf{q}$$\n",
        "\n",
        "Implementar a seguinte função de conversão que retorna uma matriz com as configurações do robô para cada instante de tempo. Não se preocupe, se a configuração final da trajetória não for a mesma que $q_g$. O importante é que a posição final do efetuador seja igual a posição final desejada."
      ]
    },
    {
      "cell_type": "code",
      "metadata": {
        "id": "jCObjyLtAuIB"
      },
      "source": [
        "def trajetoria_cartesiano_para_juntas(robot,q_s, q_g, x_t, dx_t, Td, dt, J_min)\n",
        "\n",
        "\n",
        "\n",
        "return q_t, dq_t, cJ_t"
      ],
      "execution_count": null,
      "outputs": []
    },
    {
      "cell_type": "markdown",
      "metadata": {
        "id": "WMhIP-YXBzej"
      },
      "source": [
        "### 5.3 Teste as funções implementadas\n",
        "\n",
        "Escolha uma configuração inicial $\\mathbf{q_s}$ e final para o robô $\\mathbf{q_g}$ de forma que não exista pontos de singularidade ao longo da trajetória reta entre as configuracões. Escolha também um valor de $T_d$ e $dt$.\n",
        "\n",
        "Teste as funções implementadas em 5.1 e 5.2 para os valores escolhidos, e plote um gráfico com a trajetória 3D do efetuador no espaço cartesiano, e um gráfico com a trajetória no espaço das juntas do manipulador. "
      ]
    }
  ]
}