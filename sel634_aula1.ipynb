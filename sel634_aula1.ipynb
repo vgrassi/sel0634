{
  "nbformat": 4,
  "nbformat_minor": 0,
  "metadata": {
    "colab": {
      "name": "sel634_aula1.ipynb",
      "provenance": [],
      "authorship_tag": "ABX9TyMhuyDY1GFEqO4IVWIfwOlf"
    },
    "kernelspec": {
      "name": "python3",
      "display_name": "Python 3"
    },
    "language_info": {
      "name": "python"
    }
  },
  "cells": [
    {
      "cell_type": "markdown",
      "metadata": {
        "id": "D943GmcCLPou"
      },
      "source": [
        "# SEL0634 - Laboratório de Robôs Manipuladores\n",
        "\n",
        "As aulas de laboratório utilizam as seguintes bibliotecas:\n",
        "\n",
        "*   [Spatial Maths for Python](https://github.com/petercorke/spatialmath-python#readme)\n",
        "*   [Robotics Toolbox for Python](https://github.com/petercorke/robotics-toolbox-python)\n",
        "\n",
        "## Aula 1 - Descrições Espaciais e Transformações\n",
        "\n",
        "A biblioteca [Spatial Maths for Python](https://github.com/petercorke/spatialmath-python#readme) disponibiliza classes para representar posição e orientação no espaço 3D e 2D. Recomenda-se a consulta à [documentação da biblioteca](https://petercorke.github.io/spatialmath-python/), e aos [notebooks de introdução](https://github.com/petercorke/spatialmath-python/tree/master/notebooks):\n",
        "\n",
        "*   [gentle-introduction.ipynb](https://github.com/petercorke/spatialmath-python/blob/master/notebooks/gentle-introduction.ipynb)\n",
        "*   [introduction.ipynb](https://github.com/petercorke/spatialmath-python/blob/master/notebooks/introduction.ipynb)\n",
        "\n",
        "Exemplos extraídos da documentação e dos notebooks da biblioteca são mostrados a seguir.\n"
      ]
    },
    {
      "cell_type": "markdown",
      "metadata": {
        "id": "XF6kT0SxSFXo"
      },
      "source": [
        "### Instalação da biblioteca \n",
        "\n",
        "O comando a seguir é usado para instalar a biblioteca para uso em um notebook no [Google Colab](https://colab.research.google.com/) ou [Binder](https://mybinder.org/):"
      ]
    },
    {
      "cell_type": "code",
      "metadata": {
        "colab": {
          "base_uri": "https://localhost:8080/"
        },
        "id": "KmtHMgJOGDaB",
        "outputId": "c815fe32-9f12-455e-bf6d-678013583819"
      },
      "source": [
        "!pip install spatialmath-python"
      ],
      "execution_count": 1,
      "outputs": [
        {
          "output_type": "stream",
          "text": [
            "Collecting spatialmath-python\n",
            "\u001b[?25l  Downloading https://files.pythonhosted.org/packages/34/60/3d7e1abdab4a3241e987ea3310bf74a5c9f3807a4e862c0824b07acd58c4/spatialmath-python-0.9.6.tar.gz (148kB)\n",
            "\r\u001b[K     |██▏                             | 10kB 17.6MB/s eta 0:00:01\r\u001b[K     |████▍                           | 20kB 11.5MB/s eta 0:00:01\r\u001b[K     |██████▋                         | 30kB 8.3MB/s eta 0:00:01\r\u001b[K     |████████▉                       | 40kB 7.3MB/s eta 0:00:01\r\u001b[K     |███████████                     | 51kB 4.2MB/s eta 0:00:01\r\u001b[K     |█████████████▎                  | 61kB 4.8MB/s eta 0:00:01\r\u001b[K     |███████████████▌                | 71kB 4.8MB/s eta 0:00:01\r\u001b[K     |█████████████████▊              | 81kB 5.1MB/s eta 0:00:01\r\u001b[K     |███████████████████▉            | 92kB 5.1MB/s eta 0:00:01\r\u001b[K     |██████████████████████          | 102kB 5.5MB/s eta 0:00:01\r\u001b[K     |████████████████████████▎       | 112kB 5.5MB/s eta 0:00:01\r\u001b[K     |██████████████████████████▌     | 122kB 5.5MB/s eta 0:00:01\r\u001b[K     |████████████████████████████▊   | 133kB 5.5MB/s eta 0:00:01\r\u001b[K     |███████████████████████████████ | 143kB 5.5MB/s eta 0:00:01\r\u001b[K     |████████████████████████████████| 153kB 5.5MB/s \n",
            "\u001b[?25hRequirement already satisfied: numpy in /usr/local/lib/python3.7/dist-packages (from spatialmath-python) (1.19.5)\n",
            "Requirement already satisfied: scipy in /usr/local/lib/python3.7/dist-packages (from spatialmath-python) (1.4.1)\n",
            "Requirement already satisfied: matplotlib in /usr/local/lib/python3.7/dist-packages (from spatialmath-python) (3.2.2)\n",
            "Collecting colored\n",
            "\u001b[?25l  Downloading https://files.pythonhosted.org/packages/b2/16/04827e24c14266d9161bd86bad50069fea453fa006c3d2b31da39251184a/colored-1.4.2.tar.gz (56kB)\n",
            "\u001b[K     |████████████████████████████████| 61kB 4.1MB/s \n",
            "\u001b[?25hCollecting ansitable\n",
            "  Downloading https://files.pythonhosted.org/packages/a1/c6/3e0b10ced944057b0150d01d37e768b8fc20590399060a1ceb0277d4d868/ansitable-0.9.5.tar.gz\n",
            "Requirement already satisfied: kiwisolver>=1.0.1 in /usr/local/lib/python3.7/dist-packages (from matplotlib->spatialmath-python) (1.3.1)\n",
            "Requirement already satisfied: python-dateutil>=2.1 in /usr/local/lib/python3.7/dist-packages (from matplotlib->spatialmath-python) (2.8.1)\n",
            "Requirement already satisfied: pyparsing!=2.0.4,!=2.1.2,!=2.1.6,>=2.0.1 in /usr/local/lib/python3.7/dist-packages (from matplotlib->spatialmath-python) (2.4.7)\n",
            "Requirement already satisfied: cycler>=0.10 in /usr/local/lib/python3.7/dist-packages (from matplotlib->spatialmath-python) (0.10.0)\n",
            "Requirement already satisfied: six>=1.5 in /usr/local/lib/python3.7/dist-packages (from python-dateutil>=2.1->matplotlib->spatialmath-python) (1.15.0)\n",
            "Building wheels for collected packages: spatialmath-python, colored, ansitable\n",
            "  Building wheel for spatialmath-python (setup.py) ... \u001b[?25l\u001b[?25hdone\n",
            "  Created wheel for spatialmath-python: filename=spatialmath_python-0.9.6-cp37-none-any.whl size=159519 sha256=2437b958762a4670dbf11d51f3fd5072f3adc483d73e7618f2efb432c7700edb\n",
            "  Stored in directory: /root/.cache/pip/wheels/a8/9f/51/01ce301eeaa8edbfb34f13534331ad90918a0f4b63931c593c\n",
            "  Building wheel for colored (setup.py) ... \u001b[?25l\u001b[?25hdone\n",
            "  Created wheel for colored: filename=colored-1.4.2-cp37-none-any.whl size=14003 sha256=322ed0e15cf6bae43a48ac7bedb5c522bf87d2060b595a2ef84aa40eae06790f\n",
            "  Stored in directory: /root/.cache/pip/wheels/ec/10/5e/d17d5ef644e1051a753bd98f3796789ec39bc3337cd36637f3\n",
            "  Building wheel for ansitable (setup.py) ... \u001b[?25l\u001b[?25hdone\n",
            "  Created wheel for ansitable: filename=ansitable-0.9.5-cp37-none-any.whl size=12176 sha256=63825acab3143bf8451c8e260c0461e0704a685807b5bcd8656b221c98316775\n",
            "  Stored in directory: /root/.cache/pip/wheels/48/66/3c/ff4f575272853a6d2faf784970b7d3ba3bad49d73794357d94\n",
            "Successfully built spatialmath-python colored ansitable\n",
            "Installing collected packages: colored, ansitable, spatialmath-python\n",
            "Successfully installed ansitable-0.9.5 colored-1.4.2 spatialmath-python-0.9.6\n"
          ],
          "name": "stdout"
        }
      ]
    },
    {
      "cell_type": "markdown",
      "metadata": {
        "id": "y4GhhQrOS7px"
      },
      "source": [
        "A sequencia de comandos a seguir carrega as bibliotecas que serão usadas:"
      ]
    },
    {
      "cell_type": "code",
      "metadata": {
        "id": "rNz4Ou1qGKQu"
      },
      "source": [
        "import numpy as np\n",
        "from spatialmath import *\n",
        "from math import pi\n",
        "\n",
        "import matplotlib.pyplot as plt\n",
        "# no Binder utilizar essa linha\n",
        "# %matplotlib notebook  \n",
        "# no Colab utilizar essa linha\n",
        "%matplotlib inline  \n"
      ],
      "execution_count": 3,
      "outputs": []
    },
    {
      "cell_type": "markdown",
      "metadata": {
        "id": "AAFgleywTQF7"
      },
      "source": [
        "### Representação de Coordenadas 3D\n",
        "\n",
        "#### Matriz de rotação\n",
        "\n",
        "Uma das formas de representar orientação no espaço 3D é através de matrizes de rotação $3\\times3$, que pertencem ao conjunto $SO(3)$. \n",
        "\n",
        "A biblioteca fornece funções para definir as matrizes básicas de rotação. Por exemplo, a matriz de rotação de $\\pi/4$ radianos em torno do eixo $x$ é definida por:"
      ]
    },
    {
      "cell_type": "code",
      "metadata": {
        "id": "6HKevsgmU1FI"
      },
      "source": [
        "R1 = SO3.Rx(pi/4)"
      ],
      "execution_count": 4,
      "outputs": []
    },
    {
      "cell_type": "markdown",
      "metadata": {
        "id": "bxzyP5MDU-4g"
      },
      "source": [
        "Seu conteúdo pode ser mostrado:"
      ]
    },
    {
      "cell_type": "code",
      "metadata": {
        "colab": {
          "base_uri": "https://localhost:8080/"
        },
        "id": "Ana9g_d8VC-a",
        "outputId": "3da98ae4-3bf7-4884-cbe2-ec56b62d57f2"
      },
      "source": [
        "R1"
      ],
      "execution_count": 5,
      "outputs": [
        {
          "output_type": "execute_result",
          "data": {
            "text/plain": [
              "  \u001b[38;5;1m 1       \u001b[0m \u001b[38;5;1m 0       \u001b[0m \u001b[38;5;1m 0       \u001b[0m  \u001b[0m\n",
              "  \u001b[38;5;1m 0       \u001b[0m \u001b[38;5;1m 0.7071  \u001b[0m \u001b[38;5;1m-0.7071  \u001b[0m  \u001b[0m\n",
              "  \u001b[38;5;1m 0       \u001b[0m \u001b[38;5;1m 0.7071  \u001b[0m \u001b[38;5;1m 0.7071  \u001b[0m  \u001b[0m\n"
            ]
          },
          "metadata": {
            "tags": []
          },
          "execution_count": 5
        }
      ]
    },
    {
      "cell_type": "markdown",
      "metadata": {
        "id": "eGnooNXPVhjX"
      },
      "source": [
        "Para definir uma matriz utilizando ângulos em graus:"
      ]
    },
    {
      "cell_type": "code",
      "metadata": {
        "colab": {
          "base_uri": "https://localhost:8080/"
        },
        "id": "qr6ZQIxdWH93",
        "outputId": "ab91b0a0-aaa7-4afd-860b-56f6238ba00e"
      },
      "source": [
        "SO3.Rx(45,'deg')"
      ],
      "execution_count": 6,
      "outputs": [
        {
          "output_type": "execute_result",
          "data": {
            "text/plain": [
              "  \u001b[38;5;1m 1       \u001b[0m \u001b[38;5;1m 0       \u001b[0m \u001b[38;5;1m 0       \u001b[0m  \u001b[0m\n",
              "  \u001b[38;5;1m 0       \u001b[0m \u001b[38;5;1m 0.7071  \u001b[0m \u001b[38;5;1m-0.7071  \u001b[0m  \u001b[0m\n",
              "  \u001b[38;5;1m 0       \u001b[0m \u001b[38;5;1m 0.7071  \u001b[0m \u001b[38;5;1m 0.7071  \u001b[0m  \u001b[0m\n"
            ]
          },
          "metadata": {
            "tags": []
          },
          "execution_count": 6
        }
      ]
    },
    {
      "cell_type": "markdown",
      "metadata": {
        "id": "KohSAmIDWOJM"
      },
      "source": [
        "Para compor matrizes de rotação, a biblioteca em Python utiliza o operador * "
      ]
    },
    {
      "cell_type": "code",
      "metadata": {
        "colab": {
          "base_uri": "https://localhost:8080/"
        },
        "id": "jpGiA2zoWNvx",
        "outputId": "0c3fad5c-5845-4af8-8129-693de1156e56"
      },
      "source": [
        "R1*R1"
      ],
      "execution_count": 7,
      "outputs": [
        {
          "output_type": "execute_result",
          "data": {
            "text/plain": [
              "  \u001b[38;5;1m 1       \u001b[0m \u001b[38;5;1m 0       \u001b[0m \u001b[38;5;1m 0       \u001b[0m  \u001b[0m\n",
              "  \u001b[38;5;1m 0       \u001b[0m \u001b[38;5;1m 0       \u001b[0m \u001b[38;5;1m-1       \u001b[0m  \u001b[0m\n",
              "  \u001b[38;5;1m 0       \u001b[0m \u001b[38;5;1m 1       \u001b[0m \u001b[38;5;1m 0       \u001b[0m  \u001b[0m\n"
            ]
          },
          "metadata": {
            "tags": []
          },
          "execution_count": 7
        }
      ]
    },
    {
      "cell_type": "markdown",
      "metadata": {
        "id": "Aza4tIMgYdJc"
      },
      "source": [
        "Também é possível utilizar o operador exponencial para repetir rotações iguais em sequencia:"
      ]
    },
    {
      "cell_type": "code",
      "metadata": {
        "colab": {
          "base_uri": "https://localhost:8080/"
        },
        "id": "CkozRDmmYuxw",
        "outputId": "142d2a8a-8e3f-440d-9c79-dfa2a225c640"
      },
      "source": [
        "R1**2"
      ],
      "execution_count": 8,
      "outputs": [
        {
          "output_type": "execute_result",
          "data": {
            "text/plain": [
              "  \u001b[38;5;1m 1       \u001b[0m \u001b[38;5;1m 0       \u001b[0m \u001b[38;5;1m 0       \u001b[0m  \u001b[0m\n",
              "  \u001b[38;5;1m 0       \u001b[0m \u001b[38;5;1m 0       \u001b[0m \u001b[38;5;1m-1       \u001b[0m  \u001b[0m\n",
              "  \u001b[38;5;1m 0       \u001b[0m \u001b[38;5;1m 1       \u001b[0m \u001b[38;5;1m 0       \u001b[0m  \u001b[0m\n"
            ]
          },
          "metadata": {
            "tags": []
          },
          "execution_count": 8
        }
      ]
    },
    {
      "cell_type": "markdown",
      "metadata": {
        "id": "_5XhJl0sXpiz"
      },
      "source": [
        "Uma rotação de $\\pi/4$ em torno do eixo X seguida de uma outra rotação de $\\pi/4$ em torno do eixo X resulta em uma rotação de $\\pi/2$ em torno do eixo X. A soma dos ângulos é possível pois as duas rotações consecutivas são aplicadas em relação ao mesmo eixo. \n",
        "\n",
        "É possivel verificar esse resultado:"
      ]
    },
    {
      "cell_type": "code",
      "metadata": {
        "colab": {
          "base_uri": "https://localhost:8080/"
        },
        "id": "7jYI97A5Wmjn",
        "outputId": "67cf969d-be6d-4395-e1cf-322526afd9c6"
      },
      "source": [
        "SO3.Rx(pi/2)"
      ],
      "execution_count": 9,
      "outputs": [
        {
          "output_type": "execute_result",
          "data": {
            "text/plain": [
              "  \u001b[38;5;1m 1       \u001b[0m \u001b[38;5;1m 0       \u001b[0m \u001b[38;5;1m 0       \u001b[0m  \u001b[0m\n",
              "  \u001b[38;5;1m 0       \u001b[0m \u001b[38;5;1m 0       \u001b[0m \u001b[38;5;1m-1       \u001b[0m  \u001b[0m\n",
              "  \u001b[38;5;1m 0       \u001b[0m \u001b[38;5;1m 1       \u001b[0m \u001b[38;5;1m 0       \u001b[0m  \u001b[0m\n"
            ]
          },
          "metadata": {
            "tags": []
          },
          "execution_count": 9
        }
      ]
    },
    {
      "cell_type": "markdown",
      "metadata": {
        "id": "OfzKHqH0YLxE"
      },
      "source": [
        "Uma matriz de rotação descreve a orientação de um sistema de coordenadas. Para visualizar o sistema de coordendas descrito pela matriz de rotação:"
      ]
    },
    {
      "cell_type": "code",
      "metadata": {
        "colab": {
          "base_uri": "https://localhost:8080/",
          "height": 248
        },
        "id": "iTxDwGWzZiXh",
        "outputId": "a46e5503-5b12-499b-89c3-2161933a6de6"
      },
      "source": [
        "fig = plt.figure() # cria uma nova figura\n",
        "SE3().plot(frame='0', dims=[-1.5,1.5], color='black') # mostra o sistema de coordenadas para rotação zero\n",
        "R1.plot(frame='1') # mostra o sistema de coordenadas com orientação dada por R1"
      ],
      "execution_count": 10,
      "outputs": [
        {
          "output_type": "display_data",
          "data": {
            "image/png": "[encoded data removed]",
            "text/plain": [
              "<Figure size 432x288 with 1 Axes>"
            ]
          },
          "metadata": {
            "tags": [],
            "needs_background": "light"
          }
        }
      ]
    },
    {
      "cell_type": "markdown",
      "metadata": {
        "id": "V8-2XuEwaSPl"
      },
      "source": [
        "A matriz de rotação não possui propriedade comutativa. \n",
        "\n",
        "Veja que $ R_x(\\pi/2) R_y(\\pi/2)$ é diferente de $ R_y(\\pi/2) R_x(\\pi/2)$:\n",
        "\n"
      ]
    },
    {
      "cell_type": "code",
      "metadata": {
        "colab": {
          "base_uri": "https://localhost:8080/",
          "height": 248
        },
        "id": "1lwJ5E6UbdMM",
        "outputId": "c8e68e7c-adc6-492e-cdd4-23c6eab718d5"
      },
      "source": [
        "R2 = SO3.Rx(pi/2)*SO3.Ry(pi/2)\n",
        "R3 = SO3.Ry(pi/2)*SO3.Rx(pi/2)\n",
        "fig = plt.figure() # cria uma nova figura\n",
        "SE3().plot(frame='0', dims=[-1.5,1.5], color='black') # mostra o sistema de coordenadas para rotação zero\n",
        "R2.plot(frame='2', color='red')\n",
        "R3.plot(frame='2', color='blue')"
      ],
      "execution_count": 11,
      "outputs": [
        {
          "output_type": "display_data",
          "data": {
            "image/png": "[encoded data removed]",
            "text/plain": [
              "<Figure size 432x288 with 1 Axes>"
            ]
          },
          "metadata": {
            "tags": [],
            "needs_background": "light"
          }
        }
      ]
    },
    {
      "cell_type": "markdown",
      "metadata": {
        "id": "OAuIDFEsb9iN"
      },
      "source": [
        "Uma forma de definir uma rotação 3D é através dos ângulos roll, pitch, yaw. \n",
        "\n",
        "Para definir uma rotação com ângulo roll de $10^o$, ângulo pitch de $20^o$ e ângulo yaw de $30^o$ utiliza-se o comando:"
      ]
    },
    {
      "cell_type": "code",
      "metadata": {
        "colab": {
          "base_uri": "https://localhost:8080/"
        },
        "id": "XQ-JILGOb9IY",
        "outputId": "fa30eb41-70aa-4b4a-da9e-d995cf2ea54d"
      },
      "source": [
        "R4 = SO3.RPY([10, 20, 30], unit='deg')\n",
        "R4"
      ],
      "execution_count": 14,
      "outputs": [
        {
          "output_type": "execute_result",
          "data": {
            "text/plain": [
              "  \u001b[38;5;1m 0.8138  \u001b[0m \u001b[38;5;1m-0.441   \u001b[0m \u001b[38;5;1m 0.3785  \u001b[0m  \u001b[0m\n",
              "  \u001b[38;5;1m 0.4698  \u001b[0m \u001b[38;5;1m 0.8826  \u001b[0m \u001b[38;5;1m 0.01803 \u001b[0m  \u001b[0m\n",
              "  \u001b[38;5;1m-0.342   \u001b[0m \u001b[38;5;1m 0.1632  \u001b[0m \u001b[38;5;1m 0.9254  \u001b[0m  \u001b[0m\n"
            ]
          },
          "metadata": {
            "tags": []
          },
          "execution_count": 14
        }
      ]
    },
    {
      "cell_type": "markdown",
      "metadata": {
        "id": "BxNEvjW7dETo"
      },
      "source": [
        "A matriz de rotação resultante equivale à aplicação de uma rotação de $30^o$ em torno do eixo $Z$ (yaw), seguida de uma rotação de $20^o$ em torno do eixo $Y$ (pitch), seguida de uma rotação de $10^o$ em torno do eixo $X$, que é a convenção $ZYX$ para rotação roll-pitch-yaw. Nessa convenção, a sequencia de rotações $ZYX$ é aplicada em relação ao *sistema de coordenadas atual*, ou seja, primeiro o sistema de coordendas inicial é rotacionado em torno do eixo $Z$. Em seguida, é aplicada uma rotação em torno do eixo $Y$ atual, ou seja, do eixo $Y$ do sistema resultande da primeira rotação. Finalmente, é aplicada uma rotação em torno do eixo $X$ atual, que é o eixo $X$ do sistema resultante das rotações anteriores. Perceba que cada nova rotação é **pós-multiplicada** ao resultado já obtido."
      ]
    },
    {
      "cell_type": "code",
      "metadata": {
        "colab": {
          "base_uri": "https://localhost:8080/"
        },
        "id": "W5CZXwCmeP6l",
        "outputId": "a6d60c0e-ee92-45db-a6b0-d919814fde23"
      },
      "source": [
        "SO3.Rz(30,'deg')*SO3.Ry(20,'deg')*SO3.Rx(10,'deg')"
      ],
      "execution_count": 15,
      "outputs": [
        {
          "output_type": "execute_result",
          "data": {
            "text/plain": [
              "  \u001b[38;5;1m 0.8138  \u001b[0m \u001b[38;5;1m-0.441   \u001b[0m \u001b[38;5;1m 0.3785  \u001b[0m  \u001b[0m\n",
              "  \u001b[38;5;1m 0.4698  \u001b[0m \u001b[38;5;1m 0.8826  \u001b[0m \u001b[38;5;1m 0.01803 \u001b[0m  \u001b[0m\n",
              "  \u001b[38;5;1m-0.342   \u001b[0m \u001b[38;5;1m 0.1632  \u001b[0m \u001b[38;5;1m 0.9254  \u001b[0m  \u001b[0m\n"
            ]
          },
          "metadata": {
            "tags": []
          },
          "execution_count": 15
        }
      ]
    },
    {
      "cell_type": "markdown",
      "metadata": {
        "id": "iQ__BxbIeuKI"
      },
      "source": [
        "A sequencia anterior também pode ser interpretada como sendo a composição de uma sequencia de rotações na ordem $XYZ$ definidas em relação ao *sistema de coordenadas fixo* inicial. Ou seja, primeiro aplica-se a rotação em torno do eixo $X$ do sistema inicial. O sistema resultante é então rotacionado em torno do eixo $Y$ do sistema inicial. Finalmente, o sistema resultante das duas rotações anteriores é rotacionado em torno do eixo $Z$ do sistema inicial. Perceba que todas as rotações foram definidas em torno do mesmo sistema, por isso, é chamado de composição de rotações em relação ao um *sistema de coordenadas fixo*, e cada nova rotação é **pré-multiplicada** ao resultado obtido."
      ]
    },
    {
      "cell_type": "markdown",
      "metadata": {
        "id": "9PMsswL3i141"
      },
      "source": [
        "Para visualizar a rotação resultante:"
      ]
    },
    {
      "cell_type": "code",
      "metadata": {
        "colab": {
          "base_uri": "https://localhost:8080/",
          "height": 248
        },
        "id": "miTmShOhiuCz",
        "outputId": "9608f0c0-a4c2-456f-f887-34cc48089276"
      },
      "source": [
        "fig = plt.figure() # cria uma nova figura\n",
        "SE3().plot(frame='0', dims=[-1.5,1.5], color='black') # mostra o sistema de coordenadas para rotação zero\n",
        "R4.plot(frame='4') # mostra o sistema de coordenadas com orientação dada por R4"
      ],
      "execution_count": 16,
      "outputs": [
        {
          "output_type": "display_data",
          "data": {
            "image/png": "[encoded data removed]",
            "text/plain": [
              "<Figure size 432x288 with 1 Axes>"
            ]
          },
          "metadata": {
            "tags": [],
            "needs_background": "light"
          }
        }
      ]
    },
    {
      "cell_type": "markdown",
      "metadata": {
        "id": "a7xaEnZ8jAAQ"
      },
      "source": [
        "É possível obter os ângulos roll-pitch-yaw em radianos a partir da matrix de rotação:"
      ]
    },
    {
      "cell_type": "code",
      "metadata": {
        "colab": {
          "base_uri": "https://localhost:8080/"
        },
        "id": "1yNfHqNZi0ES",
        "outputId": "6aa27eb9-a086-4e97-8b12-a8930a8073da"
      },
      "source": [
        "R4.rpy()"
      ],
      "execution_count": 18,
      "outputs": [
        {
          "output_type": "execute_result",
          "data": {
            "text/plain": [
              "array([0.17453293, 0.34906585, 0.52359878])"
            ]
          },
          "metadata": {
            "tags": []
          },
          "execution_count": 18
        }
      ]
    },
    {
      "cell_type": "markdown",
      "metadata": {
        "id": "SbDZovNZkc49"
      },
      "source": [
        "##### Propriedades\n",
        "\n",
        "O objeto que representa a matriz de rotação em Python possui algumas propriedades.\n",
        "\n",
        "As colunas da matriz de rotação podem ser acessadas individualmente considerando $\\mathbf{R} = [n, o, a]$, onde $n$, $o$ e $a$ são vetores tridimensionais."
      ]
    },
    {
      "cell_type": "code",
      "metadata": {
        "colab": {
          "base_uri": "https://localhost:8080/"
        },
        "id": "q_10dDfdl8Bg",
        "outputId": "4d465778-88d5-4477-bc15-742d3b9b0446"
      },
      "source": [
        "R2.n"
      ],
      "execution_count": 19,
      "outputs": [
        {
          "output_type": "execute_result",
          "data": {
            "text/plain": [
              "array([ 6.123234e-17,  1.000000e+00, -6.123234e-17])"
            ]
          },
          "metadata": {
            "tags": []
          },
          "execution_count": 19
        }
      ]
    },
    {
      "cell_type": "code",
      "metadata": {
        "colab": {
          "base_uri": "https://localhost:8080/"
        },
        "id": "J_S0GgNkl-no",
        "outputId": "946208cf-ade0-4179-f941-44b74bbd5e50"
      },
      "source": [
        "R2.o"
      ],
      "execution_count": 20,
      "outputs": [
        {
          "output_type": "execute_result",
          "data": {
            "text/plain": [
              "array([0.000000e+00, 6.123234e-17, 1.000000e+00])"
            ]
          },
          "metadata": {
            "tags": []
          },
          "execution_count": 20
        }
      ]
    },
    {
      "cell_type": "code",
      "metadata": {
        "colab": {
          "base_uri": "https://localhost:8080/"
        },
        "id": "Ova2yLS1mAUx",
        "outputId": "3a6a6bfa-5024-41bf-a9c7-877beed830c5"
      },
      "source": [
        "R2.a"
      ],
      "execution_count": 21,
      "outputs": [
        {
          "output_type": "execute_result",
          "data": {
            "text/plain": [
              "array([ 1.00000000e+00, -6.12323400e-17,  3.74939946e-33])"
            ]
          },
          "metadata": {
            "tags": []
          },
          "execution_count": 21
        }
      ]
    },
    {
      "cell_type": "markdown",
      "metadata": {
        "id": "rCfsj6MmmLYa"
      },
      "source": [
        "A inversa da matriz de rotação, que é igual a sua transposta, pode ser obtida por:"
      ]
    },
    {
      "cell_type": "code",
      "metadata": {
        "colab": {
          "base_uri": "https://localhost:8080/"
        },
        "id": "YYTfDiGemXTU",
        "outputId": "7547a566-7c56-4469-c2e0-2b5629a063f4"
      },
      "source": [
        "R2.inv()"
      ],
      "execution_count": 22,
      "outputs": [
        {
          "output_type": "execute_result",
          "data": {
            "text/plain": [
              "  \u001b[38;5;1m 0       \u001b[0m \u001b[38;5;1m 1       \u001b[0m \u001b[38;5;1m 0       \u001b[0m  \u001b[0m\n",
              "  \u001b[38;5;1m 0       \u001b[0m \u001b[38;5;1m 0       \u001b[0m \u001b[38;5;1m 1       \u001b[0m  \u001b[0m\n",
              "  \u001b[38;5;1m 1       \u001b[0m \u001b[38;5;1m 0       \u001b[0m \u001b[38;5;1m 0       \u001b[0m  \u001b[0m\n"
            ]
          },
          "metadata": {
            "tags": []
          },
          "execution_count": 22
        }
      ]
    },
    {
      "cell_type": "markdown",
      "metadata": {
        "id": "gjPz6VXImaEx"
      },
      "source": [
        "A dimensão da matriz pode ser obtida por:"
      ]
    },
    {
      "cell_type": "code",
      "metadata": {
        "colab": {
          "base_uri": "https://localhost:8080/"
        },
        "id": "-MhzrkRsmhbf",
        "outputId": "5d583caa-50d0-4355-d5ed-23a2e29ff7db"
      },
      "source": [
        "R2.shape"
      ],
      "execution_count": 23,
      "outputs": [
        {
          "output_type": "execute_result",
          "data": {
            "text/plain": [
              "(3, 3)"
            ]
          },
          "metadata": {
            "tags": []
          },
          "execution_count": 23
        }
      ]
    },
    {
      "cell_type": "markdown",
      "metadata": {
        "id": "NMY7rTQQmj2L"
      },
      "source": [
        "A ordem da matriz é dada por:"
      ]
    },
    {
      "cell_type": "code",
      "metadata": {
        "colab": {
          "base_uri": "https://localhost:8080/"
        },
        "id": "QhruyiBamotf",
        "outputId": "121c8fea-9efe-4934-cc63-ddff25699eb3"
      },
      "source": [
        "R2.N"
      ],
      "execution_count": 24,
      "outputs": [
        {
          "output_type": "execute_result",
          "data": {
            "text/plain": [
              "3"
            ]
          },
          "metadata": {
            "tags": []
          },
          "execution_count": 24
        }
      ]
    },
    {
      "cell_type": "markdown",
      "metadata": {
        "id": "ZbMFCO7pm9a7"
      },
      "source": [
        "que indica que a matriz opera no espaço 3D."
      ]
    },
    {
      "cell_type": "markdown",
      "metadata": {
        "id": "BCFDEnFLmjnP"
      },
      "source": [
        "Algumas outras propriedades são comuns a outras classes da biblioteca:"
      ]
    },
    {
      "cell_type": "code",
      "metadata": {
        "colab": {
          "base_uri": "https://localhost:8080/"
        },
        "id": "7LD1vbxbnN_3",
        "outputId": "f9e282dd-0149-4cb7-a7ba-0e0d2b273f07"
      },
      "source": [
        "[R1.isSE, R1.isSO, R1.isrot(), R1.ishom(), R1.isrot2(), R1.ishom2()]"
      ],
      "execution_count": 25,
      "outputs": [
        {
          "output_type": "execute_result",
          "data": {
            "text/plain": [
              "[False, True, True, False, False, False]"
            ]
          },
          "metadata": {
            "tags": []
          },
          "execution_count": 25
        }
      ]
    },
    {
      "cell_type": "markdown",
      "metadata": {
        "id": "no0NhYK5nngy"
      },
      "source": [
        "#### Representando Posições\n",
        "\n",
        "Um movimento rígido composto de uma rotação e translação pode ser descrito por uma matriz de transformação homogênea, matriz $4\\times4$ que pertence ao conjunto $SE(3)$.\n",
        "\n",
        "A translação de $1$ na direção $x$, $2$ na direção $y$, e $3$ na direção $z$ pode ser definida pelo seguinte comando da biblioteca: "
      ]
    },
    {
      "cell_type": "code",
      "metadata": {
        "colab": {
          "base_uri": "https://localhost:8080/"
        },
        "id": "0udrapvYndab",
        "outputId": "7dbd9b9b-67d0-458a-e0d7-c91b9bba60cb"
      },
      "source": [
        "T1 = SE3(1,2,3)\n",
        "T1"
      ],
      "execution_count": 27,
      "outputs": [
        {
          "output_type": "execute_result",
          "data": {
            "text/plain": [
              "  \u001b[38;5;1m 1       \u001b[0m \u001b[38;5;1m 0       \u001b[0m \u001b[38;5;1m 0       \u001b[0m \u001b[38;5;4m 1       \u001b[0m  \u001b[0m\n",
              "  \u001b[38;5;1m 0       \u001b[0m \u001b[38;5;1m 1       \u001b[0m \u001b[38;5;1m 0       \u001b[0m \u001b[38;5;4m 2       \u001b[0m  \u001b[0m\n",
              "  \u001b[38;5;1m 0       \u001b[0m \u001b[38;5;1m 0       \u001b[0m \u001b[38;5;1m 1       \u001b[0m \u001b[38;5;4m 3       \u001b[0m  \u001b[0m\n",
              "  \u001b[38;5;244m 0       \u001b[0m \u001b[38;5;244m 0       \u001b[0m \u001b[38;5;244m 0       \u001b[0m \u001b[38;5;244m 1       \u001b[0m  \u001b[0m\n"
            ]
          },
          "metadata": {
            "tags": []
          },
          "execution_count": 27
        }
      ]
    },
    {
      "cell_type": "markdown",
      "metadata": {
        "id": "TL2qgMD2nlg7"
      },
      "source": [
        "onde a matriz de rotação é mostrada em vermelho, o vetor de translação em azul, e as constantes da linha inferior em cinza. \n",
        "\n",
        "A matriz de rotação é a matriz identidade pois foi definida apenas uma translação.\n",
        "\n",
        "O vetor de translação pode ser também interpretado como a origem do sistema em relação a um referêncial inercial.\n",
        "\n",
        "Para visualizar o sistema de coordenadas definido por $T1$:"
      ]
    },
    {
      "cell_type": "code",
      "metadata": {
        "colab": {
          "base_uri": "https://localhost:8080/",
          "height": 248
        },
        "id": "6NgHlu1rp4jy",
        "outputId": "e2c2f8be-115c-4112-bf09-241ba7e718fe"
      },
      "source": [
        "fig = plt.figure() # cria uma nova figura\n",
        "SE3().plot(frame='0', dims=[0,4], color='black') # mostra o sistema de coordenadas para rotação zero\n",
        "T1.plot(frame='1') "
      ],
      "execution_count": 28,
      "outputs": [
        {
          "output_type": "display_data",
          "data": {
            "image/png": "[encoded data removed]",
            "text/plain": [
              "<Figure size 432x288 with 1 Axes>"
            ]
          },
          "metadata": {
            "tags": [],
            "needs_background": "light"
          }
        }
      ]
    },
    {
      "cell_type": "markdown",
      "metadata": {
        "id": "Nb3S11YgqnEf"
      },
      "source": [
        "Definindo uma outra translação:"
      ]
    },
    {
      "cell_type": "code",
      "metadata": {
        "colab": {
          "base_uri": "https://localhost:8080/"
        },
        "id": "AKhM_Lo2qvI3",
        "outputId": "902eb491-6cdd-4a78-d85c-ccc9ef9fb78d"
      },
      "source": [
        "T12 = SE3(2,-1,-2)\n",
        "T12"
      ],
      "execution_count": 33,
      "outputs": [
        {
          "output_type": "execute_result",
          "data": {
            "text/plain": [
              "  \u001b[38;5;1m 1       \u001b[0m \u001b[38;5;1m 0       \u001b[0m \u001b[38;5;1m 0       \u001b[0m \u001b[38;5;4m 2       \u001b[0m  \u001b[0m\n",
              "  \u001b[38;5;1m 0       \u001b[0m \u001b[38;5;1m 1       \u001b[0m \u001b[38;5;1m 0       \u001b[0m \u001b[38;5;4m-1       \u001b[0m  \u001b[0m\n",
              "  \u001b[38;5;1m 0       \u001b[0m \u001b[38;5;1m 0       \u001b[0m \u001b[38;5;1m 1       \u001b[0m \u001b[38;5;4m-2       \u001b[0m  \u001b[0m\n",
              "  \u001b[38;5;244m 0       \u001b[0m \u001b[38;5;244m 0       \u001b[0m \u001b[38;5;244m 0       \u001b[0m \u001b[38;5;244m 1       \u001b[0m  \u001b[0m\n"
            ]
          },
          "metadata": {
            "tags": []
          },
          "execution_count": 33
        }
      ]
    },
    {
      "cell_type": "markdown",
      "metadata": {
        "id": "rojpTHVbqyz9"
      },
      "source": [
        "Podemos compor a translação $T1$ com a translação adicional $T12$, multiplicamos as duas transformações homogêneas:"
      ]
    },
    {
      "cell_type": "code",
      "metadata": {
        "colab": {
          "base_uri": "https://localhost:8080/"
        },
        "id": "p-tfhQLyq83L",
        "outputId": "a620ff79-59a3-41bd-a719-d176b7fd2b0c"
      },
      "source": [
        "T2 = T1*T12\n",
        "T2"
      ],
      "execution_count": 34,
      "outputs": [
        {
          "output_type": "execute_result",
          "data": {
            "text/plain": [
              "  \u001b[38;5;1m 1       \u001b[0m \u001b[38;5;1m 0       \u001b[0m \u001b[38;5;1m 0       \u001b[0m \u001b[38;5;4m 3       \u001b[0m  \u001b[0m\n",
              "  \u001b[38;5;1m 0       \u001b[0m \u001b[38;5;1m 1       \u001b[0m \u001b[38;5;1m 0       \u001b[0m \u001b[38;5;4m 1       \u001b[0m  \u001b[0m\n",
              "  \u001b[38;5;1m 0       \u001b[0m \u001b[38;5;1m 0       \u001b[0m \u001b[38;5;1m 1       \u001b[0m \u001b[38;5;4m 1       \u001b[0m  \u001b[0m\n",
              "  \u001b[38;5;244m 0       \u001b[0m \u001b[38;5;244m 0       \u001b[0m \u001b[38;5;244m 0       \u001b[0m \u001b[38;5;244m 1       \u001b[0m  \u001b[0m\n"
            ]
          },
          "metadata": {
            "tags": []
          },
          "execution_count": 34
        }
      ]
    },
    {
      "cell_type": "markdown",
      "metadata": {
        "id": "jwg4g5GPrcIR"
      },
      "source": [
        "A sequencia de multiplicação aplicada acima, $T1*T12$, significa que a transformação $T12$ é definida em relação ao sistema de coordenadas resultante da transformação $T1$, ou seja, o *sistema de coordenadas atual*. \n",
        "\n",
        "Perceba que ao compor às transformações homogêneas, o vetor de translação resultante (quarta coluna da matriz $T2$) é igual a soma da translação definida em $T1$ com a translação definida em $T12$. Esse resultado foi obtido pois não houve rotação definida nessas transformações."
      ]
    },
    {
      "cell_type": "code",
      "metadata": {
        "colab": {
          "base_uri": "https://localhost:8080/",
          "height": 248
        },
        "id": "MqHP4Y8ZrAIf",
        "outputId": "bf361225-8f30-4f15-f3ab-f53eb73c9d64"
      },
      "source": [
        "fig = plt.figure() # cria uma nova figura\n",
        "SE3().plot(frame='0', dims=[0,4], color='black') # mostra o sistema de coordenadas para rotação zero\n",
        "T1.plot(frame='1') \n",
        "T2.plot(frame='2', color='red') "
      ],
      "execution_count": 32,
      "outputs": [
        {
          "output_type": "display_data",
          "data": {
            "image/png": "[encoded data removed]",
            "text/plain": [
              "<Figure size 432x288 with 1 Axes>"
            ]
          },
          "metadata": {
            "tags": [],
            "needs_background": "light"
          }
        }
      ]
    },
    {
      "cell_type": "markdown",
      "metadata": {
        "id": "N1kmjglHs_dS"
      },
      "source": [
        "#### Representando uma Pose"
      ]
    },
    {
      "cell_type": "markdown",
      "metadata": {
        "id": "Cev8H5VwtEj5"
      },
      "source": [
        "De forma mais geral, a matriz de transformação homogênea representa um movimento de translação 3D e rotação 3D, que definem a pose de um sistema de coordendas. \n",
        "\n",
        "Na biblioteca, um movimento rígido 3D que representa a pose de um sistema de coordenadas, pode ser composto por uma translação pura seguida de uma rotação pura:"
      ]
    },
    {
      "cell_type": "code",
      "metadata": {
        "colab": {
          "base_uri": "https://localhost:8080/"
        },
        "id": "x9p0mR72ui0x",
        "outputId": "2bc99f11-63b5-4c7d-ce7b-b0165ac89ce4"
      },
      "source": [
        "T1 = SE3(1, 2, 3)* SE3.Rx(30, 'deg')\n",
        "T1"
      ],
      "execution_count": 36,
      "outputs": [
        {
          "output_type": "execute_result",
          "data": {
            "text/plain": [
              "  \u001b[38;5;1m 1       \u001b[0m \u001b[38;5;1m 0       \u001b[0m \u001b[38;5;1m 0       \u001b[0m \u001b[38;5;4m 1       \u001b[0m  \u001b[0m\n",
              "  \u001b[38;5;1m 0       \u001b[0m \u001b[38;5;1m 0.866   \u001b[0m \u001b[38;5;1m-0.5     \u001b[0m \u001b[38;5;4m 2       \u001b[0m  \u001b[0m\n",
              "  \u001b[38;5;1m 0       \u001b[0m \u001b[38;5;1m 0.5     \u001b[0m \u001b[38;5;1m 0.866   \u001b[0m \u001b[38;5;4m 3       \u001b[0m  \u001b[0m\n",
              "  \u001b[38;5;244m 0       \u001b[0m \u001b[38;5;244m 0       \u001b[0m \u001b[38;5;244m 0       \u001b[0m \u001b[38;5;244m 1       \u001b[0m  \u001b[0m\n"
            ]
          },
          "metadata": {
            "tags": []
          },
          "execution_count": 36
        }
      ]
    },
    {
      "cell_type": "markdown",
      "metadata": {
        "id": "Ofo1wIZ9vfxE"
      },
      "source": [
        "O sistema resultante pode ser visualizado:"
      ]
    },
    {
      "cell_type": "code",
      "metadata": {
        "colab": {
          "base_uri": "https://localhost:8080/",
          "height": 248
        },
        "id": "2GLysENSvkVC",
        "outputId": "66071a59-94af-47b8-c722-82ac55d284ca"
      },
      "source": [
        "plt.figure() \n",
        "SE3().plot(frame='0', dims=[0,4], color='black')\n",
        "T1.plot(frame='1')"
      ],
      "execution_count": 37,
      "outputs": [
        {
          "output_type": "display_data",
          "data": {
            "image/png": "[encoded data removed]",
            "text/plain": [
              "<Figure size 432x288 with 1 Axes>"
            ]
          },
          "metadata": {
            "tags": [],
            "needs_background": "light"
          }
        }
      ]
    },
    {
      "cell_type": "markdown",
      "metadata": {
        "id": "5YWkQbYSvvRs"
      },
      "source": [
        "##### Propriedades"
      ]
    },
    {
      "cell_type": "markdown",
      "metadata": {
        "id": "acTOiMM8wId4"
      },
      "source": [
        "As colunas da matriz de rotação representada na transformação homogênea podem ser acessadas:"
      ]
    },
    {
      "cell_type": "code",
      "metadata": {
        "colab": {
          "base_uri": "https://localhost:8080/"
        },
        "id": "uY136s7vwtEY",
        "outputId": "ca93ddee-650b-4bff-a204-60dd3e7b5023"
      },
      "source": [
        "T1.o"
      ],
      "execution_count": 38,
      "outputs": [
        {
          "output_type": "execute_result",
          "data": {
            "text/plain": [
              "array([0.       , 0.8660254, 0.5      ])"
            ]
          },
          "metadata": {
            "tags": []
          },
          "execution_count": 38
        }
      ]
    },
    {
      "cell_type": "markdown",
      "metadata": {
        "id": "-SfUCLcgwwH1"
      },
      "source": [
        "A inversa da matriz de transformação homogênea é dada por:"
      ]
    },
    {
      "cell_type": "code",
      "metadata": {
        "colab": {
          "base_uri": "https://localhost:8080/"
        },
        "id": "5EDqMUhpw2J0",
        "outputId": "8c47a7b1-d577-4b55-af86-06cba8204edf"
      },
      "source": [
        "T1.inv()"
      ],
      "execution_count": 39,
      "outputs": [
        {
          "output_type": "execute_result",
          "data": {
            "text/plain": [
              "  \u001b[38;5;1m 1       \u001b[0m \u001b[38;5;1m 0       \u001b[0m \u001b[38;5;1m 0       \u001b[0m \u001b[38;5;4m-1       \u001b[0m  \u001b[0m\n",
              "  \u001b[38;5;1m 0       \u001b[0m \u001b[38;5;1m 0.866   \u001b[0m \u001b[38;5;1m 0.5     \u001b[0m \u001b[38;5;4m-3.232   \u001b[0m  \u001b[0m\n",
              "  \u001b[38;5;1m 0       \u001b[0m \u001b[38;5;1m-0.5     \u001b[0m \u001b[38;5;1m 0.866   \u001b[0m \u001b[38;5;4m-1.598   \u001b[0m  \u001b[0m\n",
              "  \u001b[38;5;244m 0       \u001b[0m \u001b[38;5;244m 0       \u001b[0m \u001b[38;5;244m 0       \u001b[0m \u001b[38;5;244m 1       \u001b[0m  \u001b[0m\n"
            ]
          },
          "metadata": {
            "tags": []
          },
          "execution_count": 39
        }
      ]
    },
    {
      "cell_type": "markdown",
      "metadata": {
        "id": "xTVEjF0Yw5_l"
      },
      "source": [
        "A matrix de rotação pode ser acessada como um array da biblioteca numpy:"
      ]
    },
    {
      "cell_type": "code",
      "metadata": {
        "colab": {
          "base_uri": "https://localhost:8080/"
        },
        "id": "wbIpqTk2w3s6",
        "outputId": "e46738e2-0efa-4063-d56d-237b38e234d0"
      },
      "source": [
        "T1.R"
      ],
      "execution_count": 40,
      "outputs": [
        {
          "output_type": "execute_result",
          "data": {
            "text/plain": [
              "array([[ 1.       ,  0.       ,  0.       ],\n",
              "       [ 0.       ,  0.8660254, -0.5      ],\n",
              "       [ 0.       ,  0.5      ,  0.8660254]])"
            ]
          },
          "metadata": {
            "tags": []
          },
          "execution_count": 40
        }
      ]
    },
    {
      "cell_type": "markdown",
      "metadata": {
        "id": "IYC_LKsWxZ8Q"
      },
      "source": [
        "O vetor de translação pode ser acessado como um array da biblioteca numpy:"
      ]
    },
    {
      "cell_type": "code",
      "metadata": {
        "colab": {
          "base_uri": "https://localhost:8080/"
        },
        "id": "mZ0aYNQTxtWe",
        "outputId": "c20a2773-53d8-4d3f-9fb4-7b45c8866e9a"
      },
      "source": [
        "T1.t"
      ],
      "execution_count": 41,
      "outputs": [
        {
          "output_type": "execute_result",
          "data": {
            "text/plain": [
              "array([1., 2., 3.])"
            ]
          },
          "metadata": {
            "tags": []
          },
          "execution_count": 41
        }
      ]
    },
    {
      "cell_type": "markdown",
      "metadata": {
        "id": "uufp1_s8xva5"
      },
      "source": [
        "A dimensão da matriz é dada por:"
      ]
    },
    {
      "cell_type": "code",
      "metadata": {
        "colab": {
          "base_uri": "https://localhost:8080/"
        },
        "id": "BsMjdkU1x1Qe",
        "outputId": "2138913d-6f18-467a-ed81-75a12236fb3f"
      },
      "source": [
        "T1.shape"
      ],
      "execution_count": 42,
      "outputs": [
        {
          "output_type": "execute_result",
          "data": {
            "text/plain": [
              "(4, 4)"
            ]
          },
          "metadata": {
            "tags": []
          },
          "execution_count": 42
        }
      ]
    },
    {
      "cell_type": "markdown",
      "metadata": {
        "id": "-Q0PhF2Ax3Qv"
      },
      "source": [
        "e a ordem:"
      ]
    },
    {
      "cell_type": "code",
      "metadata": {
        "colab": {
          "base_uri": "https://localhost:8080/"
        },
        "id": "usroRrPCx6Cr",
        "outputId": "df13efc0-055a-47eb-e74b-0166023c3627"
      },
      "source": [
        "T1.N"
      ],
      "execution_count": 43,
      "outputs": [
        {
          "output_type": "execute_result",
          "data": {
            "text/plain": [
              "3"
            ]
          },
          "metadata": {
            "tags": []
          },
          "execution_count": 43
        }
      ]
    },
    {
      "cell_type": "markdown",
      "metadata": {
        "id": "NmtoWl72x84O"
      },
      "source": [
        "que indica que a matriz opera no espaço 3D."
      ]
    },
    {
      "cell_type": "markdown",
      "metadata": {
        "id": "kxCjOoMlyJQW"
      },
      "source": [
        "As propriedades comuns às outras classes também podem ser verificadas:"
      ]
    },
    {
      "cell_type": "code",
      "metadata": {
        "colab": {
          "base_uri": "https://localhost:8080/"
        },
        "id": "03cpDc-ZyRwL",
        "outputId": "56937dfd-3dd1-4292-cacf-a7562ba24ae3"
      },
      "source": [
        "[T1.isSE, T1.isSO, T1.isrot(), T1.ishom(), T1.isrot2(), T1.ishom2()]"
      ],
      "execution_count": 44,
      "outputs": [
        {
          "output_type": "execute_result",
          "data": {
            "text/plain": [
              "[True, False, False, True, False, False]"
            ]
          },
          "metadata": {
            "tags": []
          },
          "execution_count": 44
        }
      ]
    },
    {
      "cell_type": "markdown",
      "metadata": {
        "id": "QT7hS99qyec7"
      },
      "source": [
        "### Transformando pontos\n",
        "\n",
        "Considere que o seguinte conjunto de pontos definem os vértices de um cubo:"
      ]
    },
    {
      "cell_type": "code",
      "metadata": {
        "colab": {
          "base_uri": "https://localhost:8080/"
        },
        "id": "bB_Gx9CxzRBX",
        "outputId": "e1cdc099-42eb-4e43-8902-2b7d9c77f615"
      },
      "source": [
        "P = np.array([[-1, 1, 1, -1, -1, 1, 1, -1], [-1, -1, 1, 1, -1, -1, 1, 1], [-1, -1, -1, -1, 1, 1, 1, 1]])\n",
        "P"
      ],
      "execution_count": 46,
      "outputs": [
        {
          "output_type": "execute_result",
          "data": {
            "text/plain": [
              "array([[-1,  1,  1, -1, -1,  1,  1, -1],\n",
              "       [-1, -1,  1,  1, -1, -1,  1,  1],\n",
              "       [-1, -1, -1, -1,  1,  1,  1,  1]])"
            ]
          },
          "metadata": {
            "tags": []
          },
          "execution_count": 46
        }
      ]
    },
    {
      "cell_type": "markdown",
      "metadata": {
        "id": "werwT1wdzUAY"
      },
      "source": [
        "Os pontos $^AP_i$ são definidos em relação a um sistema de coordenadas de referência fixo no corpo $\\{A\\}$. \n",
        "\n",
        "A transformação homogênea $^0T_A$ define a pose do sistema de coordenadas do corpo $\\{A\\}$ em relação ao sistema de coordenadas inercial $\\{0\\}$ (sistema de coordenadas do mundo).\n",
        "\n",
        "A coordenada dos pontos descrita no sistema de coordenadas do mundo $^0P_i$ é dada por:\n",
        "\n",
        "$$ {^0P_i} = {^0T_A} {^AP_i} $$\n",
        "\n",
        "Usando a biblioteca:"
      ]
    },
    {
      "cell_type": "code",
      "metadata": {
        "id": "E8W_U5mO1U0q"
      },
      "source": [
        "Q = T1*P"
      ],
      "execution_count": 47,
      "outputs": []
    },
    {
      "cell_type": "markdown",
      "metadata": {
        "id": "tCz-GR151aV7"
      },
      "source": [
        "Que pode ser visualizado por:"
      ]
    },
    {
      "cell_type": "code",
      "metadata": {
        "id": "5Z-92lAO1Z6M"
      },
      "source": [
        "def plot_cubo(cubo,grafico):\n",
        "  grafico.scatter(xs=cubo[0], ys=cubo[1], zs=cubo[2], s=20)  # draw vertices\n",
        "  # draw lines joining the vertices\n",
        "  lines = [[0,1,5,6], [1,2,6,7], [2,3,7,4], [3,0,4,5]]\n",
        "  for line in lines:\n",
        "      grafico.plot([cubo[0,i] for i in line], [cubo[1,i] for i in line], [cubo[2,i] for i in line])"
      ],
      "execution_count": 49,
      "outputs": []
    },
    {
      "cell_type": "code",
      "metadata": {
        "colab": {
          "base_uri": "https://localhost:8080/",
          "height": 248
        },
        "id": "w8YdEiOU2XdV",
        "outputId": "60e62b52-8593-4f61-b2ad-680f7a5ae0f0"
      },
      "source": [
        "fig = plt.figure()\n",
        "SE3().plot(frame='0', dims=[-2,3,0,5,0,5], color='black')\n",
        "grafico = plt.gca()\n",
        "plot_cubo(Q,grafico)\n"
      ],
      "execution_count": 50,
      "outputs": [
        {
          "output_type": "display_data",
          "data": {
            "image/png": "[encoded data removed]",
            "text/plain": [
              "<Figure size 432x288 with 1 Axes>"
            ]
          },
          "metadata": {
            "tags": [],
            "needs_background": "light"
          }
        }
      ]
    }
  ]
}